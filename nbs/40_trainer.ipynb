{
 "cells": [
  {
   "cell_type": "markdown",
   "metadata": {},
   "source": [
    "# training\n",
    "\n",
    "> Training loop"
   ]
  },
  {
   "cell_type": "code",
   "execution_count": null,
   "metadata": {},
   "outputs": [],
   "source": [
    "#|default_exp training"
   ]
  },
  {
   "cell_type": "code",
   "execution_count": null,
   "metadata": {},
   "outputs": [],
   "source": [
    "#|hide\n",
    "%load_ext autoreload\n",
    "%autoreload 2"
   ]
  },
  {
   "cell_type": "code",
   "execution_count": null,
   "metadata": {},
   "outputs": [],
   "source": [
    "#| hide\n",
    "from nbdev.showdoc import *"
   ]
  },
  {
   "cell_type": "code",
   "execution_count": null,
   "metadata": {},
   "outputs": [],
   "source": [
    "#| export\n",
    "from isaacai.utils import *\n",
    "from isaacai.dataloaders import *\n",
    "from isaacai.models import *\n",
    "\n",
    "from datetime import datetime, timedelta\n",
    "import torchvision.transforms.functional as TF,torch.nn.functional as F\n",
    "import math, time\n",
    "\n",
    "import matplotlib.pyplot as plt\n",
    "import matplotlib as mpl\n",
    "import fastcore.all as fc\n",
    "import torch\n",
    "from torch import nn, Tensor\n",
    "from datasets import load_dataset, Dataset\n",
    "from torch.utils.data import DataLoader\n",
    "import pandas as pd , numpy as np\n",
    "from torcheval.metrics import MulticlassAccuracy,Mean\n",
    "\n",
    "import dill as pickle\n",
    "from torch.optim.lr_scheduler import ExponentialLR\n",
    "from fastprogress.fastprogress import master_bar, progress_bar\n",
    "import inspect\n"
   ]
  },
  {
   "cell_type": "code",
   "execution_count": null,
   "metadata": {},
   "outputs": [],
   "source": [
    "#|hide\n",
    "import logging"
   ]
  },
  {
   "cell_type": "code",
   "execution_count": null,
   "metadata": {},
   "outputs": [],
   "source": [
    "#|hide\n",
    "torch.set_printoptions(precision=2, linewidth=140, sci_mode=False)\n",
    "torch.manual_seed(1)\n",
    "mpl.rcParams['image.cmap'] = 'gray'\n",
    "\n",
    "logging.disable(logging.WARNING)\n",
    "\n",
    "set_seed(42)\n"
   ]
  },
  {
   "cell_type": "code",
   "execution_count": null,
   "metadata": {},
   "outputs": [
    {
     "data": {
      "application/json": {
       "ascii": false,
       "bar_format": null,
       "colour": null,
       "elapsed": 0.03130292892456055,
       "initial": 0,
       "n": 0,
       "ncols": null,
       "nrows": null,
       "postfix": null,
       "prefix": "",
       "rate": null,
       "total": 2,
       "unit": "it",
       "unit_divisor": 1000,
       "unit_scale": false
      },
      "application/vnd.jupyter.widget-view+json": {
       "model_id": "a4691ae22cd74e59a1b6d48c95196c36",
       "version_major": 2,
       "version_minor": 0
      },
      "text/plain": [
       "  0%|          | 0/2 [00:00<?, ?it/s]"
      ]
     },
     "metadata": {},
     "output_type": "display_data"
    }
   ],
   "source": [
    "xmean,xstd = 0.28, 0.35\n",
    "@inplace\n",
    "def transformi(b): b['image'] = [(TF.to_tensor(o)-xmean)/xstd for o in b['image']]\n",
    "\n",
    "_dataset = load_dataset('fashion_mnist').with_transform(transformi)\n",
    "_dataset = sample_dataset_dict(_dataset)\n",
    "dls = DataLoaders.from_dataset_dict(_dataset, 64, num_workers=4)"
   ]
  },
  {
   "cell_type": "markdown",
   "metadata": {},
   "source": [
    "## Base Trainer"
   ]
  },
  {
   "cell_type": "code",
   "execution_count": null,
   "metadata": {},
   "outputs": [],
   "source": [
    "#| export\n",
    "class CancelFitException(Exception): pass\n",
    "class CancelBatchException(Exception): pass\n",
    "class CancelEpochException(Exception): pass"
   ]
  },
  {
   "cell_type": "code",
   "execution_count": null,
   "metadata": {},
   "outputs": [],
   "source": [
    "#| export \n",
    "class Trainer:\n",
    "    def subclassing_method(self,**kwargs): pass\n",
    "\n",
    "    def __init__(self, dls, loss_func, opt_func, model, callbacks,**kwargs):\n",
    "        self.add_callbacks(callbacks)\n",
    "        fc.store_attr(but='callbacks')\n",
    "        self.subclassing_method(**kwargs)\n",
    "            \n",
    "    @with_cbs('batch', CancelBatchException)\n",
    "    def one_batch(self):\n",
    "        self.run_callbacks(['predict','get_loss'])\n",
    "        if self.training: self.run_callbacks(['before_backward','backward','step','zero_grad'])\n",
    "    \n",
    "    @with_cbs('epoch',CancelEpochException)\n",
    "    def _one_epoch(self):\n",
    "        for self.batch_num,self.batch in zip(self.batches,self.dl): self.one_batch()\n",
    "\n",
    "    def one_epoch(self, training):\n",
    "        self.model.train(training)\n",
    "        self.dl = self.dls.train if training else self.dls.valid\n",
    "        self.batches = range(len(self.dl))\n",
    "        self._one_epoch()\n",
    "\n",
    "    @with_cbs('fit', CancelFitException)\n",
    "    def _fit(self,train, valid):\n",
    "        for self.epoch in self.epochs: \n",
    "            if train: self.one_epoch(True)\n",
    "            if valid: torch.no_grad()(self.one_epoch)(False)\n",
    "    \n",
    "    def fit(self, n_epochs=3, lr=1e-3, callbacks=None,train=True,valid=True):\n",
    "        callbacks = fc.L(callbacks)\n",
    "        self.add_callbacks(callbacks)\n",
    "        self.opt = self.opt_func(self.model.parameters(), lr)\n",
    "        self.epochs = range(n_epochs)\n",
    "        self._fit(train,valid)\n",
    "        self.callbacks = [o for o in self.callbacks if o not in callbacks]\n",
    "                                                        \n",
    "    @property\n",
    "    def training(self): return self.model.training\n",
    "    \n",
    "    def add_callbacks(self,callbacks,force=False): add_callbacks(self,callbacks,force)\n",
    "\n",
    "    def run_callbacks(self,method_names): \n",
    "        cbs = [getattr(self,o) for o in self.callbacks]\n",
    "        for method_name in fc.L(method_names): run_callbacks(cbs,method_name,self)"
   ]
  },
  {
   "cell_type": "markdown",
   "metadata": {},
   "source": [
    "## Core Callback Functionality"
   ]
  },
  {
   "cell_type": "code",
   "execution_count": null,
   "metadata": {},
   "outputs": [],
   "source": [
    "#| export\n",
    "def init_delegates(trainer,method='subclassing_method'):\n",
    "    '''Decorator to update a subclass init signature based on method'''\n",
    "    trainer.__init__ = fc.delegates(getattr(trainer,method))(copy_func(trainer.__init__))\n",
    "    return trainer   "
   ]
  },
  {
   "cell_type": "code",
   "execution_count": null,
   "metadata": {},
   "outputs": [],
   "source": [
    "#| export\n",
    "class BasicTrainCB:\n",
    "    '''Callback for basic pytorch training loop'''\n",
    "    def predict(self,trainer): trainer.preds = trainer.model(trainer.batch[0])\n",
    "    def get_loss(self,trainer): trainer.loss = trainer.loss_func(trainer.preds,trainer.batch[1])\n",
    "    def backward(self,trainer): trainer.loss.backward()\n",
    "    def step(self,trainer): trainer.opt.step()\n",
    "    def zero_grad(self,trainer): trainer.opt.zero_grad()"
   ]
  },
  {
   "cell_type": "code",
   "execution_count": null,
   "metadata": {},
   "outputs": [],
   "source": [
    "#| export\n",
    "class DeviceCB:\n",
    "    '''Callback to train on specific device'''\n",
    "    def __init__(self, device=def_device): self.device=device\n",
    "    def before_fit(self, trainer):\n",
    "        if hasattr(trainer.model, 'to'): trainer.model.to(self.device)\n",
    "    def before_batch(self, trainer): trainer.batch = to_device(trainer.batch, device=self.device)"
   ]
  },
  {
   "cell_type": "code",
   "execution_count": null,
   "metadata": {},
   "outputs": [],
   "source": [
    "#| export\n",
    "class MetricsCB:\n",
    "    '''Callback to track train/valid loss + metrics'''\n",
    "    def __init__(self, precision=4, **metrics):\n",
    "        self._precision=precision\n",
    "        self.metrics = metrics\n",
    "        self.metrics.update({'train_loss':Mean(),'valid_loss':Mean()})\n",
    "        \n",
    "    def _log(self,x): print(x)\n",
    "    \n",
    "    def after_batch(self,trainer):\n",
    "        self.batch_size = len(trainer.batch[1])\n",
    "        if trainer.training: \n",
    "            self.metrics['train_loss'].update(to_cpu(trainer.loss),weight=self.batch_size)\n",
    "        else: \n",
    "            self.metrics['valid_loss'].update(to_cpu(trainer.loss),weight=self.batch_size)\n",
    "            for name, metric in self.metrics.items():\n",
    "                if name in ('train_loss','valid_loss'): continue\n",
    "                self.metrics[name].update(to_cpu(trainer.preds),to_cpu(trainer.batch[1]))\n",
    "            \n",
    "    def before_epoch(self,trainer):  self._st = datetime.now()\n",
    "    def after_epoch(self,trainer):\n",
    "        # compute metrics and append to epoch stats and display\n",
    "        if not trainer.training:\n",
    "            log = {name:float(metric.compute()) for name, metric in self.metrics.items()}\n",
    "            log['epoch'] = trainer.epoch\n",
    "            log['elapsed'] = datetime.now() - self._st\n",
    "            self._log(log)\n",
    "            [metric.reset() for metric in self.metrics.values()]"
   ]
  },
  {
   "cell_type": "code",
   "execution_count": null,
   "metadata": {},
   "outputs": [],
   "source": [
    "#| export\n",
    "class TrackingCB:\n",
    "    '''Callback to track and store hyperparameters, activation stats, and more'''\n",
    "    def __init__(self):\n",
    "        self._log_epoch,self._log_batch, self._log_fit = [pd.DataFrame()]*3\n",
    "        \n",
    "    def before_fit(self,trainer):\n",
    "        trainer.epochs = master_bar(trainer.epochs)\n",
    "        setattr(getattr(trainer,'MetricsCB'),'_log',self._log)\n",
    "        log = {'model':str(trainer.model),'model_type':str(type(trainer.model)),'model_source':inspect.getsource(trainer.model.__class__)}\n",
    "        log['callbacks'] = str(trainer.callbacks)\n",
    "\n",
    "        for callback in trainer.callbacks:\n",
    "            cb = getattr(trainer,callback)\n",
    "            for cb_attr in dir(cb):\n",
    "                if cb_attr.startswith('_'): continue\n",
    "                if callable(getattr(cb,cb_attr)): continue\n",
    "                log[cb_attr] = str(getattr(cb,cb_attr))\n",
    "        self._log(log)\n",
    "        \n",
    "    def before_epoch(self,trainer):\n",
    "        trainer.batches = progress_bar(trainer.batches,parent=trainer.epochs)\n",
    "        trainer.epochs.child.comment = \"Training\" if trainer.training else \"Validation\"\n",
    "        \n",
    "    def _log(self,x):\n",
    "        x = PPDict(x)        \n",
    "        if 'epoch' in x.keys(): trainer.epochs.write(str(x))\n",
    "        log = pd.DataFrame(x,index=[\"\"])\n",
    "        if 'batch' in x.keys(): self._log_batch = pd.concat([self._log_batch,log])\n",
    "        elif 'epoch' in x.keys(): self._log_epoch = pd.concat([self._log_epoch,log])\n",
    "        else: self._log_fit = pd.concat([self._log_fit,log])\n",
    "        \n",
    "        "
   ]
  },
  {
   "cell_type": "code",
   "execution_count": null,
   "metadata": {},
   "outputs": [],
   "source": [
    "trainer = Trainer(dls,\n",
    "                  nn.CrossEntropyLoss(), \n",
    "                  torch.optim.Adam, \n",
    "                  SimpleNet(28*28,64,10), \n",
    "                  callbacks=[BasicTrainCB(),MetricsCB(accuracy=MulticlassAccuracy()), DeviceCB(),TrackingCB()])"
   ]
  },
  {
   "cell_type": "code",
   "execution_count": null,
   "metadata": {},
   "outputs": [
    {
     "data": {
      "text/html": [
       "\n",
       "<style>\n",
       "    /* Turns off some styling */\n",
       "    progress {\n",
       "        /* gets rid of default border in Firefox and Opera. */\n",
       "        border: none;\n",
       "        /* Needs to be in here for Safari polyfill so background images work as expected. */\n",
       "        background-size: auto;\n",
       "    }\n",
       "    progress:not([value]), progress:not([value])::-webkit-progress-bar {\n",
       "        background: repeating-linear-gradient(45deg, #7e7e7e, #7e7e7e 10px, #5c5c5c 10px, #5c5c5c 20px);\n",
       "    }\n",
       "    .progress-bar-interrupted, .progress-bar-interrupted::-webkit-progress-bar {\n",
       "        background: #F44336;\n",
       "    }\n",
       "</style>\n"
      ],
      "text/plain": [
       "<IPython.core.display.HTML object>"
      ]
     },
     "metadata": {},
     "output_type": "display_data"
    },
    {
     "data": {
      "text/html": [
       "{'accuracy': 0.558, 'train_loss': 1.8708, 'valid_loss': 1.4095, 'epoch': 0, 'elapsed': '0:00:01'}<p>{'accuracy': 0.654, 'train_loss': 1.096, 'valid_loss': 1.0262, 'epoch': 1, 'elapsed': '0:00:01'}<p>{'accuracy': 0.682, 'train_loss': 0.7933, 'valid_loss': 0.8983, 'epoch': 2, 'elapsed': '0:00:01'}"
      ],
      "text/plain": [
       "<IPython.core.display.HTML object>"
      ]
     },
     "metadata": {},
     "output_type": "display_data"
    }
   ],
   "source": [
    "trainer.fit()"
   ]
  },
  {
   "cell_type": "code",
   "execution_count": null,
   "metadata": {},
   "outputs": [],
   "source": [
    "fc.test_eq(trainer.TrackingCB._log_epoch.shape,(3,5))"
   ]
  },
  {
   "cell_type": "markdown",
   "metadata": {},
   "source": [
    "## Subclassing Delegates "
   ]
  },
  {
   "cell_type": "code",
   "execution_count": null,
   "metadata": {},
   "outputs": [],
   "source": [
    "#| export\n",
    "def update_subclass_method_signature(subclass,method_name):\n",
    "    subclass_params = dict(inspect.signature(getattr(subclass,method_name)).parameters)\n",
    "    if 'kwargs' in subclass_params: subclass_params.pop('kwargs')\n",
    "    parent_params = dict(inspect.signature(getattr(subclass.__base__,method_name)).parameters)\n",
    "    parent_params = {k:v for k,v in parent_params.items() if k not in ['self','kwargs']}\n",
    "    for k in parent_params: assert k not in subclass_params\n",
    "    subclass_params.update(parent_params)\n",
    "    getattr(subclass,method_name).__signature__ = inspect.signature(getattr(subclass,method_name)).replace(parameters=subclass_params.values())"
   ]
  },
  {
   "cell_type": "code",
   "execution_count": null,
   "metadata": {},
   "outputs": [],
   "source": [
    "#| export\n",
    "def update_init_method_signature(subclass,method_name):\n",
    "    setattr(subclass,'__init__',copy_func(subclass.__init__))\n",
    "    init_params = dict(inspect.signature(getattr(subclass,'__init__')).parameters)\n",
    "    if 'kwargs' in init_params: init_params.pop('kwargs')\n",
    "    method_params = dict(inspect.signature(getattr(subclass,method_name)).parameters)\n",
    "    method_params = {k:v for k,v in method_params.items() if (k not in ['self','kwargs']) and (k not in init_params)}          \n",
    "    init_params.update(method_params)\n",
    "    getattr(subclass,'__init__').__signature__ = inspect.signature(getattr(subclass,'__init__')).replace(parameters=init_params.values())"
   ]
  },
  {
   "cell_type": "code",
   "execution_count": null,
   "metadata": {},
   "outputs": [],
   "source": [
    "#| export\n",
    "class init_delegates:\n",
    "    def __init__(self, method='subclassing_method'): fc.store_attr()\n",
    "    def __call__(self, c):\n",
    "        update_subclass_method_signature(c, self.method)\n",
    "        update_init_method_signature(c, self.method)        \n",
    "        return c"
   ]
  },
  {
   "cell_type": "markdown",
   "metadata": {},
   "source": [
    "## MomentumTrainer"
   ]
  },
  {
   "cell_type": "code",
   "execution_count": null,
   "metadata": {},
   "outputs": [],
   "source": [
    "#| export\n",
    "class MomentumTrainCB(BasicTrainCB):\n",
    "    def __init__(self,momentum): self.momentum = momentum\n",
    "    def zero_grad(self,trainer): \n",
    "        with torch.no_grad():\n",
    "            for p in trainer.model.parameters(): p.grad *= self.momentum"
   ]
  },
  {
   "cell_type": "code",
   "execution_count": null,
   "metadata": {},
   "outputs": [
    {
     "name": "stdout",
     "output_type": "stream",
     "text": [
      "Init:   (self, dls, loss_func, opt_func, model, callbacks, **kwargs)\n",
      "Method: (self, **kwargs)\n"
     ]
    }
   ],
   "source": [
    "print(f\"Init:   {inspect.signature(Trainer.__init__)}\")\n",
    "print(f\"Method: {inspect.signature(Trainer.subclassing_method)}\")"
   ]
  },
  {
   "cell_type": "code",
   "execution_count": null,
   "metadata": {},
   "outputs": [],
   "source": [
    "#| export\n",
    "@init_delegates()\n",
    "class MomentumTrainer(Trainer):\n",
    "    def subclassing_method(self,momentum=0.85,**kwargs):\n",
    "        super().subclassing_method(**kwargs)\n",
    "        self.add_callbacks([MomentumTrainCB(momentum),DeviceCB(),TrackingCB()])"
   ]
  },
  {
   "cell_type": "code",
   "execution_count": null,
   "metadata": {},
   "outputs": [
    {
     "name": "stdout",
     "output_type": "stream",
     "text": [
      "Init:   (self, dls, loss_func, opt_func, model, callbacks, momentum=0.85)\n",
      "Method: (self, momentum=0.85)\n"
     ]
    }
   ],
   "source": [
    "print(f\"Init:   {inspect.signature(MomentumTrainer.__init__)}\")\n",
    "print(f\"Method: {inspect.signature(MomentumTrainer.subclassing_method)}\")"
   ]
  },
  {
   "cell_type": "code",
   "execution_count": null,
   "metadata": {},
   "outputs": [],
   "source": [
    "@init_delegates()\n",
    "class MomentumTrainer2(MomentumTrainer):\n",
    "    def subclassing_method(self,momentum2=0.65,**kwargs):\n",
    "        super().subclassing_method(**kwargs)\n",
    "        self.add_callbacks([MomentumTrainCB(momentum2),DeviceCB(),TrackingCB()],force=True)"
   ]
  },
  {
   "cell_type": "code",
   "execution_count": null,
   "metadata": {},
   "outputs": [
    {
     "name": "stdout",
     "output_type": "stream",
     "text": [
      "Init:   (self, dls, loss_func, opt_func, model, callbacks, momentum=0.85, momentum2=0.65)\n",
      "Method: (self, momentum2=0.65, momentum=0.85)\n"
     ]
    }
   ],
   "source": [
    "print(f\"Init:   {inspect.signature(MomentumTrainer2.__init__)}\")\n",
    "print(f\"Method: {inspect.signature(MomentumTrainer2.subclassing_method)}\")"
   ]
  },
  {
   "cell_type": "code",
   "execution_count": null,
   "metadata": {},
   "outputs": [],
   "source": [
    "@init_delegates()\n",
    "class MomentumTrainer3(MomentumTrainer2):\n",
    "    def subclassing_method(self,momentum3=0.65,**kwargs):\n",
    "        super().subclassing_method(**kwargs)\n",
    "        self.add_callbacks([MomentumTrainCB(momentum3),DeviceCB(),TrackingCB()],force=True)"
   ]
  },
  {
   "cell_type": "code",
   "execution_count": null,
   "metadata": {},
   "outputs": [
    {
     "name": "stdout",
     "output_type": "stream",
     "text": [
      "Init:   (self, dls, loss_func, opt_func, model, callbacks, momentum=0.85, momentum2=0.65, momentum3=0.65)\n",
      "Method: (self, momentum3=0.65, momentum2=0.65, momentum=0.85)\n"
     ]
    }
   ],
   "source": [
    "print(f\"Init:   {inspect.signature(MomentumTrainer3.__init__)}\")\n",
    "print(f\"Method: {inspect.signature(MomentumTrainer3.subclassing_method)}\")"
   ]
  },
  {
   "cell_type": "code",
   "execution_count": null,
   "metadata": {},
   "outputs": [],
   "source": [
    "trainer = MomentumTrainer3(dls,\n",
    "                  nn.CrossEntropyLoss(), \n",
    "                  torch.optim.SGD, \n",
    "                  SimpleNet(28*28,64,10), \n",
    "                  callbacks=[MetricsCB(Accuracy=MulticlassAccuracy())])"
   ]
  },
  {
   "cell_type": "code",
   "execution_count": null,
   "metadata": {},
   "outputs": [
    {
     "data": {
      "text/html": [
       "\n",
       "<style>\n",
       "    /* Turns off some styling */\n",
       "    progress {\n",
       "        /* gets rid of default border in Firefox and Opera. */\n",
       "        border: none;\n",
       "        /* Needs to be in here for Safari polyfill so background images work as expected. */\n",
       "        background-size: auto;\n",
       "    }\n",
       "    progress:not([value]), progress:not([value])::-webkit-progress-bar {\n",
       "        background: repeating-linear-gradient(45deg, #7e7e7e, #7e7e7e 10px, #5c5c5c 10px, #5c5c5c 20px);\n",
       "    }\n",
       "    .progress-bar-interrupted, .progress-bar-interrupted::-webkit-progress-bar {\n",
       "        background: #F44336;\n",
       "    }\n",
       "</style>\n"
      ],
      "text/plain": [
       "<IPython.core.display.HTML object>"
      ]
     },
     "metadata": {},
     "output_type": "display_data"
    },
    {
     "data": {
      "text/html": [
       "{'Accuracy': 0.14, 'train_loss': 2.2965, 'valid_loss': 2.246, 'epoch': 0, 'elapsed': '0:00:01'}<p>{'Accuracy': 0.238, 'train_loss': 2.2218, 'valid_loss': 2.1775, 'epoch': 1, 'elapsed': '0:00:01'}<p>{'Accuracy': 0.33, 'train_loss': 2.1509, 'valid_loss': 2.1144, 'epoch': 2, 'elapsed': '0:00:01'}"
      ],
      "text/plain": [
       "<IPython.core.display.HTML object>"
      ]
     },
     "metadata": {},
     "output_type": "display_data"
    }
   ],
   "source": [
    "trainer.fit()"
   ]
  },
  {
   "cell_type": "markdown",
   "metadata": {},
   "source": [
    "## Learning Rate Finder"
   ]
  },
  {
   "cell_type": "code",
   "execution_count": null,
   "metadata": {},
   "outputs": [],
   "source": [
    "#| export\n",
    "def retrieve_global_name(var):\n",
    "    callers_local_vars = inspect.currentframe().f_back.f_back.f_locals.items()\n",
    "    return [var_name for var_name, var_val in callers_local_vars if var_val is var]"
   ]
  },
  {
   "cell_type": "code",
   "execution_count": null,
   "metadata": {},
   "outputs": [],
   "source": [
    "#| export\n",
    "class LRFinderCB:\n",
    "    order = 1\n",
    "    def __init__(self,lr_mult=1.3): fc.store_attr()\n",
    "    \n",
    "    def before_fit(self,trainer):\n",
    "        pickle.dump(trainer,open('_tmp.pkl','wb'),protocol=pickle.HIGHEST_PROTOCOL)\n",
    "        self.scheduler = ExponentialLR(optimizer=trainer.opt,gamma=self.lr_mult)\n",
    "        self.lrs, self.losses = fc.L(), fc.L()\n",
    "        self.min = math.inf\n",
    "        \n",
    "    def before_batch(self,trainer):\n",
    "        if not trainer.training: raise CancelEpochException()\n",
    "        \n",
    "    def after_batch(self,trainer):\n",
    "        self.lrs.append(trainer.opt.param_groups[0]['lr'])\n",
    "        loss = to_cpu(trainer.loss)\n",
    "        self.losses.append(loss)        \n",
    "        if loss < self.min: self.min = loss\n",
    "        if loss > self.min * 3: raise CancelEpochException()\n",
    "        self.scheduler.step()\n",
    "        \n",
    "    def after_fit(self,_):\n",
    "        plt.figure(figsize=(12,4))\n",
    "        plt.plot(self.lrs,self.losses)\n",
    "        plt.xscale('log')\n",
    "        plt.title('Learning Rate Finder'); plt.xlabel('Learning Rate'); plt.ylabel('Losses') \n",
    "        plt.show()\n",
    "        \n",
    "    def cleanup_fit(self,trainer):\n",
    "        _name = retrieve_global_name(trainer)\n",
    "        globals()[_name[0]] = pickle.load(open('_tmp.pkl','rb'))"
   ]
  },
  {
   "cell_type": "code",
   "execution_count": null,
   "metadata": {},
   "outputs": [],
   "source": [
    "trainer = MomentumTrainer(dls,\n",
    "                  nn.CrossEntropyLoss(), \n",
    "                  torch.optim.SGD, \n",
    "                  SimpleNet(28*28,64,10), \n",
    "                  callbacks=[MetricsCB(Accuracy=MulticlassAccuracy())])"
   ]
  },
  {
   "cell_type": "code",
   "execution_count": null,
   "metadata": {},
   "outputs": [
    {
     "data": {
      "text/html": [
       "\n",
       "<style>\n",
       "    /* Turns off some styling */\n",
       "    progress {\n",
       "        /* gets rid of default border in Firefox and Opera. */\n",
       "        border: none;\n",
       "        /* Needs to be in here for Safari polyfill so background images work as expected. */\n",
       "        background-size: auto;\n",
       "    }\n",
       "    progress:not([value]), progress:not([value])::-webkit-progress-bar {\n",
       "        background: repeating-linear-gradient(45deg, #7e7e7e, #7e7e7e 10px, #5c5c5c 10px, #5c5c5c 20px);\n",
       "    }\n",
       "    .progress-bar-interrupted, .progress-bar-interrupted::-webkit-progress-bar {\n",
       "        background: #F44336;\n",
       "    }\n",
       "</style>\n"
      ],
      "text/plain": [
       "<IPython.core.display.HTML object>"
      ]
     },
     "metadata": {},
     "output_type": "display_data"
    },
    {
     "data": {
      "text/html": [],
      "text/plain": [
       "<IPython.core.display.HTML object>"
      ]
     },
     "metadata": {},
     "output_type": "display_data"
    },
    {
     "data": {
      "image/png": "[encoded data removed]",
      "text/plain": [
       "<Figure size 864x288 with 1 Axes>"
      ]
     },
     "metadata": {
      "needs_background": "light"
     },
     "output_type": "display_data"
    }
   ],
   "source": [
    "trainer.fit(callbacks=[LRFinderCB()])"
   ]
  },
  {
   "cell_type": "code",
   "execution_count": null,
   "metadata": {},
   "outputs": [],
   "source": [
    "#| hide\n",
    "import nbdev; nbdev.nbdev_export()"
   ]
  },
  {
   "cell_type": "code",
   "execution_count": null,
   "metadata": {},
   "outputs": [],
   "source": []
  }
 ],
 "metadata": {
  "kernelspec": {
   "display_name": "python3",
   "language": "python",
   "name": "python3"
  }
 },
 "nbformat": 4,
 "nbformat_minor": 4
}
