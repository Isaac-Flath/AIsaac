{
 "cells": [
  {
   "cell_type": "markdown",
   "id": "bc9468c6-8e6c-41ea-956d-d5c696a53c47",
   "metadata": {},
   "source": [
    "# Training a model"
   ]
  },
  {
   "cell_type": "code",
   "execution_count": null,
   "id": "2f594281-a7ae-4d33-ab41-de55b0b95765",
   "metadata": {},
   "outputs": [],
   "source": [
    "import isaacai.all as ia\n",
    "import torch\n",
    "from torch import nn\n",
    "from torch import Tensor\n",
    "\n",
    "import pandas as pd \n",
    "import numpy as np\n",
    "\n",
    "from torcheval.metrics import MulticlassAccuracy"
   ]
  },
  {
   "cell_type": "code",
   "execution_count": null,
   "id": "6678f105-470e-4eea-9e21-24a97bf8cf19",
   "metadata": {},
   "outputs": [
    {
     "name": "stderr",
     "output_type": "stream",
     "text": [
      "Found cached dataset fashion_mnist (/Users/isaacflath/.cache/huggingface/datasets/fashion_mnist/fashion_mnist/1.0.0/8d6c32399aa01613d96e2cbc9b13638f359ef62bb33612b077b4c247f6ef99c1)\n"
     ]
    },
    {
     "data": {
      "application/vnd.jupyter.widget-view+json": {
       "model_id": "0aff2f0eea5d4a588b40ba94a07dd689",
       "version_major": 2,
       "version_minor": 0
      },
      "text/plain": [
       "  0%|          | 0/2 [00:00<?, ?it/s]"
      ]
     },
     "metadata": {},
     "output_type": "display_data"
    }
   ],
   "source": [
    "dls = ia.DataLoaders(*ia.load_fashion_mnist(sample=500))\n",
    "dls.x_name,dls.y_name = 'image','label'"
   ]
  },
  {
   "cell_type": "code",
   "execution_count": null,
   "id": "423d2b20-5111-4a6e-babb-b8f8f8f3e08d",
   "metadata": {},
   "outputs": [],
   "source": [
    "model = ia.SimpleNet(784,64,10)\n",
    "loss_func = nn.CrossEntropyLoss()\n",
    "opt = torch.optim.Adam(model.parameters(), lr=1e-3)"
   ]
  },
  {
   "cell_type": "code",
   "execution_count": null,
   "id": "59cc1745-8b26-4070-b625-e17f4fb31c51",
   "metadata": {},
   "outputs": [],
   "source": [
    "trainer = ia.Trainer(dls,loss_func, opt,model, \n",
    "                     callbacks=[ia.ProgressCB(Accuracy=MulticlassAccuracy())])"
   ]
  },
  {
   "cell_type": "code",
   "execution_count": null,
   "id": "47a5ae93-f738-4539-bf9d-28ca3d8602d6",
   "metadata": {},
   "outputs": [],
   "source": [
    "trainer.fit(3)"
   ]
  },
  {
   "cell_type": "code",
   "execution_count": null,
   "id": "4abf4428-db2e-4e71-a7c9-be49759fab40",
   "metadata": {},
   "outputs": [],
   "source": []
  }
 ],
 "metadata": {
  "kernelspec": {
   "display_name": "Python 3 (ipykernel)",
   "language": "python",
   "name": "python3"
  }
 },
 "nbformat": 4,
 "nbformat_minor": 5
}
