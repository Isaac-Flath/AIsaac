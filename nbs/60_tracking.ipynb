{
 "cells": [
  {
   "cell_type": "markdown",
   "id": "081a3625-d896-483f-a577-0977d19a2377",
   "metadata": {},
   "source": [
    "# training\n",
    "\n",
    "> Training loop"
   ]
  },
  {
   "cell_type": "code",
   "execution_count": null,
   "id": "8deb3ba3-3fd2-498f-99df-5fb6ca548f6c",
   "metadata": {},
   "outputs": [],
   "source": [
    "#|default_exp tracking"
   ]
  },
  {
   "cell_type": "code",
   "execution_count": null,
   "id": "0fc3661c-dcda-4811-a35f-c3bfd9747bda",
   "metadata": {},
   "outputs": [],
   "source": [
    "#|hide\n",
    "%load_ext autoreload\n",
    "%autoreload 2"
   ]
  },
  {
   "cell_type": "code",
   "execution_count": null,
   "id": "2922bf92-75c5-498a-a2c2-bab51713395d",
   "metadata": {},
   "outputs": [],
   "source": [
    "#| hide\n",
    "from nbdev.showdoc import *"
   ]
  },
  {
   "cell_type": "code",
   "execution_count": null,
   "id": "587c20bb-5b80-4b21-95e6-f548a21476c2",
   "metadata": {},
   "outputs": [],
   "source": [
    "#| export\n",
    "from isaacai.utils import *\n",
    "from isaacai.dataloaders import *\n",
    "from isaacai.models import *\n",
    "from isaacai.training import *\n",
    "import inspect\n",
    "\n",
    "from datetime import datetime\n",
    "import torchvision.transforms.functional as TF,torch.nn.functional as F\n",
    "\n",
    "import matplotlib.pyplot as plt,matplotlib as mpl\n",
    "import fastcore.all as fc\n",
    "import torch\n",
    "from torch import nn, Tensor\n",
    "from datasets import load_dataset, Dataset\n",
    "from torch.utils.data import DataLoader\n",
    "import pandas as pd , numpy as np\n",
    "from torcheval.metrics import MulticlassAccuracy,Mean\n",
    "\n",
    "import sqlite3\n",
    "from pathlib import Path\n",
    "import pandas as pd"
   ]
  },
  {
   "cell_type": "code",
   "execution_count": null,
   "id": "9e55c715-174d-4b34-820c-7aefe878ba5d",
   "metadata": {},
   "outputs": [],
   "source": [
    "torch.set_printoptions(precision=2, linewidth=140, sci_mode=False)\n",
    "torch.manual_seed(1)\n",
    "mpl.rcParams['image.cmap'] = 'gray'\n",
    "\n",
    "import logging\n",
    "logging.disable(logging.WARNING)\n",
    "\n",
    "set_seed(42)\n",
    "from IPython.display import clear_output"
   ]
  },
  {
   "cell_type": "code",
   "execution_count": null,
   "id": "7b48a140-43fd-427c-a0e7-1739bab46f7a",
   "metadata": {},
   "outputs": [],
   "source": [
    "xmean,xstd = 0.28, 0.35\n",
    "@inplace\n",
    "def transformi(b): b['image'] = [(TF.to_tensor(o)-xmean)/xstd for o in b['image']]\n",
    "\n",
    "_dataset = load_dataset('fashion_mnist').with_transform(transformi)\n",
    "_dataset = sample_dataset_dict(_dataset)\n",
    "dls = DataLoaders.from_dataset_dict(_dataset, 64, num_workers=4)\n",
    "clear_output()"
   ]
  },
  {
   "cell_type": "code",
   "execution_count": null,
   "id": "664d9b76-a350-471a-b964-13e4661ae72a",
   "metadata": {},
   "outputs": [],
   "source": [
    "#| export\n",
    "def sql_connect(path): return sqlite3.connect(path)"
   ]
  },
  {
   "cell_type": "code",
   "execution_count": null,
   "id": "393f9a30-01ae-494d-a81c-c0b578a4e21f",
   "metadata": {},
   "outputs": [],
   "source": [
    "#| export\n",
    "class TrackingCB:\n",
    "    def __init__(self, db_path,exp_name):\n",
    "        self._exp_name = exp_name\n",
    "        self._con = sql_connect(db_path)\n",
    "        self._log_epoch,self._log_batch, self._log_fit = [pd.DataFrame()]*3\n",
    "        \n",
    "    def before_fit(self,trainer):\n",
    "        if getattr(trainer,'MetricsCB',None) is not None: setattr(getattr(trainer,'MetricsCB'),'_log',self._log)\n",
    "        log = {'model':str(trainer.model),'model_type':str(type(trainer.model)),'model_source':inspect.getsource(trainer.model.__class__)}\n",
    "        log['callbacks'] = str(trainer.callbacks)\n",
    "\n",
    "        for callback in trainer.callbacks:\n",
    "            cb = getattr(trainer,callback)\n",
    "            cb_attrs = dir(cb)\n",
    "            for cb_attr in cb_attrs:\n",
    "                if cb_attr.startswith('_'): continue\n",
    "                if not callable(getattr(cb,cb_attr)): log[cb_attr] = str(getattr(cb,cb_attr))\n",
    "        self._log(log)\n",
    "        \n",
    "    def _log(self,x):\n",
    "        x['insert_timestamp'] = datetime.now()\n",
    "        x['exp_name'] = self._exp_name\n",
    "        log = pd.DataFrame(x,index=[\"\"])\n",
    "        if 'batch' in x.keys(): self._log_batch = pd.concat([self._log_batch,log])\n",
    "        elif 'epoch' in x.keys(): self._log_epoch = pd.concat([self._log_epoch,log])\n",
    "        else: self._log_fit = pd.concat([self._log_fit,log])\n",
    "        \n",
    "    \n",
    "    def after_fit(self, trainer):\n",
    "        self._log_batch.to_sql('batch_stats', self._con, if_exists='append')\n",
    "        self._log_epoch.to_sql('epoch_stats', self._con, if_exists='append')\n",
    "        self._log_fit.to_sql('fit_stats', self._con, if_exists='append')\n"
   ]
  },
  {
   "cell_type": "code",
   "execution_count": null,
   "id": "ef29dd8e-5ed3-4a2d-8474-2cb87aa6866f",
   "metadata": {},
   "outputs": [],
   "source": [
    "trainer = Trainer(dls,\n",
    "                  nn.CrossEntropyLoss(), \n",
    "                  torch.optim.Adam, \n",
    "                  SimpleNet(28*28,64,10), \n",
    "                  callbacks=[MomentumTrainCB(.85),MetricsCB(accuracy=MulticlassAccuracy()), DeviceCB(),\n",
    "                             TrackingCB(Path('../exp_tracker'),'test_exp1')])"
   ]
  },
  {
   "cell_type": "code",
   "execution_count": null,
   "id": "11b56f63-0baa-4006-a82c-9e1b7b0f6f2d",
   "metadata": {},
   "outputs": [],
   "source": [
    "trainer.fit()"
   ]
  },
  {
   "cell_type": "code",
   "execution_count": null,
   "id": "a7084c55-0e1d-4152-b2f3-3b2f260a2c35",
   "metadata": {},
   "outputs": [
    {
     "data": {
      "text/html": [
       "<div>\n",
       "<style scoped>\n",
       "    .dataframe tbody tr th:only-of-type {\n",
       "        vertical-align: middle;\n",
       "    }\n",
       "\n",
       "    .dataframe tbody tr th {\n",
       "        vertical-align: top;\n",
       "    }\n",
       "\n",
       "    .dataframe thead th {\n",
       "        text-align: right;\n",
       "    }\n",
       "</style>\n",
       "<table border=\"1\" class=\"dataframe\">\n",
       "  <thead>\n",
       "    <tr style=\"text-align: right;\">\n",
       "      <th></th>\n",
       "      <th>accuracy</th>\n",
       "      <th>train_loss</th>\n",
       "      <th>valid_loss</th>\n",
       "      <th>epoch</th>\n",
       "      <th>elapsed</th>\n",
       "      <th>insert_timestamp</th>\n",
       "      <th>exp_name</th>\n",
       "    </tr>\n",
       "  </thead>\n",
       "  <tbody>\n",
       "    <tr>\n",
       "      <th></th>\n",
       "      <td>0.596</td>\n",
       "      <td>1.795199</td>\n",
       "      <td>1.267658</td>\n",
       "      <td>0</td>\n",
       "      <td>0 days 00:00:00.388058</td>\n",
       "      <td>2023-02-14 01:24:38.283150</td>\n",
       "      <td>test_exp1</td>\n",
       "    </tr>\n",
       "    <tr>\n",
       "      <th></th>\n",
       "      <td>0.592</td>\n",
       "      <td>1.018322</td>\n",
       "      <td>1.117246</td>\n",
       "      <td>1</td>\n",
       "      <td>0 days 00:00:00.366744</td>\n",
       "      <td>2023-02-14 01:24:38.651088</td>\n",
       "      <td>test_exp1</td>\n",
       "    </tr>\n",
       "    <tr>\n",
       "      <th></th>\n",
       "      <td>0.656</td>\n",
       "      <td>0.861313</td>\n",
       "      <td>0.956027</td>\n",
       "      <td>2</td>\n",
       "      <td>0 days 00:00:00.359158</td>\n",
       "      <td>2023-02-14 01:24:39.011897</td>\n",
       "      <td>test_exp1</td>\n",
       "    </tr>\n",
       "  </tbody>\n",
       "</table>\n",
       "</div>"
      ],
      "text/plain": [
       "  accuracy  train_loss  valid_loss  epoch                elapsed  \\\n",
       "     0.596    1.795199    1.267658      0 0 days 00:00:00.388058   \n",
       "     0.592    1.018322    1.117246      1 0 days 00:00:00.366744   \n",
       "     0.656    0.861313    0.956027      2 0 days 00:00:00.359158   \n",
       "\n",
       "           insert_timestamp   exp_name  \n",
       " 2023-02-14 01:24:38.283150  test_exp1  \n",
       " 2023-02-14 01:24:38.651088  test_exp1  \n",
       " 2023-02-14 01:24:39.011897  test_exp1  "
      ]
     },
     "execution_count": null,
     "metadata": {},
     "output_type": "execute_result"
    }
   ],
   "source": [
    "trainer.TrackingCB._log_epoch"
   ]
  },
  {
   "cell_type": "code",
   "execution_count": null,
   "id": "b02dca72-2b64-4ec2-afca-9ce723c09ba5",
   "metadata": {},
   "outputs": [],
   "source": [
    "#| hide\n",
    "import nbdev; nbdev.nbdev_export()"
   ]
  },
  {
   "cell_type": "code",
   "execution_count": null,
   "id": "e6080869-d352-4bb6-9184-e0d61fdd8d0d",
   "metadata": {},
   "outputs": [],
   "source": []
  },
  {
   "cell_type": "code",
   "execution_count": null,
   "id": "36ffff10-3f77-4d55-bc6a-2710ae1c6f0e",
   "metadata": {},
   "outputs": [],
   "source": []
  }
 ],
 "metadata": {
  "kernelspec": {
   "display_name": "Python 3",
   "language": "python",
   "name": "python3"
  }
 },
 "nbformat": 4,
 "nbformat_minor": 5
}
