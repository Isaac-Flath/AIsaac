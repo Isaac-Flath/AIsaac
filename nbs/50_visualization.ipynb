{
 "cells": [
  {
   "cell_type": "markdown",
   "id": "3fe7dadc-68fe-498b-8194-de09883146fd",
   "metadata": {},
   "source": [
    "# visalizations\n",
    "\n",
    "> Visualizations to help understand what's going on"
   ]
  },
  {
   "cell_type": "code",
   "execution_count": null,
   "id": "295da017-4335-498f-adbe-42841ee30cc5",
   "metadata": {},
   "outputs": [],
   "source": [
    "#|default_exp visualizations"
   ]
  },
  {
   "cell_type": "code",
   "execution_count": null,
   "id": "1a8b9ff3-cf09-45ec-a5b3-7f250bb46fdc",
   "metadata": {},
   "outputs": [],
   "source": [
    "#|hide\n",
    "%load_ext autoreload\n",
    "%autoreload 2"
   ]
  },
  {
   "cell_type": "code",
   "execution_count": null,
   "id": "cde0424b-8e2d-4f3c-8158-f8aff4fdf5a4",
   "metadata": {},
   "outputs": [],
   "source": [
    "#| hide\n",
    "from nbdev.showdoc import *"
   ]
  },
  {
   "cell_type": "code",
   "execution_count": null,
   "id": "3e7488f9-5a76-4c48-b6e5-1bf02477ea4e",
   "metadata": {},
   "outputs": [],
   "source": [
    "#| export\n",
    "import fastcore.all as fc\n",
    "\n",
    "from isaacai.utils import *\n",
    "from isaacai.dataloaders import *\n",
    "from isaacai.models import *\n",
    "from isaacai.training import *\n",
    "import torch.nn as nn\n",
    "import torch\n",
    "\n",
    "from torcheval.metrics import MulticlassAccuracy\n"
   ]
  },
  {
   "cell_type": "code",
   "execution_count": null,
   "id": "adb58c35-1d1b-4c41-93ea-f9720c49449f",
   "metadata": {},
   "outputs": [
    {
     "name": "stderr",
     "output_type": "stream",
     "text": [
      "Found cached dataset fashion_mnist (/home/.cache/huggingface/datasets/fashion_mnist/fashion_mnist/1.0.0/8d6c32399aa01613d96e2cbc9b13638f359ef62bb33612b077b4c247f6ef99c1)\n"
     ]
    },
    {
     "data": {
      "application/json": {
       "ascii": false,
       "bar_format": null,
       "colour": null,
       "elapsed": 0.034621238708496094,
       "initial": 0,
       "n": 0,
       "ncols": null,
       "nrows": null,
       "postfix": null,
       "prefix": "",
       "rate": null,
       "total": 2,
       "unit": "it",
       "unit_divisor": 1000,
       "unit_scale": false
      },
      "application/vnd.jupyter.widget-view+json": {
       "model_id": "81c0a4f1b66941f8824d328894da05eb",
       "version_major": 2,
       "version_minor": 0
      },
      "text/plain": [
       "  0%|          | 0/2 [00:00<?, ?it/s]"
      ]
     },
     "metadata": {},
     "output_type": "display_data"
    },
    {
     "data": {
      "text/plain": [
       "(13, 4, 79)"
      ]
     },
     "execution_count": null,
     "metadata": {},
     "output_type": "execute_result"
    }
   ],
   "source": [
    "dls = DataLoaders(*load_fashion_mnist(sample=2000,batch_size=128))\n",
    "dls.x_name,dls.y_name = 'image','label'\n",
    "len(dls.train), len(dls.valid),len(dls.test)"
   ]
  },
  {
   "cell_type": "code",
   "execution_count": null,
   "id": "bc7ef9a6-4f39-4ba2-8346-344e1e3368e3",
   "metadata": {},
   "outputs": [],
   "source": [
    "trainer = Trainer(dls,\n",
    "                  nn.CrossEntropyLoss(), \n",
    "                  torch.optim.Adam, \n",
    "                  SimpleNet(784,64,10), \n",
    "                  callbacks=[ProgressCB(Accuracy=MulticlassAccuracy()), DeviceCB()])"
   ]
  },
  {
   "cell_type": "code",
   "execution_count": null,
   "id": "500e14ba-62bd-4284-a25e-f5e2def1538e",
   "metadata": {},
   "outputs": [
    {
     "name": "stdout",
     "output_type": "stream",
     "text": [
      "{'epoch': 0, 'train_loss': 1.9384, 'valid_loss': 1.508, 'Accuracy': 0.682, 'elapsed': '0:00:00.680760'}\n",
      "{'epoch': 1, 'train_loss': 1.2779, 'valid_loss': 0.9904, 'Accuracy': 0.682, 'elapsed': '0:00:00.684256'}\n",
      "{'epoch': 2, 'train_loss': 0.9702, 'valid_loss': 0.8409, 'Accuracy': 0.7209, 'elapsed': '0:00:00.682789'}\n"
     ]
    }
   ],
   "source": [
    "trainer.fit()"
   ]
  },
  {
   "cell_type": "markdown",
   "id": "82354345-17bd-4a5b-90d4-488e03a46883",
   "metadata": {},
   "source": [
    "+ Color Dim\n",
    "+ Dead Chart\n",
    "+ Plot Stats"
   ]
  },
  {
   "cell_type": "code",
   "execution_count": null,
   "id": "0ca0f34c-04d1-4c69-b8df-80081a7ab05c",
   "metadata": {},
   "outputs": [],
   "source": [
    "class ActivationStatsCB:\n",
    "    \n",
    "    def color_dim(self): pass\n",
    "    def dead_chart(self): pass\n",
    "    def plot_stats(self): pass"
   ]
  },
  {
   "cell_type": "code",
   "execution_count": null,
   "id": "8da45913-9d29-4fac-9898-41f2324424e1",
   "metadata": {},
   "outputs": [],
   "source": [
    "@patch\n",
    "def plot_loss(self:Trainer): pass"
   ]
  },
  {
   "cell_type": "code",
   "execution_count": null,
   "id": "aab48f54-8845-447e-8228-d58802ab13b4",
   "metadata": {},
   "outputs": [
    {
     "data": {
      "text/plain": [
       "[<isaacai.training.ProgressCB>,\n",
       " <isaacai.training.DeviceCB>]"
      ]
     },
     "execution_count": null,
     "metadata": {},
     "output_type": "execute_result"
    }
   ],
   "source": [
    "trainer.callbacks"
   ]
  },
  {
   "cell_type": "code",
   "execution_count": null,
   "id": "1bdd3f19-2d8d-42c6-be34-42d557929156",
   "metadata": {},
   "outputs": [],
   "source": []
  }
 ],
 "metadata": {
  "kernelspec": {
   "display_name": "Python 3",
   "language": "python",
   "name": "python3"
  }
 },
 "nbformat": 4,
 "nbformat_minor": 5
}
