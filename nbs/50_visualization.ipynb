{
 "cells": [
  {
   "cell_type": "markdown",
   "id": "3fe7dadc-68fe-498b-8194-de09883146fd",
   "metadata": {},
   "source": [
    "# visalizations\n",
    "\n",
    "> Visualizations to help understand what's going on"
   ]
  },
  {
   "cell_type": "code",
   "execution_count": null,
   "id": "295da017-4335-498f-adbe-42841ee30cc5",
   "metadata": {},
   "outputs": [],
   "source": [
    "#|default_exp visualizations"
   ]
  },
  {
   "cell_type": "code",
   "execution_count": null,
   "id": "1a8b9ff3-cf09-45ec-a5b3-7f250bb46fdc",
   "metadata": {},
   "outputs": [],
   "source": [
    "#|hide\n",
    "%load_ext autoreload\n",
    "%autoreload 2"
   ]
  },
  {
   "cell_type": "code",
   "execution_count": null,
   "id": "cde0424b-8e2d-4f3c-8158-f8aff4fdf5a4",
   "metadata": {},
   "outputs": [],
   "source": [
    "#| hide\n",
    "from nbdev.showdoc import *"
   ]
  },
  {
   "cell_type": "code",
   "execution_count": null,
   "id": "3e7488f9-5a76-4c48-b6e5-1bf02477ea4e",
   "metadata": {},
   "outputs": [],
   "source": [
    "#| export\n",
    "import fastcore.all as fc\n",
    "\n",
    "from isaacai.utils import *\n",
    "from isaacai.dataloaders import *\n",
    "from isaacai.models import *\n",
    "from isaacai.training import *\n",
    "import torch.nn as nn\n",
    "import torch\n",
    "import matplotlib.pyplot as plt,matplotlib as mpl\n",
    "from datasets import load_dataset, Dataset\n",
    "import torchvision.transforms.functional as TF,torch.nn.functional as F\n",
    "\n",
    "from torcheval.metrics import MulticlassAccuracy\n",
    "from IPython.display import clear_output"
   ]
  },
  {
   "cell_type": "code",
   "execution_count": null,
   "id": "1a860278-7a7d-477e-b755-ae7aad038b98",
   "metadata": {},
   "outputs": [],
   "source": [
    "torch.set_printoptions(precision=2, linewidth=140, sci_mode=False)\n",
    "torch.manual_seed(1)\n",
    "mpl.rcParams['image.cmap'] = 'gray'\n",
    "\n",
    "import logging\n",
    "logging.disable(logging.WARNING)\n",
    "\n",
    "set_seed(42)"
   ]
  },
  {
   "cell_type": "code",
   "execution_count": null,
   "id": "ccbc2f96-0226-4454-8b73-6fbfa287af5b",
   "metadata": {},
   "outputs": [],
   "source": [
    "xmean,xstd = 0.28, 0.35\n",
    "@inplace\n",
    "def transformi(b): b['image'] = [(TF.to_tensor(o)-xmean)/xstd for o in b['image']]\n",
    "\n",
    "_dataset = load_dataset('fashion_mnist').with_transform(transformi)\n",
    "_dataset = sample_dataset_dict(_dataset)\n",
    "dls = DataLoaders.from_dataset_dict(_dataset, 64, num_workers=4)\n",
    "clear_output()"
   ]
  },
  {
   "cell_type": "code",
   "execution_count": null,
   "id": "500e14ba-62bd-4284-a25e-f5e2def1538e",
   "metadata": {},
   "outputs": [
    {
     "name": "stdout",
     "output_type": "stream",
     "text": [
      "{'Accuracy': 0.57, 'train_loss': 1.8196, 'valid_loss': 1.3241, 'epoch': 0, 'elapsed': '0:00:01.196352'}\n",
      "{'Accuracy': 0.66, 'train_loss': 1.1201, 'valid_loss': 1.0177, 'epoch': 1, 'elapsed': '0:00:00.412935'}\n",
      "{'Accuracy': 0.706, 'train_loss': 0.8555, 'valid_loss': 0.8694, 'epoch': 2, 'elapsed': '0:00:00.413058'}\n"
     ]
    }
   ],
   "source": [
    "trainer = Trainer(dls,\n",
    "                  nn.CrossEntropyLoss(), \n",
    "                  torch.optim.Adam, \n",
    "                  SimpleNet(28*28,64,10), \n",
    "                  callbacks=[BasicTrainCB(),MetricsCB(Accuracy=MulticlassAccuracy()), DeviceCB()])\n",
    "trainer.fit()"
   ]
  },
  {
   "cell_type": "markdown",
   "id": "82354345-17bd-4a5b-90d4-488e03a46883",
   "metadata": {},
   "source": [
    "+ Color Dim\n",
    "+ Dead Chart\n",
    "+ Plot Stats"
   ]
  },
  {
   "cell_type": "code",
   "execution_count": null,
   "id": "0ca0f34c-04d1-4c69-b8df-80081a7ab05c",
   "metadata": {},
   "outputs": [],
   "source": [
    "class ActivationStatsCB:\n",
    "    \n",
    "    def color_dim(self): pass\n",
    "    def dead_chart(self): pass\n",
    "    def plot_stats(self): pass\n",
    "    def plot_loss(self:Trainer): pass"
   ]
  },
  {
   "cell_type": "code",
   "execution_count": null,
   "id": "8da45913-9d29-4fac-9898-41f2324424e1",
   "metadata": {},
   "outputs": [],
   "source": []
  },
  {
   "cell_type": "code",
   "execution_count": null,
   "id": "1bdd3f19-2d8d-42c6-be34-42d557929156",
   "metadata": {},
   "outputs": [],
   "source": []
  }
 ],
 "metadata": {
  "kernelspec": {
   "display_name": "Python 3",
   "language": "python",
   "name": "python3"
  }
 },
 "nbformat": 4,
 "nbformat_minor": 5
}
