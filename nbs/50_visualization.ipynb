{
 "cells": [
  {
   "cell_type": "markdown",
   "id": "3fe7dadc-68fe-498b-8194-de09883146fd",
   "metadata": {},
   "source": [
    "# visalizations\n",
    "\n",
    "> Visualizations to help understand what's going on"
   ]
  },
  {
   "cell_type": "code",
   "execution_count": null,
   "id": "295da017-4335-498f-adbe-42841ee30cc5",
   "metadata": {},
   "outputs": [],
   "source": [
    "#|default_exp visualizations"
   ]
  },
  {
   "cell_type": "code",
   "execution_count": null,
   "id": "1a8b9ff3-cf09-45ec-a5b3-7f250bb46fdc",
   "metadata": {},
   "outputs": [],
   "source": [
    "#|hide\n",
    "%load_ext autoreload\n",
    "%autoreload 2"
   ]
  },
  {
   "cell_type": "code",
   "execution_count": null,
   "id": "cde0424b-8e2d-4f3c-8158-f8aff4fdf5a4",
   "metadata": {},
   "outputs": [],
   "source": [
    "#| hide\n",
    "from nbdev.showdoc import *"
   ]
  },
  {
   "cell_type": "code",
   "execution_count": null,
   "id": "3e7488f9-5a76-4c48-b6e5-1bf02477ea4e",
   "metadata": {},
   "outputs": [],
   "source": [
    "#| export\n",
    "\n",
    "from isaacai.utils import *\n",
    "from isaacai.dataloaders import *\n",
    "from isaacai.models import *\n",
    "from isaacai.initialization import *\n",
    "from isaacai.trainer import *\n",
    "from isaacai.training import *\n",
    "from isaacai.recording import *\n",
    "\n",
    "import fastcore.all as fc\n",
    "from torch.optim.lr_scheduler import ExponentialLR\n",
    "import math\n",
    "from isaacai.utils import *\n",
    "from isaacai.dataloaders import *\n",
    "from isaacai.models import *\n",
    "from isaacai.training import *\n",
    "import torch.nn as nn\n",
    "import torch\n",
    "import matplotlib.pyplot as plt,matplotlib as mpl\n",
    "from datasets import load_dataset, Dataset\n",
    "import torchvision.transforms.functional as TF,torch.nn.functional as F\n",
    "\n",
    "from torcheval.metrics import MulticlassAccuracy\n",
    "from IPython.display import clear_output\n",
    "import dill as pickle"
   ]
  },
  {
   "cell_type": "code",
   "execution_count": null,
   "id": "4009e83c-c377-41ac-b531-50441aaff747",
   "metadata": {},
   "outputs": [],
   "source": []
  },
  {
   "cell_type": "code",
   "execution_count": null,
   "id": "b1bdb32c-e77a-40b7-98d5-868c06eb1014",
   "metadata": {},
   "outputs": [],
   "source": [
    "#|hide\n",
    "import logging"
   ]
  },
  {
   "cell_type": "code",
   "execution_count": null,
   "id": "1a860278-7a7d-477e-b755-ae7aad038b98",
   "metadata": {},
   "outputs": [],
   "source": [
    "#| hide\n",
    "torch.set_printoptions(precision=2, linewidth=140, sci_mode=False)\n",
    "torch.manual_seed(1)\n",
    "# mpl.rcParams['image.cmap'] = 'gray'\n",
    "logging.disable(logging.WARNING)\n",
    "\n",
    "set_seed(42)"
   ]
  },
  {
   "cell_type": "code",
   "execution_count": null,
   "id": "ccbc2f96-0226-4454-8b73-6fbfa287af5b",
   "metadata": {},
   "outputs": [
    {
     "data": {
      "application/json": {
       "ascii": false,
       "bar_format": null,
       "colour": null,
       "elapsed": 0.0314173698425293,
       "initial": 0,
       "n": 0,
       "ncols": null,
       "nrows": null,
       "postfix": null,
       "prefix": "",
       "rate": null,
       "total": 2,
       "unit": "it",
       "unit_divisor": 1000,
       "unit_scale": false
      },
      "application/vnd.jupyter.widget-view+json": {
       "model_id": "4cf1696f9c9b46a6ae7d68b3301a3805",
       "version_major": 2,
       "version_minor": 0
      },
      "text/plain": [
       "  0%|          | 0/2 [00:00<?, ?it/s]"
      ]
     },
     "metadata": {},
     "output_type": "display_data"
    }
   ],
   "source": [
    "xmean,xstd = 0.28, 0.35\n",
    "@inplace\n",
    "def transformi(b): b['image'] = [(TF.to_tensor(o)-xmean)/xstd for o in b['image']]\n",
    "\n",
    "_dataset = load_dataset('fashion_mnist').with_transform(transformi)\n",
    "# _dataset = sample_dataset_dict(_dataset)\n",
    "dls = DataLoaders.from_dataset_dict(_dataset, 256, num_workers=4)\n"
   ]
  },
  {
   "cell_type": "markdown",
   "id": "db83e79b-3115-45ce-9bac-d509f7b7b325",
   "metadata": {},
   "source": [
    "## Learning Rate Finder"
   ]
  },
  {
   "cell_type": "code",
   "execution_count": null,
   "id": "50aa2919-af98-4e6a-9f52-e69a8034de96",
   "metadata": {},
   "outputs": [],
   "source": [
    "#| export\n",
    "class LRFinderCB:\n",
    "    order = 1\n",
    "    def __init__(self,lr_mult=1.3): fc.store_attr()\n",
    "    \n",
    "    def before_fit(self,trainer):\n",
    "        pickle.dump(trainer,open('_tmp.pkl','wb'),protocol=pickle.HIGHEST_PROTOCOL)\n",
    "        self.scheduler = ExponentialLR(optimizer=trainer.opt,gamma=self.lr_mult)\n",
    "        self.lrs, self.losses = fc.L(), fc.L()\n",
    "        self.min = math.inf\n",
    "        \n",
    "    def before_batch(self,trainer):\n",
    "        if not trainer.training: raise CancelEpochException()\n",
    "        \n",
    "    def after_batch(self,trainer):\n",
    "        loss = to_cpu(trainer.loss)\n",
    "        if loss > self.min * 2: raise CancelEpochException()\n",
    "        self.lrs.append(trainer.opt.param_groups[0]['lr'])\n",
    "        self.losses.append(loss)        \n",
    "        if loss < self.min: self.min = loss\n",
    "        self.scheduler.step()\n",
    "        \n",
    "    def after_fit(self,_):\n",
    "        plt.figure(figsize=(12,4))\n",
    "        plt.plot(self.lrs,self.losses)\n",
    "        plt.xscale('log')\n",
    "        plt.title('Learning Rate Finder'); plt.xlabel('Learning Rate'); plt.ylabel('Losses') \n",
    "        plt.show()\n",
    "        \n",
    "    def cleanup_fit(self,trainer):\n",
    "        _name = retrieve_global_name(trainer)\n",
    "        globals()[_name[0]] = pickle.load(open('_tmp.pkl','rb'))"
   ]
  },
  {
   "cell_type": "code",
   "execution_count": null,
   "id": "c62a045b-40f0-4e7c-b8cd-869357c99bd4",
   "metadata": {},
   "outputs": [],
   "source": [
    "trainer = Trainer(dls,\n",
    "                  nn.CrossEntropyLoss(), \n",
    "                  torch.optim.SGD, \n",
    "                  get_model_fc(), \n",
    "                  callbacks=[BasicTrainCB(),DeviceCB(),MetricsCB(Accuracy=MulticlassAccuracy())])"
   ]
  },
  {
   "cell_type": "code",
   "execution_count": null,
   "id": "f12a69e6-2ade-4440-9ce7-2f64d66188d7",
   "metadata": {},
   "outputs": [
    {
     "data": {
      "image/png": "[encoded data removed]",
      "text/plain": [
       "<Figure size 864x288 with 1 Axes>"
      ]
     },
     "metadata": {
      "needs_background": "light"
     },
     "output_type": "display_data"
    }
   ],
   "source": [
    "trainer.fit(callbacks=[LRFinderCB()])"
   ]
  },
  {
   "cell_type": "markdown",
   "id": "6d22ecb4-2e64-4a30-a1f3-f7bcc89fe485",
   "metadata": {},
   "source": [
    "# Activation Stats"
   ]
  },
  {
   "cell_type": "code",
   "execution_count": null,
   "id": "4e91e5e7-39e3-4111-b07b-ab9f4798754b",
   "metadata": {},
   "outputs": [],
   "source": [
    "#|export\n",
    "class HooksCallback:\n",
    "    def __init__(self, hookfunc, module_filter=fc.noop, on_train=True, on_valid=False, modules=None):\n",
    "        fc.store_attr()\n",
    "    \n",
    "    def before_fit(self, trainer):\n",
    "        if self.modules: modules=self.modules\n",
    "        else: modules = fc.filter_ex(trainer.model.modules(), self.module_filter)\n",
    "        self.hooks = Hooks(modules, fc.bind(self._hookfunc, trainer))\n",
    "\n",
    "    def _hookfunc(self, trainer, *args, **kwargs):\n",
    "        if (self.on_train and trainer.training) or (self.on_valid and not trainer.training): self.hookfunc(*args, **kwargs)\n",
    "\n",
    "    def after_fit(self, trainer): self.hooks.remove()\n",
    "    def __iter__(self): return iter(self.hooks)\n",
    "    def __len__(self): return len(self.hooks)"
   ]
  },
  {
   "cell_type": "code",
   "execution_count": null,
   "id": "52fb3ef9-82fc-4481-ba78-d476d4e3b272",
   "metadata": {},
   "outputs": [],
   "source": [
    "#|export\n",
    "def append_stats(hook, module, inp, outp):\n",
    "    if not hasattr(hook,'stats'): hook.stats = ([],[],[])\n",
    "    acts = to_cpu(outp)\n",
    "    hook.stats[0].append(acts.mean())\n",
    "    hook.stats[1].append(acts.std())\n",
    "    hook.stats[2].append(acts.abs().histc(40,0,10))\n",
    "\n",
    "# Thanks to @ste for initial version of histgram plotting code\n",
    "def get_hist(h):\n",
    "    return torch.stack(h.stats[2]).t().float().log1p()"
   ]
  },
  {
   "cell_type": "code",
   "execution_count": null,
   "id": "ba4b4166-3946-4612-9669-4e76851cb4ea",
   "metadata": {},
   "outputs": [],
   "source": [
    "#|export\n",
    "def get_min(h):\n",
    "    h1 = torch.stack(h.stats[2]).t().float()\n",
    "    return h1[0]/h1.sum(0)\n",
    "\n",
    "class ActivationStatsCB(HooksCallback):\n",
    "    def __init__(self, module_filter=fc.noop): super().__init__(append_stats, module_filter)\n",
    "\n",
    "    def color_dim(self, figsize=(11,6)):\n",
    "        fig,axes = get_grid(len(self), figsize=figsize)\n",
    "        for ax,h in zip(axes.flat, self):\n",
    "            show_image(get_hist(h), ax, origin='lower')\n",
    "\n",
    "    def dead_chart(self, figsize=(11,5)):\n",
    "        fig,axes = get_grid(len(self), figsize=figsize)\n",
    "        for ax,h in zip(axes.flatten(), self):\n",
    "            ax.plot(get_min(h))\n",
    "            ax.set_ylim(0,1)\n",
    "\n",
    "    def plot_stats(self, figsize=(10,4)):\n",
    "        fig,axs = plt.subplots(1,2, figsize=figsize)\n",
    "        for h in self:\n",
    "            for i in 0,1: axs[i].plot(h.stats[i])\n",
    "        axs[0].set_title('Means')\n",
    "        axs[1].set_title('Stdevs')\n",
    "        plt.legend(fc.L.range(self))"
   ]
  },
  {
   "cell_type": "code",
   "execution_count": null,
   "id": "4673123b-a671-4ffa-b3c5-9f867950b25f",
   "metadata": {},
   "outputs": [],
   "source": [
    "model = get_model_conv()\n",
    "model.to(def_device)\n",
    "xb = fc.first(dls.train)[0]\n",
    "for module in model.modules(): lsuv_init(model, module, xb.to(def_device))"
   ]
  },
  {
   "cell_type": "code",
   "execution_count": null,
   "id": "500e14ba-62bd-4284-a25e-f5e2def1538e",
   "metadata": {},
   "outputs": [
    {
     "data": {
      "text/html": [
       "\n",
       "<style>\n",
       "    /* Turns off some styling */\n",
       "    progress {\n",
       "        /* gets rid of default border in Firefox and Opera. */\n",
       "        border: none;\n",
       "        /* Needs to be in here for Safari polyfill so background images work as expected. */\n",
       "        background-size: auto;\n",
       "    }\n",
       "    progress:not([value]), progress:not([value])::-webkit-progress-bar {\n",
       "        background: repeating-linear-gradient(45deg, #7e7e7e, #7e7e7e 10px, #5c5c5c 10px, #5c5c5c 20px);\n",
       "    }\n",
       "    .progress-bar-interrupted, .progress-bar-interrupted::-webkit-progress-bar {\n",
       "        background: #F44336;\n",
       "    }\n",
       "</style>\n"
      ],
      "text/plain": [
       "<IPython.core.display.HTML object>"
      ]
     },
     "metadata": {},
     "output_type": "display_data"
    },
    {
     "data": {
      "text/html": [],
      "text/plain": [
       "<IPython.core.display.HTML object>"
      ]
     },
     "metadata": {},
     "output_type": "display_data"
    },
    {
     "data": {
      "text/html": [
       "<div>\n",
       "<style scoped>\n",
       "    .dataframe tbody tr th:only-of-type {\n",
       "        vertical-align: middle;\n",
       "    }\n",
       "\n",
       "    .dataframe tbody tr th {\n",
       "        vertical-align: top;\n",
       "    }\n",
       "\n",
       "    .dataframe thead th {\n",
       "        text-align: right;\n",
       "    }\n",
       "</style>\n",
       "<table border=\"1\" class=\"dataframe\">\n",
       "  <thead>\n",
       "    <tr style=\"text-align: right;\">\n",
       "      <th></th>\n",
       "      <th>train</th>\n",
       "      <th>valid</th>\n",
       "      <th>Accuracy</th>\n",
       "    </tr>\n",
       "  </thead>\n",
       "  <tbody>\n",
       "    <tr>\n",
       "      <th>0</th>\n",
       "      <td>1.96551</td>\n",
       "      <td>1.432221</td>\n",
       "      <td>0.573242</td>\n",
       "    </tr>\n",
       "  </tbody>\n",
       "</table>\n",
       "</div>"
      ],
      "text/plain": [
       "     train     valid  Accuracy\n",
       "0  1.96551  1.432221  0.573242"
      ]
     },
     "metadata": {},
     "output_type": "display_data"
    }
   ],
   "source": [
    "trainer = Trainer(dls,\n",
    "                  nn.CrossEntropyLoss(), \n",
    "                  torch.optim.Adam, \n",
    "                  model, \n",
    "                  callbacks=[BasicTrainCB(),NBatchCB(10),\n",
    "                             MetricsCB(Accuracy=MulticlassAccuracy()), \n",
    "                             DeviceCB(), \n",
    "                             ProgressCB(), \n",
    "                             ActivationStatsCB(fc.risinstance(nn.Conv2d))])\n",
    "trainer.fit(1)"
   ]
  },
  {
   "cell_type": "code",
   "execution_count": null,
   "id": "f81581e9-895b-48c3-9814-1d1789c4e150",
   "metadata": {},
   "outputs": [
    {
     "data": {
      "image/png": "[encoded data removed]",
      "text/plain": [
       "<Figure size 792x432 with 4 Axes>"
      ]
     },
     "metadata": {},
     "output_type": "display_data"
    }
   ],
   "source": [
    "trainer.ActivationStatsCB.color_dim()"
   ]
  },
  {
   "cell_type": "code",
   "execution_count": null,
   "id": "8d2295f1-c6de-491d-ac87-acff20104760",
   "metadata": {},
   "outputs": [
    {
     "data": {
      "image/png": "[encoded data removed]",
      "text/plain": [
       "<Figure size 792x360 with 4 Axes>"
      ]
     },
     "metadata": {
      "needs_background": "light"
     },
     "output_type": "display_data"
    }
   ],
   "source": [
    "trainer.ActivationStatsCB.dead_chart()"
   ]
  },
  {
   "cell_type": "code",
   "execution_count": null,
   "id": "c924a9bf-ff4d-4ce6-b74f-fdfdab208375",
   "metadata": {},
   "outputs": [
    {
     "data": {
      "image/png": "[encoded data removed]",
      "text/plain": [
       "<Figure size 720x288 with 2 Axes>"
      ]
     },
     "metadata": {
      "needs_background": "light"
     },
     "output_type": "display_data"
    }
   ],
   "source": [
    "trainer.ActivationStatsCB.plot_stats()"
   ]
  },
  {
   "cell_type": "code",
   "execution_count": null,
   "id": "9322e6ea-df1f-48e9-9aad-3b9fadbf9a2d",
   "metadata": {},
   "outputs": [],
   "source": [
    "#| hide\n",
    "import nbdev; nbdev.nbdev_export()"
   ]
  },
  {
   "cell_type": "code",
   "execution_count": null,
   "id": "8da45913-9d29-4fac-9898-41f2324424e1",
   "metadata": {},
   "outputs": [],
   "source": []
  },
  {
   "cell_type": "code",
   "execution_count": null,
   "id": "1bdd3f19-2d8d-42c6-be34-42d557929156",
   "metadata": {},
   "outputs": [],
   "source": []
  }
 ],
 "metadata": {
  "kernelspec": {
   "display_name": "python3",
   "language": "python",
   "name": "python3"
  }
 },
 "nbformat": 4,
 "nbformat_minor": 5
}
