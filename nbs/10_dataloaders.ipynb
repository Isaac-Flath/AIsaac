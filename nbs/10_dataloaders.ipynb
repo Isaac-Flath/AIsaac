{
 "cells": [
  {
   "cell_type": "markdown",
   "metadata": {},
   "source": [
    "# dataloaders\n",
    "\n",
    "> Bundle trn/val/test datasets together, and add helpful functionality for viewing data"
   ]
  },
  {
   "cell_type": "code",
   "execution_count": null,
   "metadata": {},
   "outputs": [],
   "source": [
    "#| hide\n",
    "#|default_exp dataloaders"
   ]
  },
  {
   "cell_type": "code",
   "execution_count": null,
   "metadata": {},
   "outputs": [],
   "source": [
    "#| hide\n",
    "from nbdev.showdoc import *"
   ]
  },
  {
   "cell_type": "code",
   "execution_count": null,
   "metadata": {},
   "outputs": [],
   "source": [
    "#| export\n",
    "from isaacai.utils import *\n",
    "from matplotlib import pyplot as plt\n",
    "\n",
    "from fastcore.all import *\n",
    "import torch\n",
    "from torch import nn\n",
    "from torch import Tensor\n",
    "from datasets import load_dataset\n",
    "from torch.utils.data import DataLoader\n",
    "import pandas as pd \n",
    "import numpy as np\n",
    "from datasets import Dataset"
   ]
  },
  {
   "cell_type": "code",
   "execution_count": null,
   "metadata": {},
   "outputs": [],
   "source": [
    "#| export\n",
    "def random_splitter(dataset, valid_pct=0.2):\n",
    "    n = len(dataset)\n",
    "    _val_idxs = np.random.rand(n)<valid_pct\n",
    "    return dataset.select(mask2idxs(~_val_idxs)), dataset.select(mask2idxs(_val_idxs))"
   ]
  },
  {
   "cell_type": "code",
   "execution_count": null,
   "metadata": {},
   "outputs": [],
   "source": [
    "#| export\n",
    "def load_fashion_mnist(sample=None):\n",
    "    name = \"fashion_mnist\"\n",
    "    ds = load_dataset(name)\n",
    "    train,test = ds['train'],ds['test']\n",
    "    if sample is not None: ds['train'] = ds['train'].select(range(sample))\n",
    "    x,y = ds['train'].features.keys()\n",
    "    trn, val = random_splitter(train)\n",
    "    \n",
    "    @inplace\n",
    "    def transformi(b): b[x] = [torch.flatten(TF.to_tensor(o)) for o in b[x]]\n",
    "    \n",
    "    def create_dl(ds, shuffle=True, batch_size=64):\n",
    "        _ds = ds.with_transform(transformi)\n",
    "        return DataLoader(_ds, batch_size=batch_size, shuffle=shuffle,)\n",
    "\n",
    "    return map(create_dl, [trn,val,test])"
   ]
  },
  {
   "cell_type": "code",
   "execution_count": null,
   "metadata": {},
   "outputs": [],
   "source": [
    "#| export\n",
    "class DataLoaders():\n",
    "    def __init__(self, train, valid, test=None): store_attr()\n",
    "\n",
    "    def show_batch(self, ds='train', rows=3, cols=3):\n",
    "        ds = getattr(self, ds)\n",
    "        b = first(ds)\n",
    "        cn = ds.dataset.features['label'].names\n",
    "\n",
    "        fig,ax = plt.subplots(rows,cols,figsize=(5,5))\n",
    "        for row in range(rows):\n",
    "            for col in range(cols):\n",
    "                cell = row * cols + col\n",
    "                ax[row,col].imshow(b['image'][cell].reshape(28,28),cmap='gray')\n",
    "                ci = int(b['label'][cell])\n",
    "                ax[row,col].set_title(f\"{int(b['label'][cell])} : {cn[ci]}\")\n",
    "                ax[row,col].axis('off')\n"
   ]
  },
  {
   "cell_type": "code",
   "execution_count": null,
   "metadata": {},
   "outputs": [],
   "source": [
    "dls = DataLoaders(*load_fashion_mnist())\n",
    "dls.show_batch()"
   ]
  },
  {
   "cell_type": "code",
   "execution_count": null,
   "metadata": {},
   "outputs": [],
   "source": [
    "class SimpleNet(nn.Module):\n",
    "    '''simple net'''\n",
    "    def __init__(self,in_features,hidden_features, out_features):\n",
    "        super().__init__()\n",
    "        self.fc1 = nn.Linear(in_features,hidden_features)\n",
    "        self.relu = nn.ReLU()\n",
    "        self.fc2 = nn.Linear(hidden_features,out_features)\n",
    "\n",
    "    def forward(self,x):\n",
    "        x = self.fc1(x)\n",
    "        x = self.relu(x)\n",
    "        x = self.fc2(x)\n",
    "        return x\n",
    "    \n",
    "model = SimpleNet(784,64,10)\n",
    "test_eq(model(first(dls.train)[x]).shape,(64,10))"
   ]
  },
  {
   "cell_type": "code",
   "execution_count": null,
   "metadata": {},
   "outputs": [],
   "source": [
    "#| hide\n",
    "import nbdev; nbdev.nbdev_export()"
   ]
  },
  {
   "cell_type": "code",
   "execution_count": null,
   "metadata": {},
   "outputs": [],
   "source": []
  },
  {
   "cell_type": "code",
   "execution_count": null,
   "metadata": {},
   "outputs": [],
   "source": []
  }
 ],
 "metadata": {
  "kernelspec": {
   "display_name": "Python 3 (ipykernel)",
   "language": "python",
   "name": "python3"
  }
 },
 "nbformat": 4,
 "nbformat_minor": 4
}
