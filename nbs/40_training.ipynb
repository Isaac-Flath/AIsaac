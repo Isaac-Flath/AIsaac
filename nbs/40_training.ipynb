{
 "cells": [
  {
   "cell_type": "markdown",
   "metadata": {},
   "source": [
    "# training\n",
    "\n",
    "> Training loop"
   ]
  },
  {
   "cell_type": "code",
   "execution_count": null,
   "metadata": {},
   "outputs": [],
   "source": [
    "#|default_exp training"
   ]
  },
  {
   "cell_type": "code",
   "execution_count": null,
   "metadata": {},
   "outputs": [],
   "source": [
    "#|hide\n",
    "%load_ext autoreload\n",
    "%autoreload 2"
   ]
  },
  {
   "cell_type": "code",
   "execution_count": null,
   "metadata": {},
   "outputs": [],
   "source": [
    "#| hide\n",
    "from nbdev.showdoc import *"
   ]
  },
  {
   "cell_type": "code",
   "execution_count": null,
   "metadata": {},
   "outputs": [],
   "source": [
    "#| export\n",
    "from isaacai.utils import *\n",
    "from isaacai.dataloaders import *\n",
    "from isaacai.models import *\n",
    "\n",
    "from datetime import datetime, timedelta\n",
    "import torchvision.transforms.functional as TF,torch.nn.functional as F\n",
    "import math, time\n",
    "\n",
    "import matplotlib.pyplot as plt\n",
    "import matplotlib as mpl\n",
    "import fastcore.all as fc\n",
    "import torch\n",
    "from torch import nn, Tensor\n",
    "from datasets import load_dataset, Dataset\n",
    "from torch.utils.data import DataLoader\n",
    "import pandas as pd , numpy as np\n",
    "from torcheval.metrics import MulticlassAccuracy,Mean\n",
    "\n",
    "import dill as pickle\n",
    "from torch.optim.lr_scheduler import ExponentialLR\n",
    "from fastprogress.fastprogress import master_bar, progress_bar\n",
    "import inspect\n"
   ]
  },
  {
   "cell_type": "code",
   "execution_count": null,
   "metadata": {},
   "outputs": [],
   "source": [
    "#|hide\n",
    "import logging"
   ]
  },
  {
   "cell_type": "code",
   "execution_count": null,
   "metadata": {},
   "outputs": [],
   "source": [
    "#|hide\n",
    "torch.set_printoptions(precision=2, linewidth=140, sci_mode=False)\n",
    "torch.manual_seed(1)\n",
    "mpl.rcParams['image.cmap'] = 'gray'\n",
    "\n",
    "logging.disable(logging.WARNING)\n",
    "\n",
    "set_seed(42)\n"
   ]
  },
  {
   "cell_type": "code",
   "execution_count": null,
   "metadata": {},
   "outputs": [
    {
     "data": {
      "application/json": {
       "ascii": false,
       "bar_format": null,
       "colour": null,
       "elapsed": 0.03135251998901367,
       "initial": 0,
       "n": 0,
       "ncols": null,
       "nrows": null,
       "postfix": null,
       "prefix": "",
       "rate": null,
       "total": 2,
       "unit": "it",
       "unit_divisor": 1000,
       "unit_scale": false
      },
      "application/vnd.jupyter.widget-view+json": {
       "model_id": "39a9901ac3f34428ba6cf9a8abe2f1e2",
       "version_major": 2,
       "version_minor": 0
      },
      "text/plain": [
       "  0%|          | 0/2 [00:00<?, ?it/s]"
      ]
     },
     "metadata": {},
     "output_type": "display_data"
    }
   ],
   "source": [
    "xmean,xstd = 0.28, 0.35\n",
    "@inplace\n",
    "def transformi(b): b['image'] = [(TF.to_tensor(o)-xmean)/xstd for o in b['image']]\n",
    "\n",
    "_dataset = load_dataset('fashion_mnist').with_transform(transformi)\n",
    "_dataset = sample_dataset_dict(_dataset)\n",
    "dls = DataLoaders.from_dataset_dict(_dataset, 64, num_workers=4)"
   ]
  },
  {
   "cell_type": "markdown",
   "metadata": {},
   "source": [
    "# Base Learner"
   ]
  },
  {
   "cell_type": "code",
   "execution_count": null,
   "metadata": {},
   "outputs": [],
   "source": [
    "#| export\n",
    "class BasicTrainCB:\n",
    "    def predict(self,trainer): trainer.preds = trainer.model(trainer.batch[0])\n",
    "    def get_loss(self,trainer): trainer.loss = trainer.loss_func(trainer.preds,trainer.batch[1])\n",
    "    def backward(self,trainer): trainer.loss.backward()\n",
    "    def step(self,trainer): trainer.opt.step()\n",
    "    def zero_grad(self,trainer): trainer.opt.zero_grad()"
   ]
  },
  {
   "cell_type": "code",
   "execution_count": null,
   "metadata": {},
   "outputs": [],
   "source": [
    "#| export\n",
    "class DeviceCB:\n",
    "    def __init__(self, device=def_device): self.device=device\n",
    "    def before_fit(self, trainer):\n",
    "        if hasattr(trainer.model, 'to'): trainer.model.to(self.device)\n",
    "    def before_batch(self, trainer): trainer.batch = to_device(trainer.batch, device=self.device)"
   ]
  },
  {
   "cell_type": "code",
   "execution_count": null,
   "metadata": {},
   "outputs": [],
   "source": [
    "#| export\n",
    "class CancelFitException(Exception): pass\n",
    "class CancelBatchException(Exception): pass\n",
    "class CancelEpochException(Exception): pass"
   ]
  },
  {
   "cell_type": "code",
   "execution_count": null,
   "metadata": {},
   "outputs": [],
   "source": [
    "#| export\n",
    "class MetricsCB:\n",
    "    def __init__(self, precision=4, **metrics):\n",
    "        self._precision=precision\n",
    "        self.metrics = metrics\n",
    "        self.metrics.update({'train_loss':Mean(),'valid_loss':Mean()})\n",
    "        \n",
    "    def _log(self,x): print(x)\n",
    "    \n",
    "    def before_batch(self,trainer): self.batch_size = len(trainer.batch[1])\n",
    "    \n",
    "    def after_batch(self,trainer):\n",
    "        if trainer.training: \n",
    "            self.metrics['train_loss'].update(to_cpu(trainer.loss),weight=self.batch_size)\n",
    "        else: \n",
    "            self.metrics['valid_loss'].update(to_cpu(trainer.loss),weight=self.batch_size)\n",
    "            for name, metric in self.metrics.items():\n",
    "                if name in ('train_loss','valid_loss'): continue\n",
    "                self.metrics[name].update(to_cpu(trainer.preds),to_cpu(trainer.batch[1]))\n",
    "            \n",
    "    def before_epoch(self,trainer):  self._st = datetime.now()\n",
    "    def after_epoch(self,trainer):\n",
    "        # compute metrics and append to epoch stats and display\n",
    "        if not trainer.training:\n",
    "            log = {name:float(metric.compute()) for name, metric in self.metrics.items()}\n",
    "            log['epoch'] = trainer.epoch\n",
    "            log['elapsed'] = datetime.now() - self._st\n",
    "            self._log(log)\n",
    "            [metric.reset() for metric in self.metrics.values()]"
   ]
  },
  {
   "cell_type": "code",
   "execution_count": null,
   "metadata": {},
   "outputs": [],
   "source": [
    "#| export\n",
    "class TrackingCB:\n",
    "    def __init__(self):\n",
    "        self._log_epoch,self._log_batch, self._log_fit = [pd.DataFrame()]*3\n",
    "        \n",
    "    def before_fit(self,trainer):\n",
    "        trainer.epochs = master_bar(trainer.epochs)\n",
    "        setattr(getattr(trainer,'MetricsCB'),'_log',self._log)\n",
    "        log = {'model':str(trainer.model),'model_type':str(type(trainer.model)),'model_source':inspect.getsource(trainer.model.__class__)}\n",
    "        log['callbacks'] = str(trainer.callbacks)\n",
    "\n",
    "        for callback in trainer.callbacks:\n",
    "            cb = getattr(trainer,callback)\n",
    "            for cb_attr in dir(cb):\n",
    "                if cb_attr.startswith('_'): continue\n",
    "                if callable(getattr(cb,cb_attr)): continue\n",
    "                log[cb_attr] = str(getattr(cb,cb_attr))\n",
    "        self._log(log)\n",
    "        \n",
    "    def before_epoch(self,trainer):\n",
    "        trainer.batches = progress_bar(trainer.batches,parent=trainer.epochs)\n",
    "        trainer.epochs.child.comment = \"Training\" if trainer.training else \"Validation\"\n",
    "        \n",
    "    def _log(self,x):\n",
    "        x = PPDict(x)        \n",
    "        if 'epoch' in x.keys(): trainer.epochs.write(str(x))\n",
    "        log = pd.DataFrame(x,index=[\"\"])\n",
    "        if 'batch' in x.keys(): self._log_batch = pd.concat([self._log_batch,log])\n",
    "        elif 'epoch' in x.keys(): self._log_epoch = pd.concat([self._log_epoch,log])\n",
    "        else: self._log_fit = pd.concat([self._log_fit,log])\n",
    "        \n",
    "        "
   ]
  },
  {
   "cell_type": "code",
   "execution_count": null,
   "metadata": {},
   "outputs": [],
   "source": [
    "#| export \n",
    "class Trainer:\n",
    "    def subclassing_method(self,**kwargs): pass\n",
    "\n",
    "    def __init__(self, dls, loss_func, opt_func, model, callbacks,**kwargs):\n",
    "        self.add_callbacks(callbacks)\n",
    "        fc.store_attr(but='callbacks')\n",
    "        self.subclassing_method(**kwargs)\n",
    "            \n",
    "    @with_cbs('batch', CancelBatchException)\n",
    "    def one_batch(self):\n",
    "        self.run_callbacks(['predict','get_loss'])\n",
    "        if self.training: self.run_callbacks(['before_backward','backward','step','zero_grad'])\n",
    "    \n",
    "    @with_cbs('epoch',CancelEpochException)\n",
    "    def _one_epoch(self):\n",
    "        for self.batch_num,self.batch in zip(self.batches,self.dl): self.one_batch()\n",
    "\n",
    "    def one_epoch(self, training):\n",
    "        self.model.train(training)\n",
    "        self.dl = self.dls.train if training else self.dls.valid\n",
    "        self.batches = range(len(self.dl))\n",
    "        self._one_epoch()\n",
    "\n",
    "    @with_cbs('fit', CancelFitException)\n",
    "    def _fit(self,train, valid):\n",
    "        for self.epoch in self.epochs: \n",
    "            if train: self.one_epoch(True)\n",
    "            if valid: torch.no_grad()(self.one_epoch)(False)\n",
    "    \n",
    "    def fit(self, n_epochs=3, lr=1e-3, callbacks=None,train=True,valid=True):\n",
    "        callbacks = fc.L(callbacks)\n",
    "        self.add_callbacks(callbacks)\n",
    "        self.opt = self.opt_func(self.model.parameters(), lr)\n",
    "        self.epochs = range(n_epochs)\n",
    "        self._fit(train,valid)\n",
    "        self.callbacks = [o for o in self.callbacks if o not in callbacks]\n",
    "                                                        \n",
    "    @property\n",
    "    def training(self): return self.model.training\n",
    "    \n",
    "    def add_callbacks(self,callbacks): add_callbacks(self,callbacks)\n",
    "\n",
    "    def run_callbacks(self,method_names): \n",
    "        cbs = [getattr(self,o) for o in self.callbacks]\n",
    "        for method_name in fc.L(method_names): run_callbacks(cbs,method_name,self)"
   ]
  },
  {
   "cell_type": "code",
   "execution_count": null,
   "metadata": {},
   "outputs": [],
   "source": [
    "trainer = Trainer(dls,\n",
    "                  nn.CrossEntropyLoss(), \n",
    "                  torch.optim.Adam, \n",
    "                  SimpleNet(28*28,64,10), \n",
    "                  callbacks=[BasicTrainCB(),MetricsCB(accuracy=MulticlassAccuracy()), DeviceCB(),TrackingCB()])"
   ]
  },
  {
   "cell_type": "code",
   "execution_count": null,
   "metadata": {},
   "outputs": [
    {
     "data": {
      "text/html": [
       "\n",
       "<style>\n",
       "    /* Turns off some styling */\n",
       "    progress {\n",
       "        /* gets rid of default border in Firefox and Opera. */\n",
       "        border: none;\n",
       "        /* Needs to be in here for Safari polyfill so background images work as expected. */\n",
       "        background-size: auto;\n",
       "    }\n",
       "    progress:not([value]), progress:not([value])::-webkit-progress-bar {\n",
       "        background: repeating-linear-gradient(45deg, #7e7e7e, #7e7e7e 10px, #5c5c5c 10px, #5c5c5c 20px);\n",
       "    }\n",
       "    .progress-bar-interrupted, .progress-bar-interrupted::-webkit-progress-bar {\n",
       "        background: #F44336;\n",
       "    }\n",
       "</style>\n"
      ],
      "text/plain": [
       "<IPython.core.display.HTML object>"
      ]
     },
     "metadata": {},
     "output_type": "display_data"
    },
    {
     "data": {
      "text/html": [
       "{'accuracy': 0.558, 'train_loss': 1.8708, 'valid_loss': 1.4095, 'epoch': 0, 'elapsed': '0:00:01'}<p>{'accuracy': 0.654, 'train_loss': 1.096, 'valid_loss': 1.0262, 'epoch': 1, 'elapsed': '0:00:01'}<p>{'accuracy': 0.682, 'train_loss': 0.7933, 'valid_loss': 0.8983, 'epoch': 2, 'elapsed': '0:00:01'}"
      ],
      "text/plain": [
       "<IPython.core.display.HTML object>"
      ]
     },
     "metadata": {},
     "output_type": "display_data"
    }
   ],
   "source": [
    "trainer.fit()"
   ]
  },
  {
   "cell_type": "code",
   "execution_count": null,
   "metadata": {},
   "outputs": [],
   "source": [
    "#| export\n",
    "class MomentumTrainCB(BasicTrainCB):\n",
    "    def __init__(self,momentum): self.momentum = momentum\n",
    "    def zero_grad(self,trainer): \n",
    "        with torch.no_grad():\n",
    "            for p in trainer.model.parameters(): p.grad *= self.momentum"
   ]
  },
  {
   "cell_type": "code",
   "execution_count": null,
   "metadata": {},
   "outputs": [],
   "source": [
    "#| export\n",
    "def init_delegates(trainer,method='subclassing_method'):\n",
    "    trainer.__init__ = fc.delegates(getattr(trainer,method))(copy_func(trainer.__init__))\n",
    "    return trainer   "
   ]
  },
  {
   "cell_type": "code",
   "execution_count": null,
   "metadata": {},
   "outputs": [],
   "source": [
    "#| export\n",
    "@init_delegates\n",
    "class MomentumTrainer(Trainer):\n",
    "    def subclassing_method(self,momentum=0.85): \n",
    "        self.add_callbacks([MomentumTrainCB(momentum),DeviceCB(),TrackingCB()])"
   ]
  },
  {
   "cell_type": "code",
   "execution_count": null,
   "metadata": {},
   "outputs": [],
   "source": [
    "trainer = MomentumTrainer(dls,\n",
    "                  nn.CrossEntropyLoss(), \n",
    "                  torch.optim.SGD, \n",
    "                  SimpleNet(28*28,64,10), \n",
    "                  callbacks=[MetricsCB(Accuracy=MulticlassAccuracy())])"
   ]
  },
  {
   "cell_type": "code",
   "execution_count": null,
   "metadata": {},
   "outputs": [
    {
     "data": {
      "text/html": [
       "\n",
       "<style>\n",
       "    /* Turns off some styling */\n",
       "    progress {\n",
       "        /* gets rid of default border in Firefox and Opera. */\n",
       "        border: none;\n",
       "        /* Needs to be in here for Safari polyfill so background images work as expected. */\n",
       "        background-size: auto;\n",
       "    }\n",
       "    progress:not([value]), progress:not([value])::-webkit-progress-bar {\n",
       "        background: repeating-linear-gradient(45deg, #7e7e7e, #7e7e7e 10px, #5c5c5c 10px, #5c5c5c 20px);\n",
       "    }\n",
       "    .progress-bar-interrupted, .progress-bar-interrupted::-webkit-progress-bar {\n",
       "        background: #F44336;\n",
       "    }\n",
       "</style>\n"
      ],
      "text/plain": [
       "<IPython.core.display.HTML object>"
      ]
     },
     "metadata": {},
     "output_type": "display_data"
    },
    {
     "data": {
      "text/html": [
       "{'Accuracy': 0.174, 'train_loss': 2.2906, 'valid_loss': 2.2191, 'epoch': 0, 'elapsed': '0:00:01'}<p>{'Accuracy': 0.35, 'train_loss': 2.1665, 'valid_loss': 2.0911, 'epoch': 1, 'elapsed': '0:00:01'}<p>{'Accuracy': 0.412, 'train_loss': 2.032, 'valid_loss': 1.9705, 'epoch': 2, 'elapsed': '0:00:01'}"
      ],
      "text/plain": [
       "<IPython.core.display.HTML object>"
      ]
     },
     "metadata": {},
     "output_type": "display_data"
    }
   ],
   "source": [
    "trainer.fit()"
   ]
  },
  {
   "cell_type": "code",
   "execution_count": null,
   "metadata": {},
   "outputs": [],
   "source": [
    "#| export\n",
    "class LRFinderCB:\n",
    "    order = 1\n",
    "    def __init__(self,lr_mult=1.3): fc.store_attr()\n",
    "    \n",
    "    def before_fit(self,trainer):\n",
    "        pickle.dump(trainer,open('_tmp.pkl','wb'),protocol=pickle.HIGHEST_PROTOCOL)\n",
    "        self.scheduler = ExponentialLR(optimizer=trainer.opt,gamma=self.lr_mult)\n",
    "        self.lrs, self.losses = fc.L(), fc.L()\n",
    "        self.min = math.inf\n",
    "        \n",
    "    def before_batch(self,trainer):\n",
    "        if not trainer.training: raise CancelEpochException()\n",
    "        \n",
    "    def after_batch(self,trainer):\n",
    "        self.lrs.append(trainer.opt.param_groups[0]['lr'])\n",
    "        loss = to_cpu(trainer.loss)\n",
    "        self.losses.append(loss)        \n",
    "        if loss < self.min: self.min = loss\n",
    "        if loss > self.min * 3: raise CancelEpochException()\n",
    "        self.scheduler.step()\n",
    "        \n",
    "    def after_fit(self,_):\n",
    "        plt.figure(figsize=(12,4))\n",
    "        plt.plot(self.lrs,self.losses)\n",
    "        plt.xscale('log')\n",
    "        plt.title('Learning Rate Finder'); plt.xlabel('Learning Rate'); plt.ylabel('Losses') \n",
    "        plt.show()\n",
    "        global trainer\n",
    "        trainer = pickle.load(open('_tmp.pkl','rb'))"
   ]
  },
  {
   "cell_type": "code",
   "execution_count": null,
   "metadata": {},
   "outputs": [],
   "source": [
    "trainer = MomentumTrainer(dls,\n",
    "                  nn.CrossEntropyLoss(), \n",
    "                  torch.optim.SGD, \n",
    "                  SimpleNet(28*28,64,10), \n",
    "                  callbacks=[MetricsCB(Accuracy=MulticlassAccuracy())])"
   ]
  },
  {
   "cell_type": "code",
   "execution_count": null,
   "metadata": {},
   "outputs": [
    {
     "data": {
      "text/html": [
       "\n",
       "<style>\n",
       "    /* Turns off some styling */\n",
       "    progress {\n",
       "        /* gets rid of default border in Firefox and Opera. */\n",
       "        border: none;\n",
       "        /* Needs to be in here for Safari polyfill so background images work as expected. */\n",
       "        background-size: auto;\n",
       "    }\n",
       "    progress:not([value]), progress:not([value])::-webkit-progress-bar {\n",
       "        background: repeating-linear-gradient(45deg, #7e7e7e, #7e7e7e 10px, #5c5c5c 10px, #5c5c5c 20px);\n",
       "    }\n",
       "    .progress-bar-interrupted, .progress-bar-interrupted::-webkit-progress-bar {\n",
       "        background: #F44336;\n",
       "    }\n",
       "</style>\n"
      ],
      "text/plain": [
       "<IPython.core.display.HTML object>"
      ]
     },
     "metadata": {},
     "output_type": "display_data"
    },
    {
     "data": {
      "text/html": [
       "{'Accuracy': 0.144, 'train_loss': 2.2708, 'valid_loss': 2.204, 'epoch': 0, 'elapsed': '0:00:01'}<p>{'Accuracy': 0.34, 'train_loss': 2.1468, 'valid_loss': 2.07, 'epoch': 1, 'elapsed': '0:00:01'}<p>{'Accuracy': 0.414, 'train_loss': 2.0011, 'valid_loss': 1.9373, 'epoch': 2, 'elapsed': '0:00:01'}"
      ],
      "text/plain": [
       "<IPython.core.display.HTML object>"
      ]
     },
     "metadata": {},
     "output_type": "display_data"
    }
   ],
   "source": [
    "trainer.fit()"
   ]
  },
  {
   "cell_type": "code",
   "execution_count": null,
   "metadata": {},
   "outputs": [
    {
     "data": {
      "text/html": [
       "\n",
       "<style>\n",
       "    /* Turns off some styling */\n",
       "    progress {\n",
       "        /* gets rid of default border in Firefox and Opera. */\n",
       "        border: none;\n",
       "        /* Needs to be in here for Safari polyfill so background images work as expected. */\n",
       "        background-size: auto;\n",
       "    }\n",
       "    progress:not([value]), progress:not([value])::-webkit-progress-bar {\n",
       "        background: repeating-linear-gradient(45deg, #7e7e7e, #7e7e7e 10px, #5c5c5c 10px, #5c5c5c 20px);\n",
       "    }\n",
       "    .progress-bar-interrupted, .progress-bar-interrupted::-webkit-progress-bar {\n",
       "        background: #F44336;\n",
       "    }\n",
       "</style>\n"
      ],
      "text/plain": [
       "<IPython.core.display.HTML object>"
      ]
     },
     "metadata": {},
     "output_type": "display_data"
    },
    {
     "data": {
      "text/html": [],
      "text/plain": [
       "<IPython.core.display.HTML object>"
      ]
     },
     "metadata": {},
     "output_type": "display_data"
    },
    {
     "data": {
      "image/png": "[encoded data removed]",
      "text/plain": [
       "<Figure size 864x288 with 1 Axes>"
      ]
     },
     "metadata": {
      "needs_background": "light"
     },
     "output_type": "display_data"
    }
   ],
   "source": [
    "trainer.fit(callbacks=[LRFinderCB()])"
   ]
  },
  {
   "cell_type": "code",
   "execution_count": null,
   "metadata": {},
   "outputs": [],
   "source": [
    "#| hide\n",
    "import nbdev; nbdev.nbdev_export()"
   ]
  },
  {
   "cell_type": "code",
   "execution_count": null,
   "metadata": {},
   "outputs": [],
   "source": []
  }
 ],
 "metadata": {
  "kernelspec": {
   "display_name": "python3",
   "language": "python",
   "name": "python3"
  }
 },
 "nbformat": 4,
 "nbformat_minor": 4
}
