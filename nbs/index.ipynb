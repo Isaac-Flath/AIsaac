{
 "cells": [
  {
   "cell_type": "code",
   "execution_count": null,
   "metadata": {},
   "outputs": [],
   "source": [
    "#|hide\n",
    "%load_ext autoreload\n",
    "%autoreload 2"
   ]
  },
  {
   "cell_type": "markdown",
   "metadata": {},
   "source": [
    "# isaacai\n",
    "\n",
    "> Library for dl"
   ]
  },
  {
   "cell_type": "markdown",
   "metadata": {},
   "source": [
    "This library is a work in progress to become a deep learning library for my own use.\n",
    "\n",
    "The code in this library is heavily inspired by the miniai library developed as part of the part 2 course.  I am writing the Deep Learning portions myself, but other parts of the library are taken directly from that library (ie memory cleaning functions, plotting helper functions, etc.).  This is very much a work in progress at the very early/beginning stages.  It's not ready for practical use (yet!)."
   ]
  },
  {
   "cell_type": "markdown",
   "metadata": {},
   "source": [
    "## Install"
   ]
  },
  {
   "cell_type": "markdown",
   "metadata": {},
   "source": [
    "Cone the repo and do an editable install. You will almost certainly need to modify the library as you use it given the early stages it is in.\n",
    "\n",
    "```sh\n",
    "pip install -e .[dev]\n",
    "```"
   ]
  },
  {
   "cell_type": "markdown",
   "metadata": {},
   "source": [
    "## How to use"
   ]
  },
  {
   "cell_type": "markdown",
   "metadata": {},
   "source": [
    "### Minimal Example"
   ]
  },
  {
   "cell_type": "markdown",
   "metadata": {},
   "source": [
    "### Dataloaders\n",
    "\n",
    "+ Minimal Example\n",
    "+ Pytorch Datasets\n",
    "+ HuggingFace Datasets"
   ]
  },
  {
   "cell_type": "markdown",
   "metadata": {},
   "source": [
    "### Data Augmentation\n",
    "\n",
    "#### Use Existing Augmentations\n",
    "+ Item vs Batch Aug\n",
    "+ CPU vs GPU Aug\n",
    "\n",
    "#### Add New Augmentation\n",
    "\n",
    "+ Item vs Batch Aug\n",
    "+ CPU vs GPU Aug"
   ]
  },
  {
   "cell_type": "markdown",
   "metadata": {},
   "source": [
    "### Training Loop\n",
    "\n",
    "+ Callback System\n",
    "+ Modification Ex.\n"
   ]
  },
  {
   "cell_type": "markdown",
   "metadata": {},
   "source": [
    "### Models\n",
    "\n",
    "+ Pytorch Model\n",
    "+ Timm Model\n",
    "+ HuggingFace Model"
   ]
  },
  {
   "cell_type": "markdown",
   "metadata": {},
   "source": [
    "### Metrics\n",
    "\n",
    "+ Use Existing Metric\n",
    "+ Create New Metric"
   ]
  },
  {
   "cell_type": "markdown",
   "metadata": {},
   "source": [
    "### Optimizers\n",
    "\n",
    "+ Use Existing Optimizer\n",
    "+ Create New Optimizer"
   ]
  },
  {
   "cell_type": "markdown",
   "metadata": {},
   "source": [
    "### Loss Functions\n",
    "\n",
    "+ Use Existing Loss Function\n",
    "+ Create Loss Function"
   ]
  },
  {
   "cell_type": "markdown",
   "metadata": {},
   "source": [
    "### Model Evaluations\n",
    "\n",
    "+ Activation Stats\n",
    "    + Color Dim\n",
    "    + Dead Chart\n",
    "    + Plot Stats\n",
    "+ Plot Loss\n",
    "+ Logging with W&B"
   ]
  },
  {
   "cell_type": "code",
   "execution_count": null,
   "metadata": {},
   "outputs": [],
   "source": []
  }
 ],
 "metadata": {
  "kernelspec": {
   "display_name": "Python 3",
   "language": "python",
   "name": "python3"
  }
 },
 "nbformat": 4,
 "nbformat_minor": 4
}
