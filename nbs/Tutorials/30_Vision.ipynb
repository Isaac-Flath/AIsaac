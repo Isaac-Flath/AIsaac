{
 "cells": [
  {
   "cell_type": "raw",
   "id": "ce8972b6-838a-429d-a1b0-65bec08fc5a2",
   "metadata": {},
   "source": [
    "---\n",
    "skip_showdoc: true\n",
    "skip_exec: true\n",
    "---"
   ]
  },
  {
   "cell_type": "markdown",
   "id": "f7de2b0e-c7a8-4c49-8bfb-c4669e9a47fb",
   "metadata": {},
   "source": [
    "# Fashion MNIST\n",
    "\n",
    "The goal of this tutorial is to get demo how to get over 90% accuracy on Fashion MNIST with this framework.  While this isn't a partcularly hard thing to do, I think it's helpful to have an end-to-end example."
   ]
  },
  {
   "cell_type": "code",
   "execution_count": null,
   "id": "fd75d55b-d644-4383-ab1e-872607c47394",
   "metadata": {},
   "outputs": [],
   "source": [
    "from AIsaac.all import *\n",
    "import torch\n",
    "from datasets import load_dataset\n",
    "from torch import nn\n",
    "from torcheval.metrics import MulticlassAccuracy\n",
    "import torchvision.transforms.functional as TF"
   ]
  },
  {
   "cell_type": "code",
   "execution_count": null,
   "id": "1a860278-7a7d-477e-b755-ae7aad038b98",
   "metadata": {},
   "outputs": [],
   "source": [
    "torch.set_printoptions(precision=2, linewidth=140, sci_mode=False)\n",
    "torch.manual_seed(1)\n",
    "set_seed(42)"
   ]
  },
  {
   "cell_type": "code",
   "execution_count": null,
   "id": "8b470376-1fb5-40da-aeff-94aa4dda9853",
   "metadata": {},
   "outputs": [],
   "source": [
    "xmean,xstd = 0.28, 0.35\n",
    "@inplace\n",
    "def transformi(b): b['image'] = [(TF.to_tensor(o)-xmean)/xstd for o in b['image']]\n",
    "\n",
    "_dataset = load_dataset('fashion_mnist').with_transform(transformi)\n",
    "dls = DataLoaders.from_dataset_dict(_dataset, 256, num_workers=4)"
   ]
  },
  {
   "cell_type": "code",
   "execution_count": null,
   "id": "20853c21-e3a5-4852-9a0a-93ce53d93e9d",
   "metadata": {},
   "outputs": [],
   "source": [
    "dls.show_batch()"
   ]
  },
  {
   "cell_type": "markdown",
   "id": "407171ad-f6e3-4b60-b90c-cbb56f0e1050",
   "metadata": {},
   "source": [
    "## Basic Trainer"
   ]
  },
  {
   "cell_type": "code",
   "execution_count": null,
   "id": "f49e8bc2-8264-4435-995f-efd02edc4f99",
   "metadata": {},
   "outputs": [],
   "source": [
    "set_seed(1,True)\n",
    "trainer = Trainer(dls,\n",
    "              nn.CrossEntropyLoss(), \n",
    "              torch.optim.Adam, \n",
    "              get_model_conv(norm=nn.BatchNorm2d),\n",
    "              callbacks=[CoreCBs(Accuracy=MulticlassAccuracy()),OneCycleSchedulerCB()])\n",
    "trainer.fit(5,lr=.01)"
   ]
  },
  {
   "cell_type": "markdown",
   "id": "73a2aaf8-f823-4072-ac5b-5d55c87df27a",
   "metadata": {},
   "source": [
    "## Timm Model"
   ]
  },
  {
   "cell_type": "code",
   "execution_count": null,
   "id": "58c5b339-b5a7-430b-835c-e55007ef1b41",
   "metadata": {},
   "outputs": [],
   "source": [
    "model = get_model_timm('resnet18', pretrained=True,num_classes=10,in_chans=1)"
   ]
  },
  {
   "cell_type": "code",
   "execution_count": null,
   "id": "d4c02410-fce3-4225-8901-b95f7eaadb30",
   "metadata": {},
   "outputs": [],
   "source": [
    "set_seed(1,True)\n",
    "trainer = Trainer(dls,\n",
    "              nn.CrossEntropyLoss(), \n",
    "              torch.optim.Adam, \n",
    "              model,\n",
    "              callbacks=[CoreCBs(Accuracy=MulticlassAccuracy()),OneCycleSchedulerCB()])\n",
    "trainer.fit(5,lr=.01)"
   ]
  },
  {
   "cell_type": "markdown",
   "id": "9d59748b-ba25-42dd-b942-9366cdc7f1cf",
   "metadata": {},
   "source": [
    "## Looking at Trainer"
   ]
  },
  {
   "cell_type": "code",
   "execution_count": null,
   "id": "8478fa18-2f93-4c3c-9fb5-6ed11845ac5b",
   "metadata": {},
   "outputs": [],
   "source": [
    "trainer.summarize_callbacks()"
   ]
  },
  {
   "cell_type": "markdown",
   "id": "8dbcd6e6-7777-49b1-b414-f8f6d6c64a79",
   "metadata": {},
   "source": [
    "## Looking at Model"
   ]
  },
  {
   "cell_type": "code",
   "execution_count": null,
   "id": "3055d3b4-db09-43da-b736-f6ea0bf1b891",
   "metadata": {},
   "outputs": [],
   "source": [
    "trainer.summarize_model()"
   ]
  },
  {
   "cell_type": "code",
   "execution_count": null,
   "id": "8159a7e0-f37d-44a0-9baf-1e341dc911d0",
   "metadata": {},
   "outputs": [],
   "source": []
  },
  {
   "cell_type": "code",
   "execution_count": null,
   "id": "a84d7713-46f9-4a79-b2c1-a54ea5bc956a",
   "metadata": {},
   "outputs": [],
   "source": []
  }
 ],
 "metadata": {
  "kernelspec": {
   "display_name": "python3",
   "language": "python",
   "name": "python3"
  }
 },
 "nbformat": 4,
 "nbformat_minor": 5
}
