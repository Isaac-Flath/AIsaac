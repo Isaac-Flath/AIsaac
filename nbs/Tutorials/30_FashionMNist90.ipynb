{
 "cells": [
  {
   "cell_type": "raw",
   "id": "ce8972b6-838a-429d-a1b0-65bec08fc5a2",
   "metadata": {},
   "source": [
    "---\n",
    "skip_showdoc: true\n",
    "skip_exec: true\n",
    "---"
   ]
  },
  {
   "cell_type": "markdown",
   "id": "f7de2b0e-c7a8-4c49-8bfb-c4669e9a47fb",
   "metadata": {},
   "source": [
    "# Fashion MNIST\n",
    "\n",
    "The goal of this tutorial is to get demo how to get over 90% accuracy on Fashion MNIST with this framework.  While this isn't a partcularly hard thing to do, I think it's helpful to have an end-to-end example."
   ]
  },
  {
   "cell_type": "code",
   "execution_count": null,
   "id": "fd75d55b-d644-4383-ab1e-872607c47394",
   "metadata": {},
   "outputs": [],
   "source": [
    "from isaacai.all import *\n",
    "import torch\n",
    "from datasets import load_dataset\n",
    "from torch import nn\n",
    "from torcheval.metrics import MulticlassAccuracy\n",
    "import torchvision.transforms.functional as TF"
   ]
  },
  {
   "cell_type": "code",
   "execution_count": null,
   "id": "1a860278-7a7d-477e-b755-ae7aad038b98",
   "metadata": {},
   "outputs": [],
   "source": [
    "torch.set_printoptions(precision=2, linewidth=140, sci_mode=False)\n",
    "torch.manual_seed(1)\n",
    "set_seed(42)"
   ]
  },
  {
   "cell_type": "code",
   "execution_count": null,
   "id": "8b470376-1fb5-40da-aeff-94aa4dda9853",
   "metadata": {},
   "outputs": [
    {
     "name": "stderr",
     "output_type": "stream",
     "text": [
      "Found cached dataset fashion_mnist (/home/.cache/huggingface/datasets/fashion_mnist/fashion_mnist/1.0.0/8d6c32399aa01613d96e2cbc9b13638f359ef62bb33612b077b4c247f6ef99c1)\n"
     ]
    },
    {
     "data": {
      "application/json": {
       "ascii": false,
       "bar_format": null,
       "colour": null,
       "elapsed": 0.03211617469787598,
       "initial": 0,
       "n": 0,
       "ncols": null,
       "nrows": null,
       "postfix": null,
       "prefix": "",
       "rate": null,
       "total": 2,
       "unit": "it",
       "unit_divisor": 1000,
       "unit_scale": false
      },
      "application/vnd.jupyter.widget-view+json": {
       "model_id": "2624bd62dd6c4865aa44ff0413c70de9",
       "version_major": 2,
       "version_minor": 0
      },
      "text/plain": [
       "  0%|          | 0/2 [00:00<?, ?it/s]"
      ]
     },
     "metadata": {},
     "output_type": "display_data"
    }
   ],
   "source": [
    "xmean,xstd = 0.28, 0.35\n",
    "@inplace\n",
    "def transformi(b): b['image'] = [(TF.to_tensor(o)-xmean)/xstd for o in b['image']]\n",
    "\n",
    "_dataset = load_dataset('fashion_mnist').with_transform(transformi)\n",
    "dls = DataLoaders.from_dataset_dict(_dataset, 256, num_workers=4)"
   ]
  },
  {
   "cell_type": "code",
   "execution_count": null,
   "id": "20853c21-e3a5-4852-9a0a-93ce53d93e9d",
   "metadata": {},
   "outputs": [
    {
     "data": {
      "image/png": "[encoded data removed]",
      "text/plain": [
       "<Figure size 648x648 with 9 Axes>"
      ]
     },
     "metadata": {},
     "output_type": "display_data"
    }
   ],
   "source": [
    "dls.show_batch()"
   ]
  },
  {
   "cell_type": "markdown",
   "id": "407171ad-f6e3-4b60-b90c-cbb56f0e1050",
   "metadata": {},
   "source": [
    "## Basic Trainer"
   ]
  },
  {
   "cell_type": "code",
   "execution_count": null,
   "id": "f49e8bc2-8264-4435-995f-efd02edc4f99",
   "metadata": {},
   "outputs": [
    {
     "data": {
      "text/html": [
       "\n",
       "<style>\n",
       "    /* Turns off some styling */\n",
       "    progress {\n",
       "        /* gets rid of default border in Firefox and Opera. */\n",
       "        border: none;\n",
       "        /* Needs to be in here for Safari polyfill so background images work as expected. */\n",
       "        background-size: auto;\n",
       "    }\n",
       "    progress:not([value]), progress:not([value])::-webkit-progress-bar {\n",
       "        background: repeating-linear-gradient(45deg, #7e7e7e, #7e7e7e 10px, #5c5c5c 10px, #5c5c5c 20px);\n",
       "    }\n",
       "    .progress-bar-interrupted, .progress-bar-interrupted::-webkit-progress-bar {\n",
       "        background: #F44336;\n",
       "    }\n",
       "</style>\n"
      ],
      "text/plain": [
       "<IPython.core.display.HTML object>"
      ]
     },
     "metadata": {},
     "output_type": "display_data"
    },
    {
     "data": {
      "text/html": [],
      "text/plain": [
       "<IPython.core.display.HTML object>"
      ]
     },
     "metadata": {},
     "output_type": "display_data"
    },
    {
     "data": {
      "text/html": [
       "<div>\n",
       "<style scoped>\n",
       "    .dataframe tbody tr th:only-of-type {\n",
       "        vertical-align: middle;\n",
       "    }\n",
       "\n",
       "    .dataframe tbody tr th {\n",
       "        vertical-align: top;\n",
       "    }\n",
       "\n",
       "    .dataframe thead th {\n",
       "        text-align: right;\n",
       "    }\n",
       "</style>\n",
       "<table border=\"1\" class=\"dataframe\">\n",
       "  <thead>\n",
       "    <tr style=\"text-align: right;\">\n",
       "      <th></th>\n",
       "      <th>train</th>\n",
       "      <th>valid</th>\n",
       "      <th>Accuracy</th>\n",
       "    </tr>\n",
       "  </thead>\n",
       "  <tbody>\n",
       "    <tr>\n",
       "      <th>0</th>\n",
       "      <td>0.695879</td>\n",
       "      <td>0.400296</td>\n",
       "      <td>0.8543</td>\n",
       "    </tr>\n",
       "  </tbody>\n",
       "</table>\n",
       "</div>"
      ],
      "text/plain": [
       "      train     valid  Accuracy\n",
       "0  0.695879  0.400296    0.8543"
      ]
     },
     "metadata": {},
     "output_type": "display_data"
    },
    {
     "data": {
      "text/html": [
       "<style type=\"text/css\">\n",
       "#T_cd3c2 thead {\n",
       "  display: none;\n",
       "}\n",
       "</style>\n",
       "<table id=\"T_cd3c2\">\n",
       "  <thead>\n",
       "    <tr>\n",
       "      <th class=\"blank level0\" >&nbsp;</th>\n",
       "      <th id=\"T_cd3c2_level0_col0\" class=\"col_heading level0 col0\" >train</th>\n",
       "      <th id=\"T_cd3c2_level0_col1\" class=\"col_heading level0 col1\" >valid</th>\n",
       "      <th id=\"T_cd3c2_level0_col2\" class=\"col_heading level0 col2\" >Accuracy</th>\n",
       "    </tr>\n",
       "  </thead>\n",
       "  <tbody>\n",
       "    <tr>\n",
       "      <th id=\"T_cd3c2_level0_row0\" class=\"row_heading level0 row0\" >1</th>\n",
       "      <td id=\"T_cd3c2_row0_col0\" class=\"data row0 col0\" >0.337101</td>\n",
       "      <td id=\"T_cd3c2_row0_col1\" class=\"data row0 col1\" >0.411149</td>\n",
       "      <td id=\"T_cd3c2_row0_col2\" class=\"data row0 col2\" >0.849500</td>\n",
       "    </tr>\n",
       "  </tbody>\n",
       "</table>\n"
      ],
      "text/plain": [
       "<pandas.io.formats.style.Styler>"
      ]
     },
     "metadata": {},
     "output_type": "display_data"
    },
    {
     "data": {
      "text/html": [
       "<style type=\"text/css\">\n",
       "#T_82c76 thead {\n",
       "  display: none;\n",
       "}\n",
       "</style>\n",
       "<table id=\"T_82c76\">\n",
       "  <thead>\n",
       "    <tr>\n",
       "      <th class=\"blank level0\" >&nbsp;</th>\n",
       "      <th id=\"T_82c76_level0_col0\" class=\"col_heading level0 col0\" >train</th>\n",
       "      <th id=\"T_82c76_level0_col1\" class=\"col_heading level0 col1\" >valid</th>\n",
       "      <th id=\"T_82c76_level0_col2\" class=\"col_heading level0 col2\" >Accuracy</th>\n",
       "    </tr>\n",
       "  </thead>\n",
       "  <tbody>\n",
       "    <tr>\n",
       "      <th id=\"T_82c76_level0_row0\" class=\"row_heading level0 row0\" >2</th>\n",
       "      <td id=\"T_82c76_row0_col0\" class=\"data row0 col0\" >0.272730</td>\n",
       "      <td id=\"T_82c76_row0_col1\" class=\"data row0 col1\" >0.298542</td>\n",
       "      <td id=\"T_82c76_row0_col2\" class=\"data row0 col2\" >0.889600</td>\n",
       "    </tr>\n",
       "  </tbody>\n",
       "</table>\n"
      ],
      "text/plain": [
       "<pandas.io.formats.style.Styler>"
      ]
     },
     "metadata": {},
     "output_type": "display_data"
    },
    {
     "data": {
      "text/html": [
       "<style type=\"text/css\">\n",
       "#T_f1232 thead {\n",
       "  display: none;\n",
       "}\n",
       "</style>\n",
       "<table id=\"T_f1232\">\n",
       "  <thead>\n",
       "    <tr>\n",
       "      <th class=\"blank level0\" >&nbsp;</th>\n",
       "      <th id=\"T_f1232_level0_col0\" class=\"col_heading level0 col0\" >train</th>\n",
       "      <th id=\"T_f1232_level0_col1\" class=\"col_heading level0 col1\" >valid</th>\n",
       "      <th id=\"T_f1232_level0_col2\" class=\"col_heading level0 col2\" >Accuracy</th>\n",
       "    </tr>\n",
       "  </thead>\n",
       "  <tbody>\n",
       "    <tr>\n",
       "      <th id=\"T_f1232_level0_row0\" class=\"row_heading level0 row0\" >3</th>\n",
       "      <td id=\"T_f1232_row0_col0\" class=\"data row0 col0\" >0.221198</td>\n",
       "      <td id=\"T_f1232_row0_col1\" class=\"data row0 col1\" >0.263169</td>\n",
       "      <td id=\"T_f1232_row0_col2\" class=\"data row0 col2\" >0.904600</td>\n",
       "    </tr>\n",
       "  </tbody>\n",
       "</table>\n"
      ],
      "text/plain": [
       "<pandas.io.formats.style.Styler>"
      ]
     },
     "metadata": {},
     "output_type": "display_data"
    },
    {
     "data": {
      "text/html": [
       "<style type=\"text/css\">\n",
       "#T_704e0 thead {\n",
       "  display: none;\n",
       "}\n",
       "</style>\n",
       "<table id=\"T_704e0\">\n",
       "  <thead>\n",
       "    <tr>\n",
       "      <th class=\"blank level0\" >&nbsp;</th>\n",
       "      <th id=\"T_704e0_level0_col0\" class=\"col_heading level0 col0\" >train</th>\n",
       "      <th id=\"T_704e0_level0_col1\" class=\"col_heading level0 col1\" >valid</th>\n",
       "      <th id=\"T_704e0_level0_col2\" class=\"col_heading level0 col2\" >Accuracy</th>\n",
       "    </tr>\n",
       "  </thead>\n",
       "  <tbody>\n",
       "    <tr>\n",
       "      <th id=\"T_704e0_level0_row0\" class=\"row_heading level0 row0\" >4</th>\n",
       "      <td id=\"T_704e0_row0_col0\" class=\"data row0 col0\" >0.180477</td>\n",
       "      <td id=\"T_704e0_row0_col1\" class=\"data row0 col1\" >0.252623</td>\n",
       "      <td id=\"T_704e0_row0_col2\" class=\"data row0 col2\" >0.906800</td>\n",
       "    </tr>\n",
       "  </tbody>\n",
       "</table>\n"
      ],
      "text/plain": [
       "<pandas.io.formats.style.Styler>"
      ]
     },
     "metadata": {},
     "output_type": "display_data"
    }
   ],
   "source": [
    "set_seed(1,True)\n",
    "trainer = Trainer(dls,\n",
    "              nn.CrossEntropyLoss(), \n",
    "              torch.optim.Adam, \n",
    "              get_model_conv(norm=nn.BatchNorm2d),\n",
    "              callbacks=[CoreCBs(Accuracy=MulticlassAccuracy()),OneCycleSchedulerCB()])\n",
    "trainer.fit(5,lr=.01)"
   ]
  },
  {
   "cell_type": "markdown",
   "id": "9d59748b-ba25-42dd-b942-9366cdc7f1cf",
   "metadata": {},
   "source": [
    "## Looking at Trainer"
   ]
  },
  {
   "cell_type": "code",
   "execution_count": null,
   "id": "8478fa18-2f93-4c3c-9fb5-6ed11845ac5b",
   "metadata": {},
   "outputs": [],
   "source": [
    "trainer.summarize_callbacks()"
   ]
  },
  {
   "cell_type": "markdown",
   "id": "8dbcd6e6-7777-49b1-b414-f8f6d6c64a79",
   "metadata": {},
   "source": [
    "## Looking at Model"
   ]
  },
  {
   "cell_type": "code",
   "execution_count": null,
   "id": "3055d3b4-db09-43da-b736-f6ea0bf1b891",
   "metadata": {},
   "outputs": [],
   "source": [
    "trainer.summarize_model()"
   ]
  },
  {
   "cell_type": "code",
   "execution_count": null,
   "id": "72bd36a6-6423-4fd2-8ea4-5bc0dafd1714",
   "metadata": {},
   "outputs": [],
   "source": []
  }
 ],
 "metadata": {
  "kernelspec": {
   "display_name": "python3",
   "language": "python",
   "name": "python3"
  }
 },
 "nbformat": 4,
 "nbformat_minor": 5
}
