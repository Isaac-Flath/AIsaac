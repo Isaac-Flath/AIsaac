{
 "cells": [
  {
   "cell_type": "raw",
   "id": "e924b09d-9bdf-4567-950b-4f3291ee0feb",
   "metadata": {},
   "source": [
    "---\n",
    "skip_showdoc: true\n",
    "skip_exec: true\n",
    "---"
   ]
  },
  {
   "cell_type": "markdown",
   "id": "35ffbf61-9481-4824-8522-7200a88f7db1",
   "metadata": {},
   "source": [
    "# Callbacks"
   ]
  },
  {
   "cell_type": "markdown",
   "id": "afc79a30-d809-4631-b0bb-aee0f7c7c0cd",
   "metadata": {},
   "source": [
    "The `isaacai` library is an extremely flexible framework that uses callbacks **a lot**.  They are probably more widely used than in any other framework.  It's super heavily influenced by callbacks system in the `miniai` library developed as part of the fastai course, but goes a bit further in that direction in a couple of aspects.  Because of this it's very important to understand how to use `isaacai` uses them and how you can leverage that."
   ]
  },
  {
   "cell_type": "markdown",
   "id": "4eb8b0af-d88f-4258-9ae2-a12482056cbc",
   "metadata": {},
   "source": [
    "## Setup\n",
    "\n",
    "Here I will set up the needed pieces for the tutorial.  This includes imports and loading a small subset of the fashion MNIST dataset."
   ]
  },
  {
   "cell_type": "code",
   "execution_count": null,
   "id": "d84cda67-fa0d-4a01-a9d0-c43a4e1263bc",
   "metadata": {},
   "outputs": [],
   "source": [
    "#|hide\n",
    "%load_ext autoreload\n",
    "%autoreload 2"
   ]
  },
  {
   "cell_type": "code",
   "execution_count": null,
   "id": "850d2ce9-c6f0-4edf-b4c2-8a3a8dcb879d",
   "metadata": {},
   "outputs": [],
   "source": [
    "#|hide\n",
    "import inspect\n",
    "from subprocess import check_output\n",
    "from IPython.core.display import HTML\n",
    "\n",
    "def view_source_code(f):\n",
    "    output = check_output([\"pygmentize\",\"-f\",\"html\",\"-O\",\"full,style=emacs\",\"-l\",\"python\"],\n",
    "        input=inspect.getsource(f), encoding='ascii')\n",
    "    display(HTML(output))"
   ]
  },
  {
   "cell_type": "code",
   "execution_count": null,
   "id": "fd75d55b-d644-4383-ab1e-872607c47394",
   "metadata": {},
   "outputs": [],
   "source": [
    "from isaacai.all import *\n",
    "import fastcore.all as fc\n",
    "import matplotlib.pyplot as plt,matplotlib as mpl\n",
    "import torch\n",
    "from datasets import load_dataset\n",
    "from torch import nn\n",
    "from torcheval.metrics import MulticlassAccuracy\n",
    "import torchvision.transforms.functional as TF"
   ]
  },
  {
   "cell_type": "code",
   "execution_count": null,
   "id": "1a860278-7a7d-477e-b755-ae7aad038b98",
   "metadata": {},
   "outputs": [],
   "source": [
    "torch.set_printoptions(precision=2, linewidth=140, sci_mode=False)\n",
    "torch.manual_seed(1)\n",
    "mpl.rcParams['image.cmap'] = 'gray'\n",
    "set_seed(42)"
   ]
  },
  {
   "cell_type": "code",
   "execution_count": null,
   "id": "8b470376-1fb5-40da-aeff-94aa4dda9853",
   "metadata": {},
   "outputs": [
    {
     "name": "stderr",
     "output_type": "stream",
     "text": [
      "Found cached dataset fashion_mnist (/home/.cache/huggingface/datasets/fashion_mnist/fashion_mnist/1.0.0/8d6c32399aa01613d96e2cbc9b13638f359ef62bb33612b077b4c247f6ef99c1)\n"
     ]
    },
    {
     "data": {
      "application/json": {
       "ascii": false,
       "bar_format": null,
       "colour": null,
       "elapsed": 0.03122997283935547,
       "initial": 0,
       "n": 0,
       "ncols": null,
       "nrows": null,
       "postfix": null,
       "prefix": "",
       "rate": null,
       "total": 2,
       "unit": "it",
       "unit_divisor": 1000,
       "unit_scale": false
      },
      "application/vnd.jupyter.widget-view+json": {
       "model_id": "6011e3f403284e099b6ce47df0335f2b",
       "version_major": 2,
       "version_minor": 0
      },
      "text/plain": [
       "  0%|          | 0/2 [00:00<?, ?it/s]"
      ]
     },
     "metadata": {},
     "output_type": "display_data"
    }
   ],
   "source": [
    "xmean,xstd = 0.28, 0.35\n",
    "@inplace\n",
    "def transformi(b): b['image'] = [(TF.to_tensor(o)-xmean)/xstd for o in b['image']]\n",
    "\n",
    "_dataset = load_dataset('fashion_mnist').with_transform(transformi)\n",
    "dls = DataLoaders.from_dataset_dict(_dataset, 64, num_workers=4)"
   ]
  },
  {
   "cell_type": "markdown",
   "id": "e400045d-2fb0-44b8-8794-110686c820df",
   "metadata": {},
   "source": [
    "## Basic Trainer"
   ]
  },
  {
   "cell_type": "code",
   "execution_count": null,
   "id": "730075e5-a3d0-46bb-8e2e-dbc96d47f449",
   "metadata": {},
   "outputs": [
    {
     "data": {
      "text/html": [
       "\n",
       "<style>\n",
       "    /* Turns off some styling */\n",
       "    progress {\n",
       "        /* gets rid of default border in Firefox and Opera. */\n",
       "        border: none;\n",
       "        /* Needs to be in here for Safari polyfill so background images work as expected. */\n",
       "        background-size: auto;\n",
       "    }\n",
       "    progress:not([value]), progress:not([value])::-webkit-progress-bar {\n",
       "        background: repeating-linear-gradient(45deg, #7e7e7e, #7e7e7e 10px, #5c5c5c 10px, #5c5c5c 20px);\n",
       "    }\n",
       "    .progress-bar-interrupted, .progress-bar-interrupted::-webkit-progress-bar {\n",
       "        background: #F44336;\n",
       "    }\n",
       "</style>\n"
      ],
      "text/plain": [
       "<IPython.core.display.HTML object>"
      ]
     },
     "metadata": {},
     "output_type": "display_data"
    },
    {
     "data": {
      "text/html": [],
      "text/plain": [
       "<IPython.core.display.HTML object>"
      ]
     },
     "metadata": {},
     "output_type": "display_data"
    },
    {
     "data": {
      "text/html": [
       "<div>\n",
       "<style scoped>\n",
       "    .dataframe tbody tr th:only-of-type {\n",
       "        vertical-align: middle;\n",
       "    }\n",
       "\n",
       "    .dataframe tbody tr th {\n",
       "        vertical-align: top;\n",
       "    }\n",
       "\n",
       "    .dataframe thead th {\n",
       "        text-align: right;\n",
       "    }\n",
       "</style>\n",
       "<table border=\"1\" class=\"dataframe\">\n",
       "  <thead>\n",
       "    <tr style=\"text-align: right;\">\n",
       "      <th></th>\n",
       "      <th>train</th>\n",
       "      <th>valid</th>\n",
       "      <th>Accuracy</th>\n",
       "    </tr>\n",
       "  </thead>\n",
       "  <tbody>\n",
       "    <tr>\n",
       "      <th>0</th>\n",
       "      <td>0.601941</td>\n",
       "      <td>0.436749</td>\n",
       "      <td>0.8439</td>\n",
       "    </tr>\n",
       "  </tbody>\n",
       "</table>\n",
       "</div>"
      ],
      "text/plain": [
       "      train     valid  Accuracy\n",
       "0  0.601941  0.436749    0.8439"
      ]
     },
     "metadata": {},
     "output_type": "display_data"
    },
    {
     "data": {
      "text/html": [
       "<style type=\"text/css\">\n",
       "#T_8feee thead {\n",
       "  display: none;\n",
       "}\n",
       "</style>\n",
       "<table id=\"T_8feee\">\n",
       "  <thead>\n",
       "    <tr>\n",
       "      <th class=\"blank level0\" >&nbsp;</th>\n",
       "      <th id=\"T_8feee_level0_col0\" class=\"col_heading level0 col0\" >train</th>\n",
       "      <th id=\"T_8feee_level0_col1\" class=\"col_heading level0 col1\" >valid</th>\n",
       "      <th id=\"T_8feee_level0_col2\" class=\"col_heading level0 col2\" >Accuracy</th>\n",
       "    </tr>\n",
       "  </thead>\n",
       "  <tbody>\n",
       "    <tr>\n",
       "      <th id=\"T_8feee_level0_row0\" class=\"row_heading level0 row0\" >1</th>\n",
       "      <td id=\"T_8feee_row0_col0\" class=\"data row0 col0\" >0.389781</td>\n",
       "      <td id=\"T_8feee_row0_col1\" class=\"data row0 col1\" >0.381396</td>\n",
       "      <td id=\"T_8feee_row0_col2\" class=\"data row0 col2\" >0.858400</td>\n",
       "    </tr>\n",
       "  </tbody>\n",
       "</table>\n"
      ],
      "text/plain": [
       "<pandas.io.formats.style.Styler>"
      ]
     },
     "metadata": {},
     "output_type": "display_data"
    },
    {
     "data": {
      "text/html": [
       "<style type=\"text/css\">\n",
       "#T_61116 thead {\n",
       "  display: none;\n",
       "}\n",
       "</style>\n",
       "<table id=\"T_61116\">\n",
       "  <thead>\n",
       "    <tr>\n",
       "      <th class=\"blank level0\" >&nbsp;</th>\n",
       "      <th id=\"T_61116_level0_col0\" class=\"col_heading level0 col0\" >train</th>\n",
       "      <th id=\"T_61116_level0_col1\" class=\"col_heading level0 col1\" >valid</th>\n",
       "      <th id=\"T_61116_level0_col2\" class=\"col_heading level0 col2\" >Accuracy</th>\n",
       "    </tr>\n",
       "  </thead>\n",
       "  <tbody>\n",
       "    <tr>\n",
       "      <th id=\"T_61116_level0_row0\" class=\"row_heading level0 row0\" >2</th>\n",
       "      <td id=\"T_61116_row0_col0\" class=\"data row0 col0\" >0.339881</td>\n",
       "      <td id=\"T_61116_row0_col1\" class=\"data row0 col1\" >0.348775</td>\n",
       "      <td id=\"T_61116_row0_col2\" class=\"data row0 col2\" >0.870900</td>\n",
       "    </tr>\n",
       "  </tbody>\n",
       "</table>\n"
      ],
      "text/plain": [
       "<pandas.io.formats.style.Styler>"
      ]
     },
     "metadata": {},
     "output_type": "display_data"
    }
   ],
   "source": [
    "trainer = Trainer(dls,\n",
    "                  nn.CrossEntropyLoss(), \n",
    "                  torch.optim.Adam, \n",
    "                  model = get_model_conv(),\n",
    "                  callbacks=[BasicTrainCB(),MetricsCB(Accuracy=MulticlassAccuracy()), DeviceCB(),ProgressCB()])\n",
    "trainer.fit()"
   ]
  },
  {
   "cell_type": "markdown",
   "id": "1adf2d5d-2531-4955-af61-d61b355bf4a0",
   "metadata": {},
   "source": [
    "So we passed in a `DataLoaders`, a pytorch loss, a pytorch optimizer, a pytorch model, and some callbacks.  As you can see by running `Trainer.fit` it ran a full training loop.  **The training loop is defined entirely in the callbacks**.  For this tutorial we are focusing on the callbacks.  Please refer to pytorch documentation for the pytorch pieces."
   ]
  },
  {
   "cell_type": "markdown",
   "id": "3a45e8ee-ab8f-456c-8da5-28b74ceefa35",
   "metadata": {},
   "source": [
    "### One batch"
   ]
  },
  {
   "cell_type": "markdown",
   "id": "dbb9a62c-8bcb-4938-9a91-2164c9bc5f48",
   "metadata": {},
   "source": [
    "Let's see how a batch is processed.  The source code for the batch trainer is very small and there's two things we need to understand about it, the decorator and the run_callbacks method."
   ]
  },
  {
   "cell_type": "markdown",
   "id": "b832b365-6cbb-4c80-8b96-3bb260a533e0",
   "metadata": {},
   "source": [
    "```python\n",
    "@with_cbs('batch', CancelBatchException)\n",
    "def one_batch(self):\n",
    "    self.run_callbacks(['predict','get_loss'])\n",
    "    if self.training: self.run_callbacks(['before_backward','backward','step','zero_grad'\n",
    "```"
   ]
  },
  {
   "cell_type": "markdown",
   "id": "8740fcda-2fd2-4f0b-854a-45ab1e9c7ef9",
   "metadata": {},
   "source": [
    "#### `run_callbacks`"
   ]
  },
  {
   "cell_type": "markdown",
   "id": "0296ffd3-ff3a-4a45-890c-3d0a294d7e46",
   "metadata": {},
   "source": [
    "The `run_callbacks` method is what actually executes the callbacks code.  As you can see a batch is just all callbacks. \n",
    "\n",
    "The first `run_callbacks` does the following:\n",
    "\n",
    "::: {.callout-tip}\n",
    "\n",
    "##### run_callbacks pseudo code\n",
    "+ Sorts all callbacks according to the \"order\" attribute (defaults to 0)\n",
    "+ Loops through `['predict','get_loss']`\n",
    "    + Loops through ordered callbacks:\n",
    "        + If \"predict\" method exists for that callback then run it\n",
    "\n",
    ":::"
   ]
  },
  {
   "cell_type": "markdown",
   "id": "b5a2a141-80ba-45f9-9fb4-96ed1f754609",
   "metadata": {},
   "source": [
    "Let's look at the `BasicTrainCB` code.  Each element needed to process the batch is here.  \"before_backward\" is not defined so this callback won't do anything in that step.  We could however define a callback that happens before the backward pass if we want to add functionality there to our training loop."
   ]
  },
  {
   "cell_type": "code",
   "execution_count": null,
   "id": "ea0ea33a-f463-455d-a96d-908598b8ef36",
   "metadata": {},
   "outputs": [
    {
     "data": {
      "text/html": [
       "<!DOCTYPE html PUBLIC \"-//W3C//DTD HTML 4.01//EN\"\n",
       "   \"http://www.w3.org/TR/html4/strict.dtd\">\n",
       "<!--\n",
       "generated by Pygments <https://pygments.org/>\n",
       "Copyright 2006-2021 by the Pygments team.\n",
       "Licensed under the BSD license, see LICENSE for details.\n",
       "-->\n",
       "<html>\n",
       "<head>\n",
       "  <title></title>\n",
       "  <meta http-equiv=\"content-type\" content=\"text/html; charset=utf-8\">\n",
       "  <style type=\"text/css\">\n",
       "/*\n",
       "generated by Pygments <https://pygments.org/>\n",
       "Copyright 2006-2021 by the Pygments team.\n",
       "Licensed under the BSD license, see LICENSE for details.\n",
       "*/\n",
       "pre { line-height: 125%; }\n",
       "td.linenos .normal { color: inherit; background-color: transparent; padding-left: 5px; padding-right: 5px; }\n",
       "span.linenos { color: inherit; background-color: transparent; padding-left: 5px; padding-right: 5px; }\n",
       "td.linenos .special { color: #000000; background-color: #ffffc0; padding-left: 5px; padding-right: 5px; }\n",
       "span.linenos.special { color: #000000; background-color: #ffffc0; padding-left: 5px; padding-right: 5px; }\n",
       "body .hll { background-color: #ffffcc }\n",
       "body { background: #f8f8f8; }\n",
       "body .c { color: #008800; font-style: italic } /* Comment */\n",
       "body .err { border: 1px solid #FF0000 } /* Error */\n",
       "body .k { color: #AA22FF; font-weight: bold } /* Keyword */\n",
       "body .o { color: #666666 } /* Operator */\n",
       "body .ch { color: #008800; font-style: italic } /* Comment.Hashbang */\n",
       "body .cm { color: #008800; font-style: italic } /* Comment.Multiline */\n",
       "body .cp { color: #008800 } /* Comment.Preproc */\n",
       "body .cpf { color: #008800; font-style: italic } /* Comment.PreprocFile */\n",
       "body .c1 { color: #008800; font-style: italic } /* Comment.Single */\n",
       "body .cs { color: #008800; font-weight: bold } /* Comment.Special */\n",
       "body .gd { color: #A00000 } /* Generic.Deleted */\n",
       "body .ge { font-style: italic } /* Generic.Emph */\n",
       "body .gr { color: #FF0000 } /* Generic.Error */\n",
       "body .gh { color: #000080; font-weight: bold } /* Generic.Heading */\n",
       "body .gi { color: #00A000 } /* Generic.Inserted */\n",
       "body .go { color: #888888 } /* Generic.Output */\n",
       "body .gp { color: #000080; font-weight: bold } /* Generic.Prompt */\n",
       "body .gs { font-weight: bold } /* Generic.Strong */\n",
       "body .gu { color: #800080; font-weight: bold } /* Generic.Subheading */\n",
       "body .gt { color: #0044DD } /* Generic.Traceback */\n",
       "body .kc { color: #AA22FF; font-weight: bold } /* Keyword.Constant */\n",
       "body .kd { color: #AA22FF; font-weight: bold } /* Keyword.Declaration */\n",
       "body .kn { color: #AA22FF; font-weight: bold } /* Keyword.Namespace */\n",
       "body .kp { color: #AA22FF } /* Keyword.Pseudo */\n",
       "body .kr { color: #AA22FF; font-weight: bold } /* Keyword.Reserved */\n",
       "body .kt { color: #00BB00; font-weight: bold } /* Keyword.Type */\n",
       "body .m { color: #666666 } /* Literal.Number */\n",
       "body .s { color: #BB4444 } /* Literal.String */\n",
       "body .na { color: #BB4444 } /* Name.Attribute */\n",
       "body .nb { color: #AA22FF } /* Name.Builtin */\n",
       "body .nc { color: #0000FF } /* Name.Class */\n",
       "body .no { color: #880000 } /* Name.Constant */\n",
       "body .nd { color: #AA22FF } /* Name.Decorator */\n",
       "body .ni { color: #999999; font-weight: bold } /* Name.Entity */\n",
       "body .ne { color: #D2413A; font-weight: bold } /* Name.Exception */\n",
       "body .nf { color: #00A000 } /* Name.Function */\n",
       "body .nl { color: #A0A000 } /* Name.Label */\n",
       "body .nn { color: #0000FF; font-weight: bold } /* Name.Namespace */\n",
       "body .nt { color: #008000; font-weight: bold } /* Name.Tag */\n",
       "body .nv { color: #B8860B } /* Name.Variable */\n",
       "body .ow { color: #AA22FF; font-weight: bold } /* Operator.Word */\n",
       "body .w { color: #bbbbbb } /* Text.Whitespace */\n",
       "body .mb { color: #666666 } /* Literal.Number.Bin */\n",
       "body .mf { color: #666666 } /* Literal.Number.Float */\n",
       "body .mh { color: #666666 } /* Literal.Number.Hex */\n",
       "body .mi { color: #666666 } /* Literal.Number.Integer */\n",
       "body .mo { color: #666666 } /* Literal.Number.Oct */\n",
       "body .sa { color: #BB4444 } /* Literal.String.Affix */\n",
       "body .sb { color: #BB4444 } /* Literal.String.Backtick */\n",
       "body .sc { color: #BB4444 } /* Literal.String.Char */\n",
       "body .dl { color: #BB4444 } /* Literal.String.Delimiter */\n",
       "body .sd { color: #BB4444; font-style: italic } /* Literal.String.Doc */\n",
       "body .s2 { color: #BB4444 } /* Literal.String.Double */\n",
       "body .se { color: #BB6622; font-weight: bold } /* Literal.String.Escape */\n",
       "body .sh { color: #BB4444 } /* Literal.String.Heredoc */\n",
       "body .si { color: #BB6688; font-weight: bold } /* Literal.String.Interpol */\n",
       "body .sx { color: #008000 } /* Literal.String.Other */\n",
       "body .sr { color: #BB6688 } /* Literal.String.Regex */\n",
       "body .s1 { color: #BB4444 } /* Literal.String.Single */\n",
       "body .ss { color: #B8860B } /* Literal.String.Symbol */\n",
       "body .bp { color: #AA22FF } /* Name.Builtin.Pseudo */\n",
       "body .fm { color: #00A000 } /* Name.Function.Magic */\n",
       "body .vc { color: #B8860B } /* Name.Variable.Class */\n",
       "body .vg { color: #B8860B } /* Name.Variable.Global */\n",
       "body .vi { color: #B8860B } /* Name.Variable.Instance */\n",
       "body .vm { color: #B8860B } /* Name.Variable.Magic */\n",
       "body .il { color: #666666 } /* Literal.Number.Integer.Long */\n",
       "\n",
       "  </style>\n",
       "</head>\n",
       "<body>\n",
       "<h2></h2>\n",
       "\n",
       "<div class=\"highlight\"><pre><span></span><span class=\"k\">class</span> <span class=\"nc\">BasicTrainCB</span><span class=\"p\">:</span>\n",
       "    <span class=\"sd\">&#39;&#39;&#39;Callback for basic pytorch training loop&#39;&#39;&#39;</span>\n",
       "    <span class=\"k\">def</span> <span class=\"nf\">predict</span><span class=\"p\">(</span><span class=\"bp\">self</span><span class=\"p\">,</span><span class=\"n\">trainer</span><span class=\"p\">):</span> <span class=\"n\">trainer</span><span class=\"o\">.</span><span class=\"n\">preds</span> <span class=\"o\">=</span> <span class=\"n\">trainer</span><span class=\"o\">.</span><span class=\"n\">model</span><span class=\"p\">(</span><span class=\"n\">trainer</span><span class=\"o\">.</span><span class=\"n\">batch</span><span class=\"p\">[</span><span class=\"mi\">0</span><span class=\"p\">])</span>\n",
       "    <span class=\"k\">def</span> <span class=\"nf\">get_loss</span><span class=\"p\">(</span><span class=\"bp\">self</span><span class=\"p\">,</span><span class=\"n\">trainer</span><span class=\"p\">):</span> <span class=\"n\">trainer</span><span class=\"o\">.</span><span class=\"n\">loss</span> <span class=\"o\">=</span> <span class=\"n\">trainer</span><span class=\"o\">.</span><span class=\"n\">loss_func</span><span class=\"p\">(</span><span class=\"n\">trainer</span><span class=\"o\">.</span><span class=\"n\">preds</span><span class=\"p\">,</span><span class=\"n\">trainer</span><span class=\"o\">.</span><span class=\"n\">batch</span><span class=\"p\">[</span><span class=\"mi\">1</span><span class=\"p\">])</span>\n",
       "    <span class=\"k\">def</span> <span class=\"nf\">backward</span><span class=\"p\">(</span><span class=\"bp\">self</span><span class=\"p\">,</span><span class=\"n\">trainer</span><span class=\"p\">):</span> <span class=\"n\">trainer</span><span class=\"o\">.</span><span class=\"n\">loss</span><span class=\"o\">.</span><span class=\"n\">backward</span><span class=\"p\">()</span>\n",
       "    <span class=\"k\">def</span> <span class=\"nf\">step</span><span class=\"p\">(</span><span class=\"bp\">self</span><span class=\"p\">,</span><span class=\"n\">trainer</span><span class=\"p\">):</span> <span class=\"n\">trainer</span><span class=\"o\">.</span><span class=\"n\">opt</span><span class=\"o\">.</span><span class=\"n\">step</span><span class=\"p\">()</span>\n",
       "    <span class=\"k\">def</span> <span class=\"nf\">zero_grad</span><span class=\"p\">(</span><span class=\"bp\">self</span><span class=\"p\">,</span><span class=\"n\">trainer</span><span class=\"p\">):</span> <span class=\"n\">trainer</span><span class=\"o\">.</span><span class=\"n\">opt</span><span class=\"o\">.</span><span class=\"n\">zero_grad</span><span class=\"p\">()</span>\n",
       "</pre></div>\n",
       "</body>\n",
       "</html>\n"
      ],
      "text/plain": [
       "<IPython.core.display.HTML object>"
      ]
     },
     "metadata": {},
     "output_type": "display_data"
    }
   ],
   "source": [
    "view_source_code(BasicTrainCB)"
   ]
  },
  {
   "cell_type": "markdown",
   "id": "0bae90fc-f825-4738-a1a0-0b7d62bf0207",
   "metadata": {},
   "source": [
    "#### `with_cbs`"
   ]
  },
  {
   "cell_type": "markdown",
   "id": "c3490c45-fd8d-44f0-bb99-7d6c11a8157c",
   "metadata": {},
   "source": [
    "With cbs adds two pieces of functionality.\n",
    "\n",
    "+ Ability to exit and skip the rest of the function (ie the batch).  This is similar to how you can use `continue` in a for loop.  This can be done with raising the particular `exception`.\n",
    "+ Adds before, after, and cleanup callbacks to the function.  Before and after run before and after the function.  Cleanup will always run, even if an exception is thrown.\n",
    "\n",
    "::: {.callout-tip}\n",
    "##### `one_batch` example\n",
    "\n",
    "+ To run a callback before or after every batch, you would use `before_batch` and `after_batch`\n",
    "+ To skip a batch, you would raise a `CancelBatchException` in a callback as that's what is passed to the decorator.\n",
    "+ The `cleanup_batch` callback will always run if one exists, even if you skipped the batch.  `after_batch` will be skipped once the `CancelBatchException` is raised.\n",
    "\n",
    ":::"
   ]
  },
  {
   "cell_type": "code",
   "execution_count": null,
   "id": "be775bcb-c902-463f-8d51-9597414de05c",
   "metadata": {},
   "outputs": [
    {
     "data": {
      "text/html": [
       "<!DOCTYPE html PUBLIC \"-//W3C//DTD HTML 4.01//EN\"\n",
       "   \"http://www.w3.org/TR/html4/strict.dtd\">\n",
       "<!--\n",
       "generated by Pygments <https://pygments.org/>\n",
       "Copyright 2006-2021 by the Pygments team.\n",
       "Licensed under the BSD license, see LICENSE for details.\n",
       "-->\n",
       "<html>\n",
       "<head>\n",
       "  <title></title>\n",
       "  <meta http-equiv=\"content-type\" content=\"text/html; charset=utf-8\">\n",
       "  <style type=\"text/css\">\n",
       "/*\n",
       "generated by Pygments <https://pygments.org/>\n",
       "Copyright 2006-2021 by the Pygments team.\n",
       "Licensed under the BSD license, see LICENSE for details.\n",
       "*/\n",
       "pre { line-height: 125%; }\n",
       "td.linenos .normal { color: inherit; background-color: transparent; padding-left: 5px; padding-right: 5px; }\n",
       "span.linenos { color: inherit; background-color: transparent; padding-left: 5px; padding-right: 5px; }\n",
       "td.linenos .special { color: #000000; background-color: #ffffc0; padding-left: 5px; padding-right: 5px; }\n",
       "span.linenos.special { color: #000000; background-color: #ffffc0; padding-left: 5px; padding-right: 5px; }\n",
       "body .hll { background-color: #ffffcc }\n",
       "body { background: #f8f8f8; }\n",
       "body .c { color: #008800; font-style: italic } /* Comment */\n",
       "body .err { border: 1px solid #FF0000 } /* Error */\n",
       "body .k { color: #AA22FF; font-weight: bold } /* Keyword */\n",
       "body .o { color: #666666 } /* Operator */\n",
       "body .ch { color: #008800; font-style: italic } /* Comment.Hashbang */\n",
       "body .cm { color: #008800; font-style: italic } /* Comment.Multiline */\n",
       "body .cp { color: #008800 } /* Comment.Preproc */\n",
       "body .cpf { color: #008800; font-style: italic } /* Comment.PreprocFile */\n",
       "body .c1 { color: #008800; font-style: italic } /* Comment.Single */\n",
       "body .cs { color: #008800; font-weight: bold } /* Comment.Special */\n",
       "body .gd { color: #A00000 } /* Generic.Deleted */\n",
       "body .ge { font-style: italic } /* Generic.Emph */\n",
       "body .gr { color: #FF0000 } /* Generic.Error */\n",
       "body .gh { color: #000080; font-weight: bold } /* Generic.Heading */\n",
       "body .gi { color: #00A000 } /* Generic.Inserted */\n",
       "body .go { color: #888888 } /* Generic.Output */\n",
       "body .gp { color: #000080; font-weight: bold } /* Generic.Prompt */\n",
       "body .gs { font-weight: bold } /* Generic.Strong */\n",
       "body .gu { color: #800080; font-weight: bold } /* Generic.Subheading */\n",
       "body .gt { color: #0044DD } /* Generic.Traceback */\n",
       "body .kc { color: #AA22FF; font-weight: bold } /* Keyword.Constant */\n",
       "body .kd { color: #AA22FF; font-weight: bold } /* Keyword.Declaration */\n",
       "body .kn { color: #AA22FF; font-weight: bold } /* Keyword.Namespace */\n",
       "body .kp { color: #AA22FF } /* Keyword.Pseudo */\n",
       "body .kr { color: #AA22FF; font-weight: bold } /* Keyword.Reserved */\n",
       "body .kt { color: #00BB00; font-weight: bold } /* Keyword.Type */\n",
       "body .m { color: #666666 } /* Literal.Number */\n",
       "body .s { color: #BB4444 } /* Literal.String */\n",
       "body .na { color: #BB4444 } /* Name.Attribute */\n",
       "body .nb { color: #AA22FF } /* Name.Builtin */\n",
       "body .nc { color: #0000FF } /* Name.Class */\n",
       "body .no { color: #880000 } /* Name.Constant */\n",
       "body .nd { color: #AA22FF } /* Name.Decorator */\n",
       "body .ni { color: #999999; font-weight: bold } /* Name.Entity */\n",
       "body .ne { color: #D2413A; font-weight: bold } /* Name.Exception */\n",
       "body .nf { color: #00A000 } /* Name.Function */\n",
       "body .nl { color: #A0A000 } /* Name.Label */\n",
       "body .nn { color: #0000FF; font-weight: bold } /* Name.Namespace */\n",
       "body .nt { color: #008000; font-weight: bold } /* Name.Tag */\n",
       "body .nv { color: #B8860B } /* Name.Variable */\n",
       "body .ow { color: #AA22FF; font-weight: bold } /* Operator.Word */\n",
       "body .w { color: #bbbbbb } /* Text.Whitespace */\n",
       "body .mb { color: #666666 } /* Literal.Number.Bin */\n",
       "body .mf { color: #666666 } /* Literal.Number.Float */\n",
       "body .mh { color: #666666 } /* Literal.Number.Hex */\n",
       "body .mi { color: #666666 } /* Literal.Number.Integer */\n",
       "body .mo { color: #666666 } /* Literal.Number.Oct */\n",
       "body .sa { color: #BB4444 } /* Literal.String.Affix */\n",
       "body .sb { color: #BB4444 } /* Literal.String.Backtick */\n",
       "body .sc { color: #BB4444 } /* Literal.String.Char */\n",
       "body .dl { color: #BB4444 } /* Literal.String.Delimiter */\n",
       "body .sd { color: #BB4444; font-style: italic } /* Literal.String.Doc */\n",
       "body .s2 { color: #BB4444 } /* Literal.String.Double */\n",
       "body .se { color: #BB6622; font-weight: bold } /* Literal.String.Escape */\n",
       "body .sh { color: #BB4444 } /* Literal.String.Heredoc */\n",
       "body .si { color: #BB6688; font-weight: bold } /* Literal.String.Interpol */\n",
       "body .sx { color: #008000 } /* Literal.String.Other */\n",
       "body .sr { color: #BB6688 } /* Literal.String.Regex */\n",
       "body .s1 { color: #BB4444 } /* Literal.String.Single */\n",
       "body .ss { color: #B8860B } /* Literal.String.Symbol */\n",
       "body .bp { color: #AA22FF } /* Name.Builtin.Pseudo */\n",
       "body .fm { color: #00A000 } /* Name.Function.Magic */\n",
       "body .vc { color: #B8860B } /* Name.Variable.Class */\n",
       "body .vg { color: #B8860B } /* Name.Variable.Global */\n",
       "body .vi { color: #B8860B } /* Name.Variable.Instance */\n",
       "body .vm { color: #B8860B } /* Name.Variable.Magic */\n",
       "body .il { color: #666666 } /* Literal.Number.Integer.Long */\n",
       "\n",
       "  </style>\n",
       "</head>\n",
       "<body>\n",
       "<h2></h2>\n",
       "\n",
       "<div class=\"highlight\"><pre><span></span><span class=\"k\">class</span> <span class=\"nc\">with_cbs</span><span class=\"p\">:</span>\n",
       "    <span class=\"k\">def</span> <span class=\"fm\">__init__</span><span class=\"p\">(</span><span class=\"bp\">self</span><span class=\"p\">,</span> <span class=\"n\">nm</span><span class=\"p\">,</span> <span class=\"n\">exception</span><span class=\"p\">):</span> <span class=\"n\">fc</span><span class=\"o\">.</span><span class=\"n\">store_attr</span><span class=\"p\">()</span>\n",
       "    <span class=\"k\">def</span> <span class=\"fm\">__call__</span><span class=\"p\">(</span><span class=\"bp\">self</span><span class=\"p\">,</span> <span class=\"n\">f</span><span class=\"p\">):</span>\n",
       "        <span class=\"k\">def</span> <span class=\"nf\">_f</span><span class=\"p\">(</span><span class=\"n\">o</span><span class=\"p\">,</span> <span class=\"o\">*</span><span class=\"n\">args</span><span class=\"p\">,</span> <span class=\"o\">**</span><span class=\"n\">kwargs</span><span class=\"p\">):</span>\n",
       "            <span class=\"k\">try</span><span class=\"p\">:</span>\n",
       "                <span class=\"n\">o</span><span class=\"o\">.</span><span class=\"n\">run_callbacks</span><span class=\"p\">(</span><span class=\"sa\">f</span><span class=\"s1\">&#39;before_</span><span class=\"si\">{</span><span class=\"bp\">self</span><span class=\"o\">.</span><span class=\"n\">nm</span><span class=\"si\">}</span><span class=\"s1\">&#39;</span><span class=\"p\">)</span>\n",
       "                <span class=\"n\">f</span><span class=\"p\">(</span><span class=\"n\">o</span><span class=\"p\">,</span> <span class=\"o\">*</span><span class=\"n\">args</span><span class=\"p\">,</span> <span class=\"o\">**</span><span class=\"n\">kwargs</span><span class=\"p\">)</span>\n",
       "                <span class=\"n\">o</span><span class=\"o\">.</span><span class=\"n\">run_callbacks</span><span class=\"p\">(</span><span class=\"sa\">f</span><span class=\"s1\">&#39;after_</span><span class=\"si\">{</span><span class=\"bp\">self</span><span class=\"o\">.</span><span class=\"n\">nm</span><span class=\"si\">}</span><span class=\"s1\">&#39;</span><span class=\"p\">)</span>\n",
       "            <span class=\"k\">except</span> <span class=\"bp\">self</span><span class=\"o\">.</span><span class=\"n\">exception</span><span class=\"p\">:</span> <span class=\"k\">pass</span>\n",
       "            <span class=\"k\">finally</span><span class=\"p\">:</span> <span class=\"n\">o</span><span class=\"o\">.</span><span class=\"n\">run_callbacks</span><span class=\"p\">(</span><span class=\"sa\">f</span><span class=\"s1\">&#39;cleanup_</span><span class=\"si\">{</span><span class=\"bp\">self</span><span class=\"o\">.</span><span class=\"n\">nm</span><span class=\"si\">}</span><span class=\"s1\">&#39;</span><span class=\"p\">)</span>\n",
       "        <span class=\"k\">return</span> <span class=\"n\">_f</span>\n",
       "</pre></div>\n",
       "</body>\n",
       "</html>\n"
      ],
      "text/plain": [
       "<IPython.core.display.HTML object>"
      ]
     },
     "metadata": {},
     "output_type": "display_data"
    }
   ],
   "source": [
    "view_source_code(with_cbs)"
   ]
  },
  {
   "cell_type": "markdown",
   "id": "f022dcfa-d131-40a8-9f23-968c441a2962",
   "metadata": {},
   "source": [
    "### Other Callbacks"
   ]
  },
  {
   "cell_type": "markdown",
   "id": "20aa4a2d-212f-4cfb-bd0f-fc89503bbfa6",
   "metadata": {},
   "source": [
    "Another example of a callback is the device callback, that puts things onto whatever device we want (ie GPU)"
   ]
  },
  {
   "cell_type": "code",
   "execution_count": null,
   "id": "a436d438-5489-48d2-80e3-9c058ecfc6ec",
   "metadata": {},
   "outputs": [
    {
     "data": {
      "text/html": [
       "<!DOCTYPE html PUBLIC \"-//W3C//DTD HTML 4.01//EN\"\n",
       "   \"http://www.w3.org/TR/html4/strict.dtd\">\n",
       "<!--\n",
       "generated by Pygments <https://pygments.org/>\n",
       "Copyright 2006-2021 by the Pygments team.\n",
       "Licensed under the BSD license, see LICENSE for details.\n",
       "-->\n",
       "<html>\n",
       "<head>\n",
       "  <title></title>\n",
       "  <meta http-equiv=\"content-type\" content=\"text/html; charset=utf-8\">\n",
       "  <style type=\"text/css\">\n",
       "/*\n",
       "generated by Pygments <https://pygments.org/>\n",
       "Copyright 2006-2021 by the Pygments team.\n",
       "Licensed under the BSD license, see LICENSE for details.\n",
       "*/\n",
       "pre { line-height: 125%; }\n",
       "td.linenos .normal { color: inherit; background-color: transparent; padding-left: 5px; padding-right: 5px; }\n",
       "span.linenos { color: inherit; background-color: transparent; padding-left: 5px; padding-right: 5px; }\n",
       "td.linenos .special { color: #000000; background-color: #ffffc0; padding-left: 5px; padding-right: 5px; }\n",
       "span.linenos.special { color: #000000; background-color: #ffffc0; padding-left: 5px; padding-right: 5px; }\n",
       "body .hll { background-color: #ffffcc }\n",
       "body { background: #f8f8f8; }\n",
       "body .c { color: #008800; font-style: italic } /* Comment */\n",
       "body .err { border: 1px solid #FF0000 } /* Error */\n",
       "body .k { color: #AA22FF; font-weight: bold } /* Keyword */\n",
       "body .o { color: #666666 } /* Operator */\n",
       "body .ch { color: #008800; font-style: italic } /* Comment.Hashbang */\n",
       "body .cm { color: #008800; font-style: italic } /* Comment.Multiline */\n",
       "body .cp { color: #008800 } /* Comment.Preproc */\n",
       "body .cpf { color: #008800; font-style: italic } /* Comment.PreprocFile */\n",
       "body .c1 { color: #008800; font-style: italic } /* Comment.Single */\n",
       "body .cs { color: #008800; font-weight: bold } /* Comment.Special */\n",
       "body .gd { color: #A00000 } /* Generic.Deleted */\n",
       "body .ge { font-style: italic } /* Generic.Emph */\n",
       "body .gr { color: #FF0000 } /* Generic.Error */\n",
       "body .gh { color: #000080; font-weight: bold } /* Generic.Heading */\n",
       "body .gi { color: #00A000 } /* Generic.Inserted */\n",
       "body .go { color: #888888 } /* Generic.Output */\n",
       "body .gp { color: #000080; font-weight: bold } /* Generic.Prompt */\n",
       "body .gs { font-weight: bold } /* Generic.Strong */\n",
       "body .gu { color: #800080; font-weight: bold } /* Generic.Subheading */\n",
       "body .gt { color: #0044DD } /* Generic.Traceback */\n",
       "body .kc { color: #AA22FF; font-weight: bold } /* Keyword.Constant */\n",
       "body .kd { color: #AA22FF; font-weight: bold } /* Keyword.Declaration */\n",
       "body .kn { color: #AA22FF; font-weight: bold } /* Keyword.Namespace */\n",
       "body .kp { color: #AA22FF } /* Keyword.Pseudo */\n",
       "body .kr { color: #AA22FF; font-weight: bold } /* Keyword.Reserved */\n",
       "body .kt { color: #00BB00; font-weight: bold } /* Keyword.Type */\n",
       "body .m { color: #666666 } /* Literal.Number */\n",
       "body .s { color: #BB4444 } /* Literal.String */\n",
       "body .na { color: #BB4444 } /* Name.Attribute */\n",
       "body .nb { color: #AA22FF } /* Name.Builtin */\n",
       "body .nc { color: #0000FF } /* Name.Class */\n",
       "body .no { color: #880000 } /* Name.Constant */\n",
       "body .nd { color: #AA22FF } /* Name.Decorator */\n",
       "body .ni { color: #999999; font-weight: bold } /* Name.Entity */\n",
       "body .ne { color: #D2413A; font-weight: bold } /* Name.Exception */\n",
       "body .nf { color: #00A000 } /* Name.Function */\n",
       "body .nl { color: #A0A000 } /* Name.Label */\n",
       "body .nn { color: #0000FF; font-weight: bold } /* Name.Namespace */\n",
       "body .nt { color: #008000; font-weight: bold } /* Name.Tag */\n",
       "body .nv { color: #B8860B } /* Name.Variable */\n",
       "body .ow { color: #AA22FF; font-weight: bold } /* Operator.Word */\n",
       "body .w { color: #bbbbbb } /* Text.Whitespace */\n",
       "body .mb { color: #666666 } /* Literal.Number.Bin */\n",
       "body .mf { color: #666666 } /* Literal.Number.Float */\n",
       "body .mh { color: #666666 } /* Literal.Number.Hex */\n",
       "body .mi { color: #666666 } /* Literal.Number.Integer */\n",
       "body .mo { color: #666666 } /* Literal.Number.Oct */\n",
       "body .sa { color: #BB4444 } /* Literal.String.Affix */\n",
       "body .sb { color: #BB4444 } /* Literal.String.Backtick */\n",
       "body .sc { color: #BB4444 } /* Literal.String.Char */\n",
       "body .dl { color: #BB4444 } /* Literal.String.Delimiter */\n",
       "body .sd { color: #BB4444; font-style: italic } /* Literal.String.Doc */\n",
       "body .s2 { color: #BB4444 } /* Literal.String.Double */\n",
       "body .se { color: #BB6622; font-weight: bold } /* Literal.String.Escape */\n",
       "body .sh { color: #BB4444 } /* Literal.String.Heredoc */\n",
       "body .si { color: #BB6688; font-weight: bold } /* Literal.String.Interpol */\n",
       "body .sx { color: #008000 } /* Literal.String.Other */\n",
       "body .sr { color: #BB6688 } /* Literal.String.Regex */\n",
       "body .s1 { color: #BB4444 } /* Literal.String.Single */\n",
       "body .ss { color: #B8860B } /* Literal.String.Symbol */\n",
       "body .bp { color: #AA22FF } /* Name.Builtin.Pseudo */\n",
       "body .fm { color: #00A000 } /* Name.Function.Magic */\n",
       "body .vc { color: #B8860B } /* Name.Variable.Class */\n",
       "body .vg { color: #B8860B } /* Name.Variable.Global */\n",
       "body .vi { color: #B8860B } /* Name.Variable.Instance */\n",
       "body .vm { color: #B8860B } /* Name.Variable.Magic */\n",
       "body .il { color: #666666 } /* Literal.Number.Integer.Long */\n",
       "\n",
       "  </style>\n",
       "</head>\n",
       "<body>\n",
       "<h2></h2>\n",
       "\n",
       "<div class=\"highlight\"><pre><span></span><span class=\"k\">class</span> <span class=\"nc\">DeviceCB</span><span class=\"p\">:</span>\n",
       "    <span class=\"sd\">&#39;&#39;&#39;Callback to train on specific device&#39;&#39;&#39;</span>\n",
       "    <span class=\"k\">def</span> <span class=\"fm\">__init__</span><span class=\"p\">(</span><span class=\"bp\">self</span><span class=\"p\">,</span> <span class=\"n\">device</span><span class=\"o\">=</span><span class=\"n\">def_device</span><span class=\"p\">):</span> <span class=\"bp\">self</span><span class=\"o\">.</span><span class=\"n\">device</span><span class=\"o\">=</span><span class=\"n\">device</span>\n",
       "    <span class=\"k\">def</span> <span class=\"nf\">before_fit</span><span class=\"p\">(</span><span class=\"bp\">self</span><span class=\"p\">,</span> <span class=\"n\">trainer</span><span class=\"p\">):</span>\n",
       "        <span class=\"sd\">&#39;&#39;&#39;Moves model to device&#39;&#39;&#39;</span>\n",
       "        <span class=\"k\">if</span> <span class=\"nb\">hasattr</span><span class=\"p\">(</span><span class=\"n\">trainer</span><span class=\"o\">.</span><span class=\"n\">model</span><span class=\"p\">,</span> <span class=\"s1\">&#39;to&#39;</span><span class=\"p\">):</span> <span class=\"n\">trainer</span><span class=\"o\">.</span><span class=\"n\">model</span><span class=\"o\">.</span><span class=\"n\">to</span><span class=\"p\">(</span><span class=\"bp\">self</span><span class=\"o\">.</span><span class=\"n\">device</span><span class=\"p\">)</span>\n",
       "    <span class=\"k\">def</span> <span class=\"nf\">before_batch</span><span class=\"p\">(</span><span class=\"bp\">self</span><span class=\"p\">,</span> <span class=\"n\">trainer</span><span class=\"p\">):</span> \n",
       "        <span class=\"sd\">&#39;&#39;&#39;moves batch to device&#39;&#39;&#39;</span>\n",
       "        <span class=\"n\">trainer</span><span class=\"o\">.</span><span class=\"n\">batch</span> <span class=\"o\">=</span> <span class=\"n\">to_device</span><span class=\"p\">(</span><span class=\"n\">trainer</span><span class=\"o\">.</span><span class=\"n\">batch</span><span class=\"p\">,</span> <span class=\"n\">device</span><span class=\"o\">=</span><span class=\"bp\">self</span><span class=\"o\">.</span><span class=\"n\">device</span><span class=\"p\">)</span>\n",
       "</pre></div>\n",
       "</body>\n",
       "</html>\n"
      ],
      "text/plain": [
       "<IPython.core.display.HTML object>"
      ]
     },
     "metadata": {},
     "output_type": "display_data"
    }
   ],
   "source": [
    "view_source_code(DeviceCB)"
   ]
  },
  {
   "cell_type": "code",
   "execution_count": null,
   "id": "ccf40665-eaa2-48f6-9d6b-e5d74803ee54",
   "metadata": {},
   "outputs": [
    {
     "data": {
      "text/html": [
       "<!DOCTYPE html PUBLIC \"-//W3C//DTD HTML 4.01//EN\"\n",
       "   \"http://www.w3.org/TR/html4/strict.dtd\">\n",
       "<!--\n",
       "generated by Pygments <https://pygments.org/>\n",
       "Copyright 2006-2021 by the Pygments team.\n",
       "Licensed under the BSD license, see LICENSE for details.\n",
       "-->\n",
       "<html>\n",
       "<head>\n",
       "  <title></title>\n",
       "  <meta http-equiv=\"content-type\" content=\"text/html; charset=utf-8\">\n",
       "  <style type=\"text/css\">\n",
       "/*\n",
       "generated by Pygments <https://pygments.org/>\n",
       "Copyright 2006-2021 by the Pygments team.\n",
       "Licensed under the BSD license, see LICENSE for details.\n",
       "*/\n",
       "pre { line-height: 125%; }\n",
       "td.linenos .normal { color: inherit; background-color: transparent; padding-left: 5px; padding-right: 5px; }\n",
       "span.linenos { color: inherit; background-color: transparent; padding-left: 5px; padding-right: 5px; }\n",
       "td.linenos .special { color: #000000; background-color: #ffffc0; padding-left: 5px; padding-right: 5px; }\n",
       "span.linenos.special { color: #000000; background-color: #ffffc0; padding-left: 5px; padding-right: 5px; }\n",
       "body .hll { background-color: #ffffcc }\n",
       "body { background: #f8f8f8; }\n",
       "body .c { color: #008800; font-style: italic } /* Comment */\n",
       "body .err { border: 1px solid #FF0000 } /* Error */\n",
       "body .k { color: #AA22FF; font-weight: bold } /* Keyword */\n",
       "body .o { color: #666666 } /* Operator */\n",
       "body .ch { color: #008800; font-style: italic } /* Comment.Hashbang */\n",
       "body .cm { color: #008800; font-style: italic } /* Comment.Multiline */\n",
       "body .cp { color: #008800 } /* Comment.Preproc */\n",
       "body .cpf { color: #008800; font-style: italic } /* Comment.PreprocFile */\n",
       "body .c1 { color: #008800; font-style: italic } /* Comment.Single */\n",
       "body .cs { color: #008800; font-weight: bold } /* Comment.Special */\n",
       "body .gd { color: #A00000 } /* Generic.Deleted */\n",
       "body .ge { font-style: italic } /* Generic.Emph */\n",
       "body .gr { color: #FF0000 } /* Generic.Error */\n",
       "body .gh { color: #000080; font-weight: bold } /* Generic.Heading */\n",
       "body .gi { color: #00A000 } /* Generic.Inserted */\n",
       "body .go { color: #888888 } /* Generic.Output */\n",
       "body .gp { color: #000080; font-weight: bold } /* Generic.Prompt */\n",
       "body .gs { font-weight: bold } /* Generic.Strong */\n",
       "body .gu { color: #800080; font-weight: bold } /* Generic.Subheading */\n",
       "body .gt { color: #0044DD } /* Generic.Traceback */\n",
       "body .kc { color: #AA22FF; font-weight: bold } /* Keyword.Constant */\n",
       "body .kd { color: #AA22FF; font-weight: bold } /* Keyword.Declaration */\n",
       "body .kn { color: #AA22FF; font-weight: bold } /* Keyword.Namespace */\n",
       "body .kp { color: #AA22FF } /* Keyword.Pseudo */\n",
       "body .kr { color: #AA22FF; font-weight: bold } /* Keyword.Reserved */\n",
       "body .kt { color: #00BB00; font-weight: bold } /* Keyword.Type */\n",
       "body .m { color: #666666 } /* Literal.Number */\n",
       "body .s { color: #BB4444 } /* Literal.String */\n",
       "body .na { color: #BB4444 } /* Name.Attribute */\n",
       "body .nb { color: #AA22FF } /* Name.Builtin */\n",
       "body .nc { color: #0000FF } /* Name.Class */\n",
       "body .no { color: #880000 } /* Name.Constant */\n",
       "body .nd { color: #AA22FF } /* Name.Decorator */\n",
       "body .ni { color: #999999; font-weight: bold } /* Name.Entity */\n",
       "body .ne { color: #D2413A; font-weight: bold } /* Name.Exception */\n",
       "body .nf { color: #00A000 } /* Name.Function */\n",
       "body .nl { color: #A0A000 } /* Name.Label */\n",
       "body .nn { color: #0000FF; font-weight: bold } /* Name.Namespace */\n",
       "body .nt { color: #008000; font-weight: bold } /* Name.Tag */\n",
       "body .nv { color: #B8860B } /* Name.Variable */\n",
       "body .ow { color: #AA22FF; font-weight: bold } /* Operator.Word */\n",
       "body .w { color: #bbbbbb } /* Text.Whitespace */\n",
       "body .mb { color: #666666 } /* Literal.Number.Bin */\n",
       "body .mf { color: #666666 } /* Literal.Number.Float */\n",
       "body .mh { color: #666666 } /* Literal.Number.Hex */\n",
       "body .mi { color: #666666 } /* Literal.Number.Integer */\n",
       "body .mo { color: #666666 } /* Literal.Number.Oct */\n",
       "body .sa { color: #BB4444 } /* Literal.String.Affix */\n",
       "body .sb { color: #BB4444 } /* Literal.String.Backtick */\n",
       "body .sc { color: #BB4444 } /* Literal.String.Char */\n",
       "body .dl { color: #BB4444 } /* Literal.String.Delimiter */\n",
       "body .sd { color: #BB4444; font-style: italic } /* Literal.String.Doc */\n",
       "body .s2 { color: #BB4444 } /* Literal.String.Double */\n",
       "body .se { color: #BB6622; font-weight: bold } /* Literal.String.Escape */\n",
       "body .sh { color: #BB4444 } /* Literal.String.Heredoc */\n",
       "body .si { color: #BB6688; font-weight: bold } /* Literal.String.Interpol */\n",
       "body .sx { color: #008000 } /* Literal.String.Other */\n",
       "body .sr { color: #BB6688 } /* Literal.String.Regex */\n",
       "body .s1 { color: #BB4444 } /* Literal.String.Single */\n",
       "body .ss { color: #B8860B } /* Literal.String.Symbol */\n",
       "body .bp { color: #AA22FF } /* Name.Builtin.Pseudo */\n",
       "body .fm { color: #00A000 } /* Name.Function.Magic */\n",
       "body .vc { color: #B8860B } /* Name.Variable.Class */\n",
       "body .vg { color: #B8860B } /* Name.Variable.Global */\n",
       "body .vi { color: #B8860B } /* Name.Variable.Instance */\n",
       "body .vm { color: #B8860B } /* Name.Variable.Magic */\n",
       "body .il { color: #666666 } /* Literal.Number.Integer.Long */\n",
       "\n",
       "  </style>\n",
       "</head>\n",
       "<body>\n",
       "<h2></h2>\n",
       "\n",
       "<div class=\"highlight\"><pre><span></span><span class=\"k\">class</span> <span class=\"nc\">MetricsCB</span><span class=\"p\">:</span>\n",
       "    <span class=\"sd\">&#39;&#39;&#39;Callback to track train/valid loss + metrics&#39;&#39;&#39;</span>\n",
       "    <span class=\"k\">def</span> <span class=\"fm\">__init__</span><span class=\"p\">(</span><span class=\"bp\">self</span><span class=\"p\">,</span> <span class=\"o\">**</span><span class=\"n\">metrics</span><span class=\"p\">):</span>\n",
       "        <span class=\"bp\">self</span><span class=\"o\">.</span><span class=\"n\">metrics</span> <span class=\"o\">=</span> <span class=\"n\">metrics</span>\n",
       "        <span class=\"bp\">self</span><span class=\"o\">.</span><span class=\"n\">losses</span> <span class=\"o\">=</span> <span class=\"p\">{</span><span class=\"s1\">&#39;train&#39;</span><span class=\"p\">:</span><span class=\"n\">Mean</span><span class=\"p\">(),</span><span class=\"s1\">&#39;valid&#39;</span><span class=\"p\">:</span><span class=\"n\">Mean</span><span class=\"p\">()}</span>\n",
       "        <span class=\"bp\">self</span><span class=\"o\">.</span><span class=\"n\">metrics_epoch</span><span class=\"p\">,</span><span class=\"bp\">self</span><span class=\"o\">.</span><span class=\"n\">losses_epoch</span><span class=\"p\">,</span><span class=\"bp\">self</span><span class=\"o\">.</span><span class=\"n\">losses_batch</span> <span class=\"o\">=</span> <span class=\"p\">[],[],[]</span>\n",
       "            \n",
       "    <span class=\"k\">def</span> <span class=\"nf\">after_batch</span><span class=\"p\">(</span><span class=\"bp\">self</span><span class=\"p\">,</span><span class=\"n\">trainer</span><span class=\"p\">):</span>\n",
       "        <span class=\"sd\">&#39;&#39;&#39;stores losses and metrics for batch&#39;&#39;&#39;</span>        \n",
       "        <span class=\"bp\">self</span><span class=\"o\">.</span><span class=\"n\">losses</span><span class=\"p\">[</span><span class=\"sa\">f</span><span class=\"s2\">&quot;</span><span class=\"si\">{</span><span class=\"s1\">&#39;train&#39;</span> <span class=\"k\">if</span> <span class=\"n\">trainer</span><span class=\"o\">.</span><span class=\"n\">training</span> <span class=\"k\">else</span> <span class=\"s1\">&#39;valid&#39;</span><span class=\"si\">}</span><span class=\"s2\">&quot;</span><span class=\"p\">]</span><span class=\"o\">.</span><span class=\"n\">update</span><span class=\"p\">(</span><span class=\"n\">to_cpu</span><span class=\"p\">(</span><span class=\"n\">trainer</span><span class=\"o\">.</span><span class=\"n\">loss</span><span class=\"p\">),</span><span class=\"n\">weight</span><span class=\"o\">=</span><span class=\"nb\">len</span><span class=\"p\">(</span><span class=\"n\">trainer</span><span class=\"o\">.</span><span class=\"n\">batch</span><span class=\"p\">[</span><span class=\"mi\">1</span><span class=\"p\">]))</span>\n",
       "        <span class=\"k\">if</span> <span class=\"ow\">not</span> <span class=\"n\">trainer</span><span class=\"o\">.</span><span class=\"n\">training</span><span class=\"p\">:</span>\n",
       "            <span class=\"n\">preds</span><span class=\"p\">,</span><span class=\"n\">batch</span> <span class=\"o\">=</span> <span class=\"nb\">map</span><span class=\"p\">(</span><span class=\"n\">to_cpu</span><span class=\"p\">,[</span><span class=\"n\">trainer</span><span class=\"o\">.</span><span class=\"n\">preds</span><span class=\"p\">,</span><span class=\"n\">trainer</span><span class=\"o\">.</span><span class=\"n\">batch</span><span class=\"p\">[</span><span class=\"mi\">1</span><span class=\"p\">]])</span>    \n",
       "            <span class=\"k\">for</span> <span class=\"n\">k</span> <span class=\"ow\">in</span> <span class=\"bp\">self</span><span class=\"o\">.</span><span class=\"n\">metrics</span><span class=\"p\">:</span> <span class=\"bp\">self</span><span class=\"o\">.</span><span class=\"n\">metrics</span><span class=\"p\">[</span><span class=\"n\">k</span><span class=\"p\">]</span><span class=\"o\">.</span><span class=\"n\">update</span><span class=\"p\">(</span><span class=\"n\">preds</span><span class=\"p\">,</span><span class=\"n\">batch</span><span class=\"p\">)</span>\n",
       "        <span class=\"bp\">self</span><span class=\"o\">.</span><span class=\"n\">losses_batch</span><span class=\"o\">.</span><span class=\"n\">append</span><span class=\"p\">({</span><span class=\"s1\">&#39;training&#39;</span><span class=\"p\">:</span><span class=\"n\">trainer</span><span class=\"o\">.</span><span class=\"n\">training</span><span class=\"p\">,</span><span class=\"s1\">&#39;loss&#39;</span><span class=\"p\">:</span><span class=\"n\">to_cpu</span><span class=\"p\">(</span><span class=\"n\">trainer</span><span class=\"o\">.</span><span class=\"n\">loss</span><span class=\"p\">)})</span>\n",
       "            \n",
       "    <span class=\"k\">def</span> <span class=\"nf\">cleanup_epoch</span><span class=\"p\">(</span><span class=\"bp\">self</span><span class=\"p\">,</span><span class=\"n\">trainer</span><span class=\"p\">):</span>\n",
       "        <span class=\"sd\">&#39;&#39;&#39;compute metrics and append to epoch stats and display&#39;&#39;&#39;</span>\n",
       "        <span class=\"k\">if</span> <span class=\"ow\">not</span> <span class=\"n\">trainer</span><span class=\"o\">.</span><span class=\"n\">training</span><span class=\"p\">:</span>\n",
       "            <span class=\"bp\">self</span><span class=\"o\">.</span><span class=\"n\">metrics_epoch</span><span class=\"o\">.</span><span class=\"n\">append</span><span class=\"p\">({</span><span class=\"n\">name</span><span class=\"p\">:</span><span class=\"nb\">float</span><span class=\"p\">(</span><span class=\"n\">metric</span><span class=\"o\">.</span><span class=\"n\">compute</span><span class=\"p\">())</span> <span class=\"k\">for</span> <span class=\"n\">name</span><span class=\"p\">,</span> <span class=\"n\">metric</span> <span class=\"ow\">in</span> <span class=\"bp\">self</span><span class=\"o\">.</span><span class=\"n\">metrics</span><span class=\"o\">.</span><span class=\"n\">items</span><span class=\"p\">()})</span>\n",
       "            <span class=\"bp\">self</span><span class=\"o\">.</span><span class=\"n\">losses_epoch</span><span class=\"o\">.</span><span class=\"n\">append</span><span class=\"p\">({</span><span class=\"n\">name</span><span class=\"p\">:</span><span class=\"nb\">float</span><span class=\"p\">(</span><span class=\"n\">metric</span><span class=\"o\">.</span><span class=\"n\">compute</span><span class=\"p\">())</span> <span class=\"k\">for</span> <span class=\"n\">name</span><span class=\"p\">,</span> <span class=\"n\">metric</span> <span class=\"ow\">in</span> <span class=\"bp\">self</span><span class=\"o\">.</span><span class=\"n\">losses</span><span class=\"o\">.</span><span class=\"n\">items</span><span class=\"p\">()})</span>\n",
       "\n",
       "            <span class=\"k\">for</span> <span class=\"n\">metric</span> <span class=\"ow\">in</span> <span class=\"bp\">self</span><span class=\"o\">.</span><span class=\"n\">metrics</span><span class=\"o\">.</span><span class=\"n\">values</span><span class=\"p\">():</span> <span class=\"n\">metric</span><span class=\"o\">.</span><span class=\"n\">reset</span><span class=\"p\">()</span>\n",
       "            <span class=\"k\">for</span> <span class=\"n\">metric</span> <span class=\"ow\">in</span> <span class=\"bp\">self</span><span class=\"o\">.</span><span class=\"n\">losses</span><span class=\"o\">.</span><span class=\"n\">values</span><span class=\"p\">():</span> <span class=\"n\">metric</span><span class=\"o\">.</span><span class=\"n\">reset</span><span class=\"p\">()</span>\n",
       "</pre></div>\n",
       "</body>\n",
       "</html>\n"
      ],
      "text/plain": [
       "<IPython.core.display.HTML object>"
      ]
     },
     "metadata": {},
     "output_type": "display_data"
    }
   ],
   "source": [
    "view_source_code(MetricsCB)"
   ]
  },
  {
   "cell_type": "markdown",
   "id": "7b7bd836-7bdf-42ba-aca9-55fbb975a262",
   "metadata": {},
   "source": [
    "In addition, the `MetricsCB` in the example above is responsible for calculating and tracking the losses, the metrics it's initalized with, and logging that every epoch.\n",
    "\n",
    "**All functionality that is done in the training loop is managed through callbacks.**"
   ]
  },
  {
   "cell_type": "markdown",
   "id": "f8b4783f-5d9e-4d01-8d07-20431dc84286",
   "metadata": {},
   "source": [
    "Epochs work similarly to batches with callbacks, and there is also a fit method which also executes callbacks in the same way.  \n",
    "\n",
    "::: {.callout-tip}\n",
    "##### Available Callback List\n",
    "\n",
    "+ Batch callbacks\n",
    "    + before_batch\n",
    "    + predict\n",
    "    + get_loss\n",
    "    + before_backward\n",
    "    + backward\n",
    "    + step\n",
    "    + zero_grad\n",
    "    + after_batch\n",
    "    + cleanup_batch\n",
    "+ Epoch callbacks\n",
    "    + before_epoch\n",
    "    + after_epoch\n",
    "    + cleanup_epoch\n",
    "+ Fit callbacks\n",
    "    + before_fit\n",
    "    + after_fit\n",
    "    + cleanup_fit\n",
    ":::"
   ]
  },
  {
   "cell_type": "markdown",
   "id": "fe4fc190-5396-4d6f-9982-4796f6226f3f",
   "metadata": {},
   "source": [
    "::: {.callout-tip}\n",
    "\n",
    "##### Cancel Exceptions\n",
    "\n",
    "+ CancelBatchException\n",
    "+ CancelEpochException\n",
    "+ CancelFitException\n",
    ":::"
   ]
  },
  {
   "cell_type": "markdown",
   "id": "24a075ef-be76-4964-bb5d-e4c1213fdc92",
   "metadata": {},
   "source": [
    "### Callback Subclassing/Inheritance"
   ]
  },
  {
   "cell_type": "markdown",
   "id": "22065935-e729-4b40-b9b9-4fea3324bddb",
   "metadata": {},
   "source": [
    "We can inherit from the `BasicTrainCB` because momentum is mostly the same as a normal training loop with one small tweak that allows previous gradients to be accounted for.  In this way we can build callbacks from other similar callbacks.\n",
    "\n",
    "Rather than subclassing the Trainer, we subclass callbacks."
   ]
  },
  {
   "cell_type": "code",
   "execution_count": null,
   "id": "e3618b89-a9d0-4011-ad95-57fba0ca4aeb",
   "metadata": {},
   "outputs": [
    {
     "data": {
      "text/html": [
       "<!DOCTYPE html PUBLIC \"-//W3C//DTD HTML 4.01//EN\"\n",
       "   \"http://www.w3.org/TR/html4/strict.dtd\">\n",
       "<!--\n",
       "generated by Pygments <https://pygments.org/>\n",
       "Copyright 2006-2021 by the Pygments team.\n",
       "Licensed under the BSD license, see LICENSE for details.\n",
       "-->\n",
       "<html>\n",
       "<head>\n",
       "  <title></title>\n",
       "  <meta http-equiv=\"content-type\" content=\"text/html; charset=utf-8\">\n",
       "  <style type=\"text/css\">\n",
       "/*\n",
       "generated by Pygments <https://pygments.org/>\n",
       "Copyright 2006-2021 by the Pygments team.\n",
       "Licensed under the BSD license, see LICENSE for details.\n",
       "*/\n",
       "pre { line-height: 125%; }\n",
       "td.linenos .normal { color: inherit; background-color: transparent; padding-left: 5px; padding-right: 5px; }\n",
       "span.linenos { color: inherit; background-color: transparent; padding-left: 5px; padding-right: 5px; }\n",
       "td.linenos .special { color: #000000; background-color: #ffffc0; padding-left: 5px; padding-right: 5px; }\n",
       "span.linenos.special { color: #000000; background-color: #ffffc0; padding-left: 5px; padding-right: 5px; }\n",
       "body .hll { background-color: #ffffcc }\n",
       "body { background: #f8f8f8; }\n",
       "body .c { color: #008800; font-style: italic } /* Comment */\n",
       "body .err { border: 1px solid #FF0000 } /* Error */\n",
       "body .k { color: #AA22FF; font-weight: bold } /* Keyword */\n",
       "body .o { color: #666666 } /* Operator */\n",
       "body .ch { color: #008800; font-style: italic } /* Comment.Hashbang */\n",
       "body .cm { color: #008800; font-style: italic } /* Comment.Multiline */\n",
       "body .cp { color: #008800 } /* Comment.Preproc */\n",
       "body .cpf { color: #008800; font-style: italic } /* Comment.PreprocFile */\n",
       "body .c1 { color: #008800; font-style: italic } /* Comment.Single */\n",
       "body .cs { color: #008800; font-weight: bold } /* Comment.Special */\n",
       "body .gd { color: #A00000 } /* Generic.Deleted */\n",
       "body .ge { font-style: italic } /* Generic.Emph */\n",
       "body .gr { color: #FF0000 } /* Generic.Error */\n",
       "body .gh { color: #000080; font-weight: bold } /* Generic.Heading */\n",
       "body .gi { color: #00A000 } /* Generic.Inserted */\n",
       "body .go { color: #888888 } /* Generic.Output */\n",
       "body .gp { color: #000080; font-weight: bold } /* Generic.Prompt */\n",
       "body .gs { font-weight: bold } /* Generic.Strong */\n",
       "body .gu { color: #800080; font-weight: bold } /* Generic.Subheading */\n",
       "body .gt { color: #0044DD } /* Generic.Traceback */\n",
       "body .kc { color: #AA22FF; font-weight: bold } /* Keyword.Constant */\n",
       "body .kd { color: #AA22FF; font-weight: bold } /* Keyword.Declaration */\n",
       "body .kn { color: #AA22FF; font-weight: bold } /* Keyword.Namespace */\n",
       "body .kp { color: #AA22FF } /* Keyword.Pseudo */\n",
       "body .kr { color: #AA22FF; font-weight: bold } /* Keyword.Reserved */\n",
       "body .kt { color: #00BB00; font-weight: bold } /* Keyword.Type */\n",
       "body .m { color: #666666 } /* Literal.Number */\n",
       "body .s { color: #BB4444 } /* Literal.String */\n",
       "body .na { color: #BB4444 } /* Name.Attribute */\n",
       "body .nb { color: #AA22FF } /* Name.Builtin */\n",
       "body .nc { color: #0000FF } /* Name.Class */\n",
       "body .no { color: #880000 } /* Name.Constant */\n",
       "body .nd { color: #AA22FF } /* Name.Decorator */\n",
       "body .ni { color: #999999; font-weight: bold } /* Name.Entity */\n",
       "body .ne { color: #D2413A; font-weight: bold } /* Name.Exception */\n",
       "body .nf { color: #00A000 } /* Name.Function */\n",
       "body .nl { color: #A0A000 } /* Name.Label */\n",
       "body .nn { color: #0000FF; font-weight: bold } /* Name.Namespace */\n",
       "body .nt { color: #008000; font-weight: bold } /* Name.Tag */\n",
       "body .nv { color: #B8860B } /* Name.Variable */\n",
       "body .ow { color: #AA22FF; font-weight: bold } /* Operator.Word */\n",
       "body .w { color: #bbbbbb } /* Text.Whitespace */\n",
       "body .mb { color: #666666 } /* Literal.Number.Bin */\n",
       "body .mf { color: #666666 } /* Literal.Number.Float */\n",
       "body .mh { color: #666666 } /* Literal.Number.Hex */\n",
       "body .mi { color: #666666 } /* Literal.Number.Integer */\n",
       "body .mo { color: #666666 } /* Literal.Number.Oct */\n",
       "body .sa { color: #BB4444 } /* Literal.String.Affix */\n",
       "body .sb { color: #BB4444 } /* Literal.String.Backtick */\n",
       "body .sc { color: #BB4444 } /* Literal.String.Char */\n",
       "body .dl { color: #BB4444 } /* Literal.String.Delimiter */\n",
       "body .sd { color: #BB4444; font-style: italic } /* Literal.String.Doc */\n",
       "body .s2 { color: #BB4444 } /* Literal.String.Double */\n",
       "body .se { color: #BB6622; font-weight: bold } /* Literal.String.Escape */\n",
       "body .sh { color: #BB4444 } /* Literal.String.Heredoc */\n",
       "body .si { color: #BB6688; font-weight: bold } /* Literal.String.Interpol */\n",
       "body .sx { color: #008000 } /* Literal.String.Other */\n",
       "body .sr { color: #BB6688 } /* Literal.String.Regex */\n",
       "body .s1 { color: #BB4444 } /* Literal.String.Single */\n",
       "body .ss { color: #B8860B } /* Literal.String.Symbol */\n",
       "body .bp { color: #AA22FF } /* Name.Builtin.Pseudo */\n",
       "body .fm { color: #00A000 } /* Name.Function.Magic */\n",
       "body .vc { color: #B8860B } /* Name.Variable.Class */\n",
       "body .vg { color: #B8860B } /* Name.Variable.Global */\n",
       "body .vi { color: #B8860B } /* Name.Variable.Instance */\n",
       "body .vm { color: #B8860B } /* Name.Variable.Magic */\n",
       "body .il { color: #666666 } /* Literal.Number.Integer.Long */\n",
       "\n",
       "  </style>\n",
       "</head>\n",
       "<body>\n",
       "<h2></h2>\n",
       "\n",
       "<div class=\"highlight\"><pre><span></span><span class=\"k\">class</span> <span class=\"nc\">MomentumTrainCB</span><span class=\"p\">(</span><span class=\"n\">BasicTrainCB</span><span class=\"p\">):</span>\n",
       "    <span class=\"k\">def</span> <span class=\"fm\">__init__</span><span class=\"p\">(</span><span class=\"bp\">self</span><span class=\"p\">,</span><span class=\"n\">momentum</span><span class=\"p\">):</span> <span class=\"bp\">self</span><span class=\"o\">.</span><span class=\"n\">momentum</span> <span class=\"o\">=</span> <span class=\"n\">momentum</span>\n",
       "    <span class=\"k\">def</span> <span class=\"nf\">zero_grad</span><span class=\"p\">(</span><span class=\"bp\">self</span><span class=\"p\">,</span><span class=\"n\">trainer</span><span class=\"p\">):</span> \n",
       "        <span class=\"sd\">&#39;&#39;&#39;Multiply grads by momentum (instead of zero)&#39;&#39;&#39;</span>\n",
       "        <span class=\"k\">with</span> <span class=\"n\">torch</span><span class=\"o\">.</span><span class=\"n\">no_grad</span><span class=\"p\">():</span>\n",
       "            <span class=\"k\">for</span> <span class=\"n\">p</span> <span class=\"ow\">in</span> <span class=\"n\">trainer</span><span class=\"o\">.</span><span class=\"n\">model</span><span class=\"o\">.</span><span class=\"n\">parameters</span><span class=\"p\">():</span> <span class=\"n\">p</span><span class=\"o\">.</span><span class=\"n\">grad</span> <span class=\"o\">*=</span> <span class=\"bp\">self</span><span class=\"o\">.</span><span class=\"n\">momentum</span>\n",
       "</pre></div>\n",
       "</body>\n",
       "</html>\n"
      ],
      "text/plain": [
       "<IPython.core.display.HTML object>"
      ]
     },
     "metadata": {},
     "output_type": "display_data"
    }
   ],
   "source": [
    "view_source_code(MomentumTrainCB)"
   ]
  },
  {
   "cell_type": "markdown",
   "id": "4180d81d-efd6-4d09-94f8-eb4a932bf068",
   "metadata": {},
   "source": [
    "## Multiple Callbacks"
   ]
  },
  {
   "cell_type": "markdown",
   "id": "02419241-7b66-4860-946f-7c5118e88d9f",
   "metadata": {},
   "source": [
    "Now that we know how to modify and extend the training loop with individual callbacks, one next logical question is how to we create abstractions with this.  For example, we probably don't want to add `DeviceCB`, `MetricsCB`, and `BasicTrainCB` to every Trainer we create as lots of Trainers will use those.  As we build more complex models we may want combinations of callbacks as well that are commonly used together, rather than having to memorize lots of callback recipes.\n",
    "\n",
    "To do this, we create a recursive call when we add callbacks that allows us to group callbacks together.  Instead of subclassing the `Trainer` in a way that may be more common in other frameworks, we group the callbacks together.  We create these callbacks that are a combination of other callbacks, by defining the `callbacks` attribute in a callback.\n",
    "\n",
    ":::{.callout-tip}\n",
    "##### Callbacks Attribute\n",
    "\n",
    "Adding callbacks works recursively.  Once a callback is added, it will check for a `callbacks` attribute and add those `callbacks`.  Those in turn could have `callbacks` attributes of their own.\n",
    ":::\n",
    "\n",
    "Here is an example of a group of callbacks that will likely go together.  This simple class will add all of these callbacks when used.  While this class is not a callback itself because it does not have a callback method (ie `before_batch`), you have the flexibility to add those methods to this class to add behavior to your trainer specific to this grouping of callbacks.  When passed as a Callback it will add the 5 callbacks stores in `self.callbacks`.  It could also be a callback itsel"
   ]
  },
  {
   "cell_type": "code",
   "execution_count": null,
   "id": "06bc1ec5-8591-455a-b9db-192d460d937b",
   "metadata": {},
   "outputs": [
    {
     "data": {
      "text/html": [
       "<!DOCTYPE html PUBLIC \"-//W3C//DTD HTML 4.01//EN\"\n",
       "   \"http://www.w3.org/TR/html4/strict.dtd\">\n",
       "<!--\n",
       "generated by Pygments <https://pygments.org/>\n",
       "Copyright 2006-2021 by the Pygments team.\n",
       "Licensed under the BSD license, see LICENSE for details.\n",
       "-->\n",
       "<html>\n",
       "<head>\n",
       "  <title></title>\n",
       "  <meta http-equiv=\"content-type\" content=\"text/html; charset=utf-8\">\n",
       "  <style type=\"text/css\">\n",
       "/*\n",
       "generated by Pygments <https://pygments.org/>\n",
       "Copyright 2006-2021 by the Pygments team.\n",
       "Licensed under the BSD license, see LICENSE for details.\n",
       "*/\n",
       "pre { line-height: 125%; }\n",
       "td.linenos .normal { color: inherit; background-color: transparent; padding-left: 5px; padding-right: 5px; }\n",
       "span.linenos { color: inherit; background-color: transparent; padding-left: 5px; padding-right: 5px; }\n",
       "td.linenos .special { color: #000000; background-color: #ffffc0; padding-left: 5px; padding-right: 5px; }\n",
       "span.linenos.special { color: #000000; background-color: #ffffc0; padding-left: 5px; padding-right: 5px; }\n",
       "body .hll { background-color: #ffffcc }\n",
       "body { background: #f8f8f8; }\n",
       "body .c { color: #008800; font-style: italic } /* Comment */\n",
       "body .err { border: 1px solid #FF0000 } /* Error */\n",
       "body .k { color: #AA22FF; font-weight: bold } /* Keyword */\n",
       "body .o { color: #666666 } /* Operator */\n",
       "body .ch { color: #008800; font-style: italic } /* Comment.Hashbang */\n",
       "body .cm { color: #008800; font-style: italic } /* Comment.Multiline */\n",
       "body .cp { color: #008800 } /* Comment.Preproc */\n",
       "body .cpf { color: #008800; font-style: italic } /* Comment.PreprocFile */\n",
       "body .c1 { color: #008800; font-style: italic } /* Comment.Single */\n",
       "body .cs { color: #008800; font-weight: bold } /* Comment.Special */\n",
       "body .gd { color: #A00000 } /* Generic.Deleted */\n",
       "body .ge { font-style: italic } /* Generic.Emph */\n",
       "body .gr { color: #FF0000 } /* Generic.Error */\n",
       "body .gh { color: #000080; font-weight: bold } /* Generic.Heading */\n",
       "body .gi { color: #00A000 } /* Generic.Inserted */\n",
       "body .go { color: #888888 } /* Generic.Output */\n",
       "body .gp { color: #000080; font-weight: bold } /* Generic.Prompt */\n",
       "body .gs { font-weight: bold } /* Generic.Strong */\n",
       "body .gu { color: #800080; font-weight: bold } /* Generic.Subheading */\n",
       "body .gt { color: #0044DD } /* Generic.Traceback */\n",
       "body .kc { color: #AA22FF; font-weight: bold } /* Keyword.Constant */\n",
       "body .kd { color: #AA22FF; font-weight: bold } /* Keyword.Declaration */\n",
       "body .kn { color: #AA22FF; font-weight: bold } /* Keyword.Namespace */\n",
       "body .kp { color: #AA22FF } /* Keyword.Pseudo */\n",
       "body .kr { color: #AA22FF; font-weight: bold } /* Keyword.Reserved */\n",
       "body .kt { color: #00BB00; font-weight: bold } /* Keyword.Type */\n",
       "body .m { color: #666666 } /* Literal.Number */\n",
       "body .s { color: #BB4444 } /* Literal.String */\n",
       "body .na { color: #BB4444 } /* Name.Attribute */\n",
       "body .nb { color: #AA22FF } /* Name.Builtin */\n",
       "body .nc { color: #0000FF } /* Name.Class */\n",
       "body .no { color: #880000 } /* Name.Constant */\n",
       "body .nd { color: #AA22FF } /* Name.Decorator */\n",
       "body .ni { color: #999999; font-weight: bold } /* Name.Entity */\n",
       "body .ne { color: #D2413A; font-weight: bold } /* Name.Exception */\n",
       "body .nf { color: #00A000 } /* Name.Function */\n",
       "body .nl { color: #A0A000 } /* Name.Label */\n",
       "body .nn { color: #0000FF; font-weight: bold } /* Name.Namespace */\n",
       "body .nt { color: #008000; font-weight: bold } /* Name.Tag */\n",
       "body .nv { color: #B8860B } /* Name.Variable */\n",
       "body .ow { color: #AA22FF; font-weight: bold } /* Operator.Word */\n",
       "body .w { color: #bbbbbb } /* Text.Whitespace */\n",
       "body .mb { color: #666666 } /* Literal.Number.Bin */\n",
       "body .mf { color: #666666 } /* Literal.Number.Float */\n",
       "body .mh { color: #666666 } /* Literal.Number.Hex */\n",
       "body .mi { color: #666666 } /* Literal.Number.Integer */\n",
       "body .mo { color: #666666 } /* Literal.Number.Oct */\n",
       "body .sa { color: #BB4444 } /* Literal.String.Affix */\n",
       "body .sb { color: #BB4444 } /* Literal.String.Backtick */\n",
       "body .sc { color: #BB4444 } /* Literal.String.Char */\n",
       "body .dl { color: #BB4444 } /* Literal.String.Delimiter */\n",
       "body .sd { color: #BB4444; font-style: italic } /* Literal.String.Doc */\n",
       "body .s2 { color: #BB4444 } /* Literal.String.Double */\n",
       "body .se { color: #BB6622; font-weight: bold } /* Literal.String.Escape */\n",
       "body .sh { color: #BB4444 } /* Literal.String.Heredoc */\n",
       "body .si { color: #BB6688; font-weight: bold } /* Literal.String.Interpol */\n",
       "body .sx { color: #008000 } /* Literal.String.Other */\n",
       "body .sr { color: #BB6688 } /* Literal.String.Regex */\n",
       "body .s1 { color: #BB4444 } /* Literal.String.Single */\n",
       "body .ss { color: #B8860B } /* Literal.String.Symbol */\n",
       "body .bp { color: #AA22FF } /* Name.Builtin.Pseudo */\n",
       "body .fm { color: #00A000 } /* Name.Function.Magic */\n",
       "body .vc { color: #B8860B } /* Name.Variable.Class */\n",
       "body .vg { color: #B8860B } /* Name.Variable.Global */\n",
       "body .vi { color: #B8860B } /* Name.Variable.Instance */\n",
       "body .vm { color: #B8860B } /* Name.Variable.Magic */\n",
       "body .il { color: #666666 } /* Literal.Number.Integer.Long */\n",
       "\n",
       "  </style>\n",
       "</head>\n",
       "<body>\n",
       "<h2></h2>\n",
       "\n",
       "<div class=\"highlight\"><pre><span></span><span class=\"k\">class</span> <span class=\"nc\">CoreCBs</span><span class=\"p\">:</span>\n",
       "    <span class=\"k\">def</span> <span class=\"fm\">__init__</span><span class=\"p\">(</span><span class=\"bp\">self</span><span class=\"p\">,</span><span class=\"n\">device</span><span class=\"o\">=</span><span class=\"n\">def_device</span><span class=\"p\">,</span><span class=\"n\">module_filter</span><span class=\"o\">=</span><span class=\"n\">fc</span><span class=\"o\">.</span><span class=\"n\">noop</span><span class=\"p\">,</span><span class=\"o\">**</span><span class=\"n\">metrics</span><span class=\"p\">):</span>\n",
       "        <span class=\"bp\">self</span><span class=\"o\">.</span><span class=\"n\">callbacks</span> <span class=\"o\">=</span> <span class=\"p\">[</span><span class=\"n\">DeviceCB</span><span class=\"p\">(</span><span class=\"n\">device</span><span class=\"o\">=</span><span class=\"n\">device</span><span class=\"p\">),</span>\n",
       "                          <span class=\"n\">BasicTrainCB</span><span class=\"p\">(),</span>\n",
       "                          <span class=\"n\">MetricsCB</span><span class=\"p\">(</span><span class=\"o\">**</span><span class=\"n\">metrics</span><span class=\"p\">),</span>\n",
       "                          <span class=\"n\">ProgressCB</span><span class=\"p\">(),</span>\n",
       "                          <span class=\"n\">ActivationStatsCB</span><span class=\"p\">(</span><span class=\"n\">module_filter</span><span class=\"p\">)]</span>\n",
       "</pre></div>\n",
       "</body>\n",
       "</html>\n"
      ],
      "text/plain": [
       "<IPython.core.display.HTML object>"
      ]
     },
     "metadata": {},
     "output_type": "display_data"
    }
   ],
   "source": [
    "view_source_code(CoreCBs)"
   ]
  },
  {
   "cell_type": "code",
   "execution_count": null,
   "id": "5d639d2d-80a2-4a0c-9df3-6f805837c8fd",
   "metadata": {},
   "outputs": [],
   "source": [
    "trainer = Trainer(dls,\n",
    "                  nn.CrossEntropyLoss(), \n",
    "                  torch.optim.Adam, \n",
    "                  get_model_conv(),\n",
    "                  callbacks=[CoreCBs(Accuracy=MulticlassAccuracy())])"
   ]
  },
  {
   "cell_type": "code",
   "execution_count": null,
   "id": "0e2a0855-a88f-47bf-963d-a31d71dd97d5",
   "metadata": {},
   "outputs": [
    {
     "data": {
      "text/html": [
       "\n",
       "<style>\n",
       "    /* Turns off some styling */\n",
       "    progress {\n",
       "        /* gets rid of default border in Firefox and Opera. */\n",
       "        border: none;\n",
       "        /* Needs to be in here for Safari polyfill so background images work as expected. */\n",
       "        background-size: auto;\n",
       "    }\n",
       "    progress:not([value]), progress:not([value])::-webkit-progress-bar {\n",
       "        background: repeating-linear-gradient(45deg, #7e7e7e, #7e7e7e 10px, #5c5c5c 10px, #5c5c5c 20px);\n",
       "    }\n",
       "    .progress-bar-interrupted, .progress-bar-interrupted::-webkit-progress-bar {\n",
       "        background: #F44336;\n",
       "    }\n",
       "</style>\n"
      ],
      "text/plain": [
       "<IPython.core.display.HTML object>"
      ]
     },
     "metadata": {},
     "output_type": "display_data"
    },
    {
     "data": {
      "text/html": [],
      "text/plain": [
       "<IPython.core.display.HTML object>"
      ]
     },
     "metadata": {},
     "output_type": "display_data"
    },
    {
     "data": {
      "text/html": [
       "<div>\n",
       "<style scoped>\n",
       "    .dataframe tbody tr th:only-of-type {\n",
       "        vertical-align: middle;\n",
       "    }\n",
       "\n",
       "    .dataframe tbody tr th {\n",
       "        vertical-align: top;\n",
       "    }\n",
       "\n",
       "    .dataframe thead th {\n",
       "        text-align: right;\n",
       "    }\n",
       "</style>\n",
       "<table border=\"1\" class=\"dataframe\">\n",
       "  <thead>\n",
       "    <tr style=\"text-align: right;\">\n",
       "      <th></th>\n",
       "      <th>train</th>\n",
       "      <th>valid</th>\n",
       "      <th>Accuracy</th>\n",
       "    </tr>\n",
       "  </thead>\n",
       "  <tbody>\n",
       "    <tr>\n",
       "      <th>0</th>\n",
       "      <td>0.599093</td>\n",
       "      <td>0.452553</td>\n",
       "      <td>0.8334</td>\n",
       "    </tr>\n",
       "  </tbody>\n",
       "</table>\n",
       "</div>"
      ],
      "text/plain": [
       "      train     valid  Accuracy\n",
       "0  0.599093  0.452553    0.8334"
      ]
     },
     "metadata": {},
     "output_type": "display_data"
    },
    {
     "data": {
      "text/html": [
       "<style type=\"text/css\">\n",
       "#T_9c1c7 thead {\n",
       "  display: none;\n",
       "}\n",
       "</style>\n",
       "<table id=\"T_9c1c7\">\n",
       "  <thead>\n",
       "    <tr>\n",
       "      <th class=\"blank level0\" >&nbsp;</th>\n",
       "      <th id=\"T_9c1c7_level0_col0\" class=\"col_heading level0 col0\" >train</th>\n",
       "      <th id=\"T_9c1c7_level0_col1\" class=\"col_heading level0 col1\" >valid</th>\n",
       "      <th id=\"T_9c1c7_level0_col2\" class=\"col_heading level0 col2\" >Accuracy</th>\n",
       "    </tr>\n",
       "  </thead>\n",
       "  <tbody>\n",
       "    <tr>\n",
       "      <th id=\"T_9c1c7_level0_row0\" class=\"row_heading level0 row0\" >1</th>\n",
       "      <td id=\"T_9c1c7_row0_col0\" class=\"data row0 col0\" >0.381516</td>\n",
       "      <td id=\"T_9c1c7_row0_col1\" class=\"data row0 col1\" >0.377897</td>\n",
       "      <td id=\"T_9c1c7_row0_col2\" class=\"data row0 col2\" >0.862000</td>\n",
       "    </tr>\n",
       "  </tbody>\n",
       "</table>\n"
      ],
      "text/plain": [
       "<pandas.io.formats.style.Styler>"
      ]
     },
     "metadata": {},
     "output_type": "display_data"
    },
    {
     "data": {
      "text/html": [
       "<style type=\"text/css\">\n",
       "#T_37950 thead {\n",
       "  display: none;\n",
       "}\n",
       "</style>\n",
       "<table id=\"T_37950\">\n",
       "  <thead>\n",
       "    <tr>\n",
       "      <th class=\"blank level0\" >&nbsp;</th>\n",
       "      <th id=\"T_37950_level0_col0\" class=\"col_heading level0 col0\" >train</th>\n",
       "      <th id=\"T_37950_level0_col1\" class=\"col_heading level0 col1\" >valid</th>\n",
       "      <th id=\"T_37950_level0_col2\" class=\"col_heading level0 col2\" >Accuracy</th>\n",
       "    </tr>\n",
       "  </thead>\n",
       "  <tbody>\n",
       "    <tr>\n",
       "      <th id=\"T_37950_level0_row0\" class=\"row_heading level0 row0\" >2</th>\n",
       "      <td id=\"T_37950_row0_col0\" class=\"data row0 col0\" >0.332677</td>\n",
       "      <td id=\"T_37950_row0_col1\" class=\"data row0 col1\" >0.343139</td>\n",
       "      <td id=\"T_37950_row0_col2\" class=\"data row0 col2\" >0.876300</td>\n",
       "    </tr>\n",
       "  </tbody>\n",
       "</table>\n"
      ],
      "text/plain": [
       "<pandas.io.formats.style.Styler>"
      ]
     },
     "metadata": {},
     "output_type": "display_data"
    }
   ],
   "source": [
    "trainer.fit()"
   ]
  },
  {
   "cell_type": "code",
   "execution_count": null,
   "id": "09c2f56a-cbb2-47e8-9ea3-f91368fca431",
   "metadata": {},
   "outputs": [],
   "source": []
  }
 ],
 "metadata": {
  "kernelspec": {
   "display_name": "python3",
   "language": "python",
   "name": "python3"
  }
 },
 "nbformat": 4,
 "nbformat_minor": 5
}
