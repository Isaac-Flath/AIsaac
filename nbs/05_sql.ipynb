{
 "cells": [
  {
   "cell_type": "code",
   "execution_count": null,
   "id": "e4fabb23-592e-4078-8181-9950d3362b16",
   "metadata": {},
   "outputs": [],
   "source": [
    "#| hide\n",
    "# from nbdev.showdoc import *"
   ]
  },
  {
   "cell_type": "code",
   "execution_count": null,
   "id": "6b4a11e0-4ff2-4209-810c-fa9dcd898827",
   "metadata": {},
   "outputs": [],
   "source": [
    "\n",
    "# import sqlite3\n",
    "# from pathlib import Path\n",
    "# import pandas as pd\n",
    "# import fastcore.all as fc"
   ]
  },
  {
   "cell_type": "code",
   "execution_count": null,
   "id": "efb59bf2-2dc9-41d6-8d8f-13c8a9e9ef67",
   "metadata": {},
   "outputs": [],
   "source": [
    "\n",
    "# def sql_connect(path): return sqlite3.connect(path)"
   ]
  },
  {
   "cell_type": "code",
   "execution_count": null,
   "id": "97c2e261-28e0-461b-920d-c1572c756114",
   "metadata": {},
   "outputs": [],
   "source": [
    "# con = sql_connect(Path('../exp_tracker'))"
   ]
  },
  {
   "cell_type": "code",
   "execution_count": null,
   "id": "01f58c6b-0695-4a71-917f-58151b229fed",
   "metadata": {},
   "outputs": [],
   "source": [
    "\n",
    "# def push2sql(df,con=con,add_missing_cols=True):\n",
    "#     try:\n",
    "#         trainer.TrackingCB._log_epoch.to_sql('epoch_stats', trainer.TrackingCB._con, if_exists='append',index=False)\n",
    "#     except sqlite3.OperationalError as ex:\n",
    "#         if add_missing_cols:\n",
    "#             trainer.TrackingCB._con.execute(\"alter table 'epoch_stats' rename to 'epoch_stats_backup'\")\n",
    "#             pd.read_sql(sql_query,trainer.TrackingCB._con)\n",
    "#             data = pd.read_sql('SELECT * FROM epoch_stats_backup', trainer.TrackingCB._con)\n",
    "#             trainer.TrackingCB._log_epoch.to_sql('epoch_stats', trainer.TrackingCB._con, if_exists='append',index=False)\n",
    "#         else:\n",
    "#             raise ex"
   ]
  },
  {
   "cell_type": "code",
   "execution_count": null,
   "id": "19a9ba3b-290d-480d-b2ac-e7c561e8363b",
   "metadata": {},
   "outputs": [],
   "source": [
    "\n",
    "# def get_tables(con=con): return pd.read_sql(\"SELECT name FROM sqlite_master WHERE type='table';\",con)"
   ]
  },
  {
   "cell_type": "code",
   "execution_count": null,
   "id": "d76871b6-50f5-486d-9b02-3106ea523cee",
   "metadata": {},
   "outputs": [],
   "source": [
    "# get_tables()"
   ]
  },
  {
   "cell_type": "code",
   "execution_count": null,
   "id": "907911ae-c34c-4a83-be67-399e12c87866",
   "metadata": {},
   "outputs": [],
   "source": [
    "\n",
    "# def get_columns(table,con=con):\n",
    "#     cursor = con.execute('PRAGMA table_info(epoch_stats)')\n",
    "#     info = cursor.fetchall()\n",
    "#     return fc.L([o[1] for o in info])"
   ]
  },
  {
   "cell_type": "code",
   "execution_count": null,
   "id": "0eae3dc6-7533-4310-bfca-fad82e6e94f8",
   "metadata": {},
   "outputs": [],
   "source": [
    "# get_columns('epoch_stats')"
   ]
  },
  {
   "cell_type": "code",
   "execution_count": null,
   "id": "5f423679-29b3-4d4a-8d36-0a3173e14ea6",
   "metadata": {},
   "outputs": [],
   "source": [
    "\n",
    "# def get_epoch_aggs(metrics,con,most_recent=-1): \n",
    "#     '''Gets epoch metrics'''\n",
    "#     pass\n"
   ]
  },
  {
   "cell_type": "code",
   "execution_count": null,
   "id": "b6f325cc-c824-47b2-a6e3-e26eae1a6016",
   "metadata": {},
   "outputs": [],
   "source": [
    "\n",
    "# def get_batch_aggs(metrics,con): pass"
   ]
  },
  {
   "cell_type": "code",
   "execution_count": null,
   "id": "d2f68b85-c90c-4963-8fae-aa610e3c8cc4",
   "metadata": {},
   "outputs": [],
   "source": [
    "\n",
    "# def get_fit_aggs(metrics,con): pass"
   ]
  },
  {
   "cell_type": "code",
   "execution_count": null,
   "id": "8ab7c105-b725-46a5-a28a-30b3242dcb6a",
   "metadata": {},
   "outputs": [],
   "source": [
    "\n",
    "# class SQLLoggerCB:\n",
    "#     pass"
   ]
  },
  {
   "cell_type": "code",
   "execution_count": null,
   "id": "1604bfe8-7081-4bff-bf97-3e666895ada9",
   "metadata": {},
   "outputs": [],
   "source": []
  }
 ],
 "metadata": {
  "kernelspec": {
   "display_name": "python3",
   "language": "python",
   "name": "python3"
  }
 },
 "nbformat": 4,
 "nbformat_minor": 5
}
