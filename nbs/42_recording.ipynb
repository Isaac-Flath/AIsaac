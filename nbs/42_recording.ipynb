{
 "cells": [
  {
   "cell_type": "markdown",
   "metadata": {},
   "source": [
    "# Recording\n",
    "\n",
    "> Storing data"
   ]
  },
  {
   "cell_type": "code",
   "execution_count": null,
   "metadata": {},
   "outputs": [],
   "source": [
    "#|default_exp recording"
   ]
  },
  {
   "cell_type": "code",
   "execution_count": null,
   "metadata": {},
   "outputs": [],
   "source": [
    "#|hide\n",
    "%load_ext autoreload\n",
    "%autoreload 2"
   ]
  },
  {
   "cell_type": "code",
   "execution_count": null,
   "metadata": {},
   "outputs": [],
   "source": [
    "#| hide\n",
    "from nbdev.showdoc import *"
   ]
  },
  {
   "cell_type": "code",
   "execution_count": null,
   "metadata": {},
   "outputs": [],
   "source": [
    "#| export\n",
    "from isaacai.utils import *\n",
    "from isaacai.dataloaders import *\n",
    "from isaacai.models import *\n",
    "from isaacai.initialization import *\n",
    "from isaacai.trainer import *\n",
    "from isaacai.training import *\n",
    "\n",
    "from datetime import datetime, timedelta\n",
    "import torchvision.transforms.functional as TF,torch.nn.functional as F\n",
    "import math, time\n",
    "\n",
    "import matplotlib.pyplot as plt\n",
    "import matplotlib as mpl\n",
    "import fastcore.all as fc\n",
    "import torch\n",
    "from torch import nn, Tensor\n",
    "from datasets import load_dataset, Dataset\n",
    "from torch.utils.data import DataLoader\n",
    "import pandas as pd , numpy as np\n",
    "from torcheval.metrics import MulticlassAccuracy,Mean\n",
    "from torch.optim.lr_scheduler import ExponentialLR\n",
    "\n",
    "import dill as pickle\n",
    "from fastprogress.fastprogress import master_bar, progress_bar\n",
    "import inspect\n",
    "import torchinfo"
   ]
  },
  {
   "cell_type": "code",
   "execution_count": null,
   "metadata": {},
   "outputs": [],
   "source": [
    "#|hide\n",
    "import logging"
   ]
  },
  {
   "cell_type": "code",
   "execution_count": null,
   "metadata": {},
   "outputs": [],
   "source": [
    "#|hide\n",
    "torch.set_printoptions(precision=2, linewidth=140, sci_mode=False)\n",
    "torch.manual_seed(1)\n",
    "# mpl.rcParams['image.cmap'] = 'gray'\n",
    "\n",
    "logging.disable(logging.WARNING)\n",
    "\n",
    "set_seed(42)\n"
   ]
  },
  {
   "cell_type": "code",
   "execution_count": null,
   "metadata": {},
   "outputs": [
    {
     "data": {
      "application/json": {
       "ascii": false,
       "bar_format": null,
       "colour": null,
       "elapsed": 0.031246662139892578,
       "initial": 0,
       "n": 0,
       "ncols": null,
       "nrows": null,
       "postfix": null,
       "prefix": "",
       "rate": null,
       "total": 2,
       "unit": "it",
       "unit_divisor": 1000,
       "unit_scale": false
      },
      "application/vnd.jupyter.widget-view+json": {
       "model_id": "5645d9e8b0d24059a517e1b5a75785d1",
       "version_major": 2,
       "version_minor": 0
      },
      "text/plain": [
       "  0%|          | 0/2 [00:00<?, ?it/s]"
      ]
     },
     "metadata": {},
     "output_type": "display_data"
    }
   ],
   "source": [
    "xmean,xstd = 0.28, 0.35\n",
    "@inplace\n",
    "def transformi(b): b['image'] = [(TF.to_tensor(o)-xmean)/xstd for o in b['image']]\n",
    "\n",
    "_dataset = load_dataset('fashion_mnist').with_transform(transformi)"
   ]
  },
  {
   "cell_type": "code",
   "execution_count": null,
   "metadata": {},
   "outputs": [
    {
     "data": {
      "text/plain": [
       "<function isaacai.dataloaders.sample_dataset_dict(dataset, sample_sizes=(500, 500))>"
      ]
     },
     "execution_count": null,
     "metadata": {},
     "output_type": "execute_result"
    }
   ],
   "source": [
    "sample_dataset_dict"
   ]
  },
  {
   "cell_type": "code",
   "execution_count": null,
   "metadata": {},
   "outputs": [],
   "source": [
    "dls = DataLoaders.from_dataset_dict(_dataset, 256, num_workers=4)"
   ]
  },
  {
   "cell_type": "markdown",
   "metadata": {},
   "source": [
    "## Core"
   ]
  },
  {
   "cell_type": "code",
   "execution_count": null,
   "metadata": {},
   "outputs": [],
   "source": [
    "#| export\n",
    "class MetricsCB(Callback):\n",
    "    '''Callback to track train/valid loss + metrics'''\n",
    "    def __init__(self, **metrics):\n",
    "        self.metrics = metrics\n",
    "        self.losses = {'train':Mean(),'valid':Mean()}\n",
    "        self.metrics_epoch,self.losses_epoch,self.losses_batch = [],[],[]\n",
    "            \n",
    "    def after_batch(self,trainer):\n",
    "        '''stores losses and metrics for batch'''        \n",
    "        self.losses[f\"{'train' if trainer.training else 'valid'}\"].update(to_cpu(trainer.loss),weight=len(trainer.batch[1]))\n",
    "        if not trainer.training:\n",
    "            preds,batch = map(to_cpu,[trainer.preds,trainer.batch[1]])    \n",
    "            for k in self.metrics: self.metrics[k].update(preds,batch)\n",
    "        self.losses_batch.append({'training':trainer.training,'loss':to_cpu(trainer.loss)})\n",
    "            \n",
    "    def cleanup_epoch(self,trainer):\n",
    "        '''compute metrics and append to epoch stats and display'''\n",
    "        if not trainer.training:\n",
    "            self.metrics_epoch.append({name:float(metric.compute()) for name, metric in self.metrics.items()})\n",
    "            self.losses_epoch.append({name:float(metric.compute()) for name, metric in self.losses.items()})\n",
    "\n",
    "            for metric in self.metrics.values(): metric.reset()\n",
    "            for metric in self.losses.values(): metric.reset()"
   ]
  },
  {
   "cell_type": "code",
   "execution_count": null,
   "metadata": {},
   "outputs": [],
   "source": [
    "trainer = Trainer(dls,\n",
    "                  nn.CrossEntropyLoss(), \n",
    "                  torch.optim.Adam, \n",
    "                  get_model_conv(), \n",
    "                  callbacks=[BasicTrainCB(),MetricsCB(accuracy=MulticlassAccuracy()), DeviceCB(),NBatchCB(2)])"
   ]
  },
  {
   "cell_type": "code",
   "execution_count": null,
   "metadata": {},
   "outputs": [],
   "source": [
    "trainer.fit()"
   ]
  },
  {
   "cell_type": "code",
   "execution_count": null,
   "metadata": {},
   "outputs": [],
   "source": [
    "fc.test_eq(pd.DataFrame(trainer.MetricsCB.losses_epoch).shape,(3,2))\n",
    "fc.test_eq(pd.DataFrame(trainer.MetricsCB.metrics_epoch).shape,(3,1))\n",
    "fc.test_eq(pd.DataFrame(trainer.MetricsCB.losses_batch).shape,(12,2))"
   ]
  },
  {
   "cell_type": "code",
   "execution_count": null,
   "metadata": {},
   "outputs": [],
   "source": [
    "#| export\n",
    "class ProgressCB(Callback):\n",
    "    '''Callback to display progress while training'''\n",
    "        \n",
    "    def before_fit(self,trainer):\n",
    "        '''Initialize Fit Progress Bar'''\n",
    "        trainer.epochs = master_bar(trainer.epochs)\n",
    "        \n",
    "    def before_epoch(self,trainer):\n",
    "        '''Initialize Epoch Progress Bar'''\n",
    "        trainer.batches = progress_bar(trainer.batches,parent=trainer.epochs)\n",
    "        trainer.epochs.child.comment = \"Training\" if trainer.training else \"Validation\"\n",
    "        \n",
    "    def cleanup_epoch(self,trainer):\n",
    "        '''Display Loss and Metric'''\n",
    "        if not trainer.training: \n",
    "            df = pd.concat(map(pd.DataFrame,[trainer.MetricsCB.losses_epoch,trainer.MetricsCB.metrics_epoch]),axis=1).tail(1)\n",
    "            if trainer.epoch != 0: df = df.style.set_table_styles([{'selector': 'thead', 'props': [('display', 'none')]}])\n",
    "            display(df)"
   ]
  },
  {
   "cell_type": "code",
   "execution_count": null,
   "metadata": {},
   "outputs": [],
   "source": [
    "trainer = Trainer(dls,\n",
    "                  nn.CrossEntropyLoss(), \n",
    "                  torch.optim.Adam, \n",
    "                  get_model_conv(), \n",
    "                  callbacks=[BasicTrainCB(),MetricsCB(accuracy=MulticlassAccuracy()), DeviceCB(),NBatchCB(3),ProgressCB()])"
   ]
  },
  {
   "cell_type": "code",
   "execution_count": null,
   "metadata": {},
   "outputs": [
    {
     "data": {
      "text/html": [
       "\n",
       "<style>\n",
       "    /* Turns off some styling */\n",
       "    progress {\n",
       "        /* gets rid of default border in Firefox and Opera. */\n",
       "        border: none;\n",
       "        /* Needs to be in here for Safari polyfill so background images work as expected. */\n",
       "        background-size: auto;\n",
       "    }\n",
       "    progress:not([value]), progress:not([value])::-webkit-progress-bar {\n",
       "        background: repeating-linear-gradient(45deg, #7e7e7e, #7e7e7e 10px, #5c5c5c 10px, #5c5c5c 20px);\n",
       "    }\n",
       "    .progress-bar-interrupted, .progress-bar-interrupted::-webkit-progress-bar {\n",
       "        background: #F44336;\n",
       "    }\n",
       "</style>\n"
      ],
      "text/plain": [
       "<IPython.core.display.HTML object>"
      ]
     },
     "metadata": {},
     "output_type": "display_data"
    },
    {
     "data": {
      "text/html": [],
      "text/plain": [
       "<IPython.core.display.HTML object>"
      ]
     },
     "metadata": {},
     "output_type": "display_data"
    },
    {
     "data": {
      "text/html": [
       "<div>\n",
       "<style scoped>\n",
       "    .dataframe tbody tr th:only-of-type {\n",
       "        vertical-align: middle;\n",
       "    }\n",
       "\n",
       "    .dataframe tbody tr th {\n",
       "        vertical-align: top;\n",
       "    }\n",
       "\n",
       "    .dataframe thead th {\n",
       "        text-align: right;\n",
       "    }\n",
       "</style>\n",
       "<table border=\"1\" class=\"dataframe\">\n",
       "  <thead>\n",
       "    <tr style=\"text-align: right;\">\n",
       "      <th></th>\n",
       "      <th>train</th>\n",
       "      <th>valid</th>\n",
       "      <th>accuracy</th>\n",
       "    </tr>\n",
       "  </thead>\n",
       "  <tbody>\n",
       "    <tr>\n",
       "      <th>0</th>\n",
       "      <td>2.2969</td>\n",
       "      <td>2.290148</td>\n",
       "      <td>0.121745</td>\n",
       "    </tr>\n",
       "  </tbody>\n",
       "</table>\n",
       "</div>"
      ],
      "text/plain": [
       "    train     valid  accuracy\n",
       "0  2.2969  2.290148  0.121745"
      ]
     },
     "metadata": {},
     "output_type": "display_data"
    },
    {
     "data": {
      "text/html": [
       "<style type=\"text/css\">\n",
       "#T_f9e2c thead {\n",
       "  display: none;\n",
       "}\n",
       "</style>\n",
       "<table id=\"T_f9e2c\">\n",
       "  <thead>\n",
       "    <tr>\n",
       "      <th class=\"blank level0\" >&nbsp;</th>\n",
       "      <th id=\"T_f9e2c_level0_col0\" class=\"col_heading level0 col0\" >train</th>\n",
       "      <th id=\"T_f9e2c_level0_col1\" class=\"col_heading level0 col1\" >valid</th>\n",
       "      <th id=\"T_f9e2c_level0_col2\" class=\"col_heading level0 col2\" >accuracy</th>\n",
       "    </tr>\n",
       "  </thead>\n",
       "  <tbody>\n",
       "    <tr>\n",
       "      <th id=\"T_f9e2c_level0_row0\" class=\"row_heading level0 row0\" >1</th>\n",
       "      <td id=\"T_f9e2c_row0_col0\" class=\"data row0 col0\" >2.284739</td>\n",
       "      <td id=\"T_f9e2c_row0_col1\" class=\"data row0 col1\" >2.268897</td>\n",
       "      <td id=\"T_f9e2c_row0_col2\" class=\"data row0 col2\" >0.341797</td>\n",
       "    </tr>\n",
       "  </tbody>\n",
       "</table>\n"
      ],
      "text/plain": [
       "<pandas.io.formats.style.Styler>"
      ]
     },
     "metadata": {},
     "output_type": "display_data"
    },
    {
     "data": {
      "text/html": [
       "<style type=\"text/css\">\n",
       "#T_2eeef thead {\n",
       "  display: none;\n",
       "}\n",
       "</style>\n",
       "<table id=\"T_2eeef\">\n",
       "  <thead>\n",
       "    <tr>\n",
       "      <th class=\"blank level0\" >&nbsp;</th>\n",
       "      <th id=\"T_2eeef_level0_col0\" class=\"col_heading level0 col0\" >train</th>\n",
       "      <th id=\"T_2eeef_level0_col1\" class=\"col_heading level0 col1\" >valid</th>\n",
       "      <th id=\"T_2eeef_level0_col2\" class=\"col_heading level0 col2\" >accuracy</th>\n",
       "    </tr>\n",
       "  </thead>\n",
       "  <tbody>\n",
       "    <tr>\n",
       "      <th id=\"T_2eeef_level0_row0\" class=\"row_heading level0 row0\" >2</th>\n",
       "      <td id=\"T_2eeef_row0_col0\" class=\"data row0 col0\" >2.253003</td>\n",
       "      <td id=\"T_2eeef_row0_col1\" class=\"data row0 col1\" >2.229459</td>\n",
       "      <td id=\"T_2eeef_row0_col2\" class=\"data row0 col2\" >0.414062</td>\n",
       "    </tr>\n",
       "  </tbody>\n",
       "</table>\n"
      ],
      "text/plain": [
       "<pandas.io.formats.style.Styler>"
      ]
     },
     "metadata": {},
     "output_type": "display_data"
    }
   ],
   "source": [
    "trainer.fit()"
   ]
  },
  {
   "cell_type": "code",
   "execution_count": null,
   "metadata": {},
   "outputs": [],
   "source": [
    "#| hide\n",
    "import nbdev; nbdev.nbdev_export()"
   ]
  },
  {
   "cell_type": "code",
   "execution_count": null,
   "metadata": {},
   "outputs": [],
   "source": []
  },
  {
   "cell_type": "code",
   "execution_count": null,
   "metadata": {},
   "outputs": [],
   "source": []
  }
 ],
 "metadata": {
  "kernelspec": {
   "display_name": "python3",
   "language": "python",
   "name": "python3"
  }
 },
 "nbformat": 4,
 "nbformat_minor": 4
}
